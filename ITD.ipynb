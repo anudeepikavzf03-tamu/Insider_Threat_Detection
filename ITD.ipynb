{
  "cells": [
    {
      "cell_type": "markdown",
      "source": [
        "Link to Dataset : https://kilthub.cmu.edu/articles/dataset/Insider_Threat_Test_Dataset/12841247/1\n"
      ],
      "metadata": {
        "id": "y3GKeLWfRUiM"
      }
    },
    {
      "cell_type": "markdown",
      "source": [
        "# Mounting Data Source"
      ],
      "metadata": {
        "id": "RqAc6HcyeTYJ"
      }
    },
    {
      "cell_type": "code",
      "execution_count": null,
      "metadata": {
        "colab": {
          "base_uri": "https://localhost:8080/"
        },
        "id": "TVfe8ZbiTnkw",
        "outputId": "5be308a6-ff73-40eb-bff6-3ba8b437ba8e"
      },
      "outputs": [
        {
          "output_type": "stream",
          "name": "stdout",
          "text": [
            "Mounted at /content/drive\n"
          ]
        }
      ],
      "source": [
        "from google.colab import drive\n",
        "drive.mount('/content/drive')"
      ]
    },
    {
      "cell_type": "code",
      "execution_count": null,
      "metadata": {
        "id": "9CXLquQSUfjK"
      },
      "outputs": [],
      "source": [
        "import numpy as np\n",
        "import pandas as pd\n",
        "path_to_dataset = \"/content/drive/MyDrive/DACS_Project/r4.2/\"\n",
        "log_types = [\"device\", \"email\", \"file\", \"logon\"] #http to be added\n",
        "log_fields_list = [\n",
        "    [\"date\", \"user\", \"activity\"],\n",
        "    [\"date\", \"user\", \"to\", \"cc\", \"bcc\"],\n",
        "    [\"date\", \"user\", \"filename\"],\n",
        "    [\"date\", \"user\", \"activity\"],\n",
        "    [\"date\", \"user\", \"url\"],\n",
        "]\n",
        "features = 0\n",
        "feature_map = {}\n",
        "\n",
        "def add_feature(name):\n",
        "    \"\"\"Add a feature to a dictionary to be encoded.\"\"\"\n",
        "    if name not in feature_map:\n",
        "        global features\n",
        "        feature_map[name] = features\n",
        "        features += 1"
      ]
    },
    {
      "cell_type": "markdown",
      "source": [
        "# Feature Extraction\n"
      ],
      "metadata": {
        "id": "FtNBBUj1ebhW"
      }
    },
    {
      "cell_type": "code",
      "execution_count": null,
      "metadata": {
        "id": "NmLofootVkOU"
      },
      "outputs": [],
      "source": [
        "add_feature(\"Weekday_Logon_Normal\")\n",
        "add_feature(\"Weekday_Logon_After\")\n",
        "add_feature(\"Weekend_Logon\")\n",
        "add_feature(\"Logoff\")\n",
        "\n",
        "add_feature(\"Connect_Normal\")\n",
        "add_feature(\"Connect_After\")\n",
        "add_feature(\"Connect_Weekend\")\n",
        "add_feature(\"Disconnect\")\n",
        "\n",
        "add_feature(\"Email_In\")\n",
        "add_feature(\"Email_Out\")\n",
        "\n",
        "add_feature(\"File_exe\")\n",
        "add_feature(\"File_jpg\")\n",
        "add_feature(\"File_zip\")\n",
        "add_feature(\"File_txt\")\n",
        "add_feature(\"File_doc\")\n",
        "add_feature(\"File_pdf\")\n",
        "add_feature(\"File_other\")\n",
        "\n",
        "add_feature(\"url\")\n",
        "\n",
        "def file_features(row):\n",
        "    \"\"\"Creates a feature recording the file extension of the file used.\"\"\"\n",
        "    if row[\"filename\"].endswith(\".exe\"):\n",
        "        return feature_map[\"File_exe\"]\n",
        "    if row[\"filename\"].endswith(\".jpg\"):\n",
        "        return feature_map[\"File_jpg\"]\n",
        "    if row[\"filename\"].endswith(\".zip\"):\n",
        "        return feature_map[\"File_zip\"]\n",
        "    if row[\"filename\"].endswith(\".txt\"):\n",
        "        return feature_map[\"File_txt\"]\n",
        "    if row[\"filename\"].endswith(\".doc\"):\n",
        "        return feature_map[\"File_doc\"]\n",
        "    if row[\"filename\"].endswith(\".pdf\"):\n",
        "        return feature_map[\"File_pdf\"]\n",
        "    else:\n",
        "        return feature_map[\"File_other\"]\n",
        "\n",
        "\n",
        "def email_features(row):\n",
        "    \"\"\"Creates a feature recording whether an email has been sent externally.\"\"\"\n",
        "    outsider = False\n",
        "    if not pd.isnull(row[\"to\"]):\n",
        "        for address in row[\"to\"].split(\";\"):\n",
        "            if not address.endswith(\"dtaa.com\"):\n",
        "                outsider = True\n",
        "\n",
        "    if not pd.isnull(row[\"cc\"]):\n",
        "        for address in row[\"cc\"].split(\";\"):\n",
        "            if not address.endswith(\"dtaa.com\"):\n",
        "                outsider = True\n",
        "\n",
        "    if not pd.isnull(row[\"bcc\"]):\n",
        "        for address in row[\"bcc\"].split(\";\"):\n",
        "            if not address.endswith(\"dtaa.com\"):\n",
        "                outsider = True\n",
        "    if outsider:\n",
        "        return feature_map[\"Email_Out\"]\n",
        "    else:\n",
        "        return feature_map[\"Email_In\"]\n",
        "\n",
        "\n",
        "def device_features(row):\n",
        "    \"\"\"Creates a feature for whether the user has connected during normal hours or otherwise.\"\"\"\n",
        "    if row[\"activity\"] == \"Connect\":\n",
        "        if row[\"date\"].weekday() < 5:\n",
        "            if row[\"date\"].hour >= 8 and row[\"date\"].hour < 17:\n",
        "                return feature_map[\"Connect_Normal\"]\n",
        "            else:\n",
        "                return feature_map[\"Connect_After\"]\n",
        "        else:\n",
        "            return feature_map[\"Connect_Weekend\"]\n",
        "    else:\n",
        "        return feature_map[\"Disconnect\"]\n",
        "\n",
        "\n",
        "\n",
        "def logon_features(row):\n",
        "    \"\"\"Creates a feature for whether the user logged in during normal hours or otherwise.\"\"\"\n",
        "    if row[\"activity\"] == \"Logon\":\n",
        "        if row[\"date\"].weekday() < 5:\n",
        "            if row[\"date\"].hour >= 8 and row[\"date\"].hour < 17:\n",
        "                return feature_map[\"Weekday_Logon_Normal\"]\n",
        "            else:\n",
        "                return feature_map[\"Weekday_Logon_After\"]\n",
        "        else:\n",
        "            return feature_map[\"Weekend_Logon\"]\n",
        "    else:\n",
        "        return feature_map[\"Logoff\"]\n",
        "\n",
        "\n",
        "def http_features(row):\n",
        "    \"\"\"Encodes the URL visited.\"\"\"\n",
        "    return feature_map[\"url\"]\n",
        "\n",
        "\n",
        "def date_to_day(row):\n",
        "    \"\"\"Converts a full datetime to date only.\"\"\"\n",
        "    day_only = row[\"date\"].date()\n",
        "    return day_only\n",
        "\n",
        "log_feature_functions = [\n",
        "    device_features,\n",
        "    email_features,\n",
        "    file_features,\n",
        "    logon_features,\n",
        "    http_features,\n",
        "]"
      ]
    },
    {
      "cell_type": "code",
      "source": [
        "feature_map"
      ],
      "metadata": {
        "colab": {
          "base_uri": "https://localhost:8080/"
        },
        "id": "u5kuR7BWPlNE",
        "outputId": "c26b386e-d221-4749-bcfa-e054667a2a8d"
      },
      "execution_count": null,
      "outputs": [
        {
          "output_type": "execute_result",
          "data": {
            "text/plain": [
              "{'Weekday_Logon_Normal': 0,\n",
              " 'Weekday_Logon_After': 1,\n",
              " 'Weekend_Logon': 2,\n",
              " 'Logoff': 3,\n",
              " 'Connect_Normal': 4,\n",
              " 'Connect_After': 5,\n",
              " 'Connect_Weekend': 6,\n",
              " 'Disconnect': 7,\n",
              " 'Email_In': 8,\n",
              " 'Email_Out': 9,\n",
              " 'File_exe': 10,\n",
              " 'File_jpg': 11,\n",
              " 'File_zip': 12,\n",
              " 'File_txt': 13,\n",
              " 'File_doc': 14,\n",
              " 'File_pdf': 15,\n",
              " 'File_other': 16,\n",
              " 'url': 17}"
            ]
          },
          "metadata": {},
          "execution_count": 5
        }
      ]
    },
    {
      "cell_type": "code",
      "execution_count": null,
      "metadata": {
        "colab": {
          "base_uri": "https://localhost:8080/"
        },
        "id": "dEvrXOelV0N7",
        "outputId": "12b0c1a7-80d2-4087-b266-042e9c29d12f"
      },
      "outputs": [
        {
          "output_type": "stream",
          "name": "stdout",
          "text": [
            "logtype device\n",
            "log_feature_function <function device_features at 0x7d972e703a30>\n",
            "logtype email\n",
            "log_feature_function <function email_features at 0x7d972e7039a0>\n",
            "logtype file\n",
            "log_feature_function <function file_features at 0x7d972e703910>\n",
            "logtype logon\n",
            "log_feature_function <function logon_features at 0x7d972e703ac0>\n"
          ]
        }
      ],
      "source": [
        "dfs = []\n",
        "for i in range(len(log_types)):\n",
        "    log_type = log_types[i]\n",
        "    print(\"logtype\",log_type)\n",
        "    log_fields = log_fields_list[i]\n",
        "    log_feature_function = log_feature_functions[i]\n",
        "    print(\"log_feature_function\", log_feature_function)\n",
        "    df = pd.read_csv(\n",
        "        path_to_dataset + log_type + \".csv\", usecols=log_fields, index_col=None\n",
        "    )\n",
        "    date_format = \"%m/%d/%Y %H:%M:%S\"\n",
        "    df[\"date\"] = pd.to_datetime(df[\"date\"], format=date_format)\n",
        "\n",
        "    new_feature = df.apply(log_feature_function, axis=1)\n",
        "    df[\"feature\"] = new_feature\n",
        "\n",
        "    cols_to_keep = [\"date\", \"user\", \"feature\"]\n",
        "    df = df[cols_to_keep]\n",
        "\n",
        "    df[\"date\"] = df.apply(date_to_day, axis=1)\n",
        "    # if (df[\"feature\"] == 4).any():\n",
        "    #   print(\"df when feature==4:\")\n",
        "    #   print(df[df[\"feature\"] == 4])\n",
        "    dfs.append(df)"
      ]
    },
    {
      "cell_type": "markdown",
      "source": [
        "# generating threat users list"
      ],
      "metadata": {
        "id": "kuNFaGuRevQM"
      }
    },
    {
      "cell_type": "code",
      "execution_count": null,
      "metadata": {
        "id": "m3zh4AI5LswI",
        "colab": {
          "base_uri": "https://localhost:8080/",
          "height": 206
        },
        "outputId": "2249433e-cc4d-46f5-a74e-f24995e362cf"
      },
      "outputs": [
        {
          "output_type": "execute_result",
          "data": {
            "text/plain": [
              "      user                                            feature\n",
              "0  AAE0190  [9, 3, 0, 8, 8, 8, 8, 8, 8, 9, 8, 8, 8, 8, 8, ...\n",
              "1  AAF0535  [9, 8, 8, 0, 3, 8, 14, 8, 9, 0, 3, 4, 7, 4, 7,...\n",
              "2  AAF0791  [9, 8, 9, 9, 9, 9, 9, 8, 9, 3, 0, 9, 9, 9, 8, ...\n",
              "3  AAL0706  [8, 3, 1, 9, 1, 3, 1, 3, 8, 9, 1, 3, 9, 1, 3, ...\n",
              "4  AAM0658  [8, 9, 8, 3, 0, 8, 8, 8, 0, 3, 3, 0, 8, 9, 9, ..."
            ],
            "text/html": [
              "\n",
              "  <div id=\"df-f69732b8-eb7a-46dc-a491-320001b98ffe\" class=\"colab-df-container\">\n",
              "    <div>\n",
              "<style scoped>\n",
              "    .dataframe tbody tr th:only-of-type {\n",
              "        vertical-align: middle;\n",
              "    }\n",
              "\n",
              "    .dataframe tbody tr th {\n",
              "        vertical-align: top;\n",
              "    }\n",
              "\n",
              "    .dataframe thead th {\n",
              "        text-align: right;\n",
              "    }\n",
              "</style>\n",
              "<table border=\"1\" class=\"dataframe\">\n",
              "  <thead>\n",
              "    <tr style=\"text-align: right;\">\n",
              "      <th></th>\n",
              "      <th>user</th>\n",
              "      <th>feature</th>\n",
              "    </tr>\n",
              "  </thead>\n",
              "  <tbody>\n",
              "    <tr>\n",
              "      <th>0</th>\n",
              "      <td>AAE0190</td>\n",
              "      <td>[9, 3, 0, 8, 8, 8, 8, 8, 8, 9, 8, 8, 8, 8, 8, ...</td>\n",
              "    </tr>\n",
              "    <tr>\n",
              "      <th>1</th>\n",
              "      <td>AAF0535</td>\n",
              "      <td>[9, 8, 8, 0, 3, 8, 14, 8, 9, 0, 3, 4, 7, 4, 7,...</td>\n",
              "    </tr>\n",
              "    <tr>\n",
              "      <th>2</th>\n",
              "      <td>AAF0791</td>\n",
              "      <td>[9, 8, 9, 9, 9, 9, 9, 8, 9, 3, 0, 9, 9, 9, 8, ...</td>\n",
              "    </tr>\n",
              "    <tr>\n",
              "      <th>3</th>\n",
              "      <td>AAL0706</td>\n",
              "      <td>[8, 3, 1, 9, 1, 3, 1, 3, 8, 9, 1, 3, 9, 1, 3, ...</td>\n",
              "    </tr>\n",
              "    <tr>\n",
              "      <th>4</th>\n",
              "      <td>AAM0658</td>\n",
              "      <td>[8, 9, 8, 3, 0, 8, 8, 8, 0, 3, 3, 0, 8, 9, 9, ...</td>\n",
              "    </tr>\n",
              "  </tbody>\n",
              "</table>\n",
              "</div>\n",
              "    <div class=\"colab-df-buttons\">\n",
              "\n",
              "  <div class=\"colab-df-container\">\n",
              "    <button class=\"colab-df-convert\" onclick=\"convertToInteractive('df-f69732b8-eb7a-46dc-a491-320001b98ffe')\"\n",
              "            title=\"Convert this dataframe to an interactive table.\"\n",
              "            style=\"display:none;\">\n",
              "\n",
              "  <svg xmlns=\"http://www.w3.org/2000/svg\" height=\"24px\" viewBox=\"0 -960 960 960\">\n",
              "    <path d=\"M120-120v-720h720v720H120Zm60-500h600v-160H180v160Zm220 220h160v-160H400v160Zm0 220h160v-160H400v160ZM180-400h160v-160H180v160Zm440 0h160v-160H620v160ZM180-180h160v-160H180v160Zm440 0h160v-160H620v160Z\"/>\n",
              "  </svg>\n",
              "    </button>\n",
              "\n",
              "  <style>\n",
              "    .colab-df-container {\n",
              "      display:flex;\n",
              "      gap: 12px;\n",
              "    }\n",
              "\n",
              "    .colab-df-convert {\n",
              "      background-color: #E8F0FE;\n",
              "      border: none;\n",
              "      border-radius: 50%;\n",
              "      cursor: pointer;\n",
              "      display: none;\n",
              "      fill: #1967D2;\n",
              "      height: 32px;\n",
              "      padding: 0 0 0 0;\n",
              "      width: 32px;\n",
              "    }\n",
              "\n",
              "    .colab-df-convert:hover {\n",
              "      background-color: #E2EBFA;\n",
              "      box-shadow: 0px 1px 2px rgba(60, 64, 67, 0.3), 0px 1px 3px 1px rgba(60, 64, 67, 0.15);\n",
              "      fill: #174EA6;\n",
              "    }\n",
              "\n",
              "    .colab-df-buttons div {\n",
              "      margin-bottom: 4px;\n",
              "    }\n",
              "\n",
              "    [theme=dark] .colab-df-convert {\n",
              "      background-color: #3B4455;\n",
              "      fill: #D2E3FC;\n",
              "    }\n",
              "\n",
              "    [theme=dark] .colab-df-convert:hover {\n",
              "      background-color: #434B5C;\n",
              "      box-shadow: 0px 1px 3px 1px rgba(0, 0, 0, 0.15);\n",
              "      filter: drop-shadow(0px 1px 2px rgba(0, 0, 0, 0.3));\n",
              "      fill: #FFFFFF;\n",
              "    }\n",
              "  </style>\n",
              "\n",
              "    <script>\n",
              "      const buttonEl =\n",
              "        document.querySelector('#df-f69732b8-eb7a-46dc-a491-320001b98ffe button.colab-df-convert');\n",
              "      buttonEl.style.display =\n",
              "        google.colab.kernel.accessAllowed ? 'block' : 'none';\n",
              "\n",
              "      async function convertToInteractive(key) {\n",
              "        const element = document.querySelector('#df-f69732b8-eb7a-46dc-a491-320001b98ffe');\n",
              "        const dataTable =\n",
              "          await google.colab.kernel.invokeFunction('convertToInteractive',\n",
              "                                                    [key], {});\n",
              "        if (!dataTable) return;\n",
              "\n",
              "        const docLinkHtml = 'Like what you see? Visit the ' +\n",
              "          '<a target=\"_blank\" href=https://colab.research.google.com/notebooks/data_table.ipynb>data table notebook</a>'\n",
              "          + ' to learn more about interactive tables.';\n",
              "        element.innerHTML = '';\n",
              "        dataTable['output_type'] = 'display_data';\n",
              "        await google.colab.output.renderOutput(dataTable, element);\n",
              "        const docLink = document.createElement('div');\n",
              "        docLink.innerHTML = docLinkHtml;\n",
              "        element.appendChild(docLink);\n",
              "      }\n",
              "    </script>\n",
              "  </div>\n",
              "\n",
              "\n",
              "<div id=\"df-39bbdf15-8286-4d4c-9863-97186ff9d5ce\">\n",
              "  <button class=\"colab-df-quickchart\" onclick=\"quickchart('df-39bbdf15-8286-4d4c-9863-97186ff9d5ce')\"\n",
              "            title=\"Suggest charts\"\n",
              "            style=\"display:none;\">\n",
              "\n",
              "<svg xmlns=\"http://www.w3.org/2000/svg\" height=\"24px\"viewBox=\"0 0 24 24\"\n",
              "     width=\"24px\">\n",
              "    <g>\n",
              "        <path d=\"M19 3H5c-1.1 0-2 .9-2 2v14c0 1.1.9 2 2 2h14c1.1 0 2-.9 2-2V5c0-1.1-.9-2-2-2zM9 17H7v-7h2v7zm4 0h-2V7h2v10zm4 0h-2v-4h2v4z\"/>\n",
              "    </g>\n",
              "</svg>\n",
              "  </button>\n",
              "\n",
              "<style>\n",
              "  .colab-df-quickchart {\n",
              "      --bg-color: #E8F0FE;\n",
              "      --fill-color: #1967D2;\n",
              "      --hover-bg-color: #E2EBFA;\n",
              "      --hover-fill-color: #174EA6;\n",
              "      --disabled-fill-color: #AAA;\n",
              "      --disabled-bg-color: #DDD;\n",
              "  }\n",
              "\n",
              "  [theme=dark] .colab-df-quickchart {\n",
              "      --bg-color: #3B4455;\n",
              "      --fill-color: #D2E3FC;\n",
              "      --hover-bg-color: #434B5C;\n",
              "      --hover-fill-color: #FFFFFF;\n",
              "      --disabled-bg-color: #3B4455;\n",
              "      --disabled-fill-color: #666;\n",
              "  }\n",
              "\n",
              "  .colab-df-quickchart {\n",
              "    background-color: var(--bg-color);\n",
              "    border: none;\n",
              "    border-radius: 50%;\n",
              "    cursor: pointer;\n",
              "    display: none;\n",
              "    fill: var(--fill-color);\n",
              "    height: 32px;\n",
              "    padding: 0;\n",
              "    width: 32px;\n",
              "  }\n",
              "\n",
              "  .colab-df-quickchart:hover {\n",
              "    background-color: var(--hover-bg-color);\n",
              "    box-shadow: 0 1px 2px rgba(60, 64, 67, 0.3), 0 1px 3px 1px rgba(60, 64, 67, 0.15);\n",
              "    fill: var(--button-hover-fill-color);\n",
              "  }\n",
              "\n",
              "  .colab-df-quickchart-complete:disabled,\n",
              "  .colab-df-quickchart-complete:disabled:hover {\n",
              "    background-color: var(--disabled-bg-color);\n",
              "    fill: var(--disabled-fill-color);\n",
              "    box-shadow: none;\n",
              "  }\n",
              "\n",
              "  .colab-df-spinner {\n",
              "    border: 2px solid var(--fill-color);\n",
              "    border-color: transparent;\n",
              "    border-bottom-color: var(--fill-color);\n",
              "    animation:\n",
              "      spin 1s steps(1) infinite;\n",
              "  }\n",
              "\n",
              "  @keyframes spin {\n",
              "    0% {\n",
              "      border-color: transparent;\n",
              "      border-bottom-color: var(--fill-color);\n",
              "      border-left-color: var(--fill-color);\n",
              "    }\n",
              "    20% {\n",
              "      border-color: transparent;\n",
              "      border-left-color: var(--fill-color);\n",
              "      border-top-color: var(--fill-color);\n",
              "    }\n",
              "    30% {\n",
              "      border-color: transparent;\n",
              "      border-left-color: var(--fill-color);\n",
              "      border-top-color: var(--fill-color);\n",
              "      border-right-color: var(--fill-color);\n",
              "    }\n",
              "    40% {\n",
              "      border-color: transparent;\n",
              "      border-right-color: var(--fill-color);\n",
              "      border-top-color: var(--fill-color);\n",
              "    }\n",
              "    60% {\n",
              "      border-color: transparent;\n",
              "      border-right-color: var(--fill-color);\n",
              "    }\n",
              "    80% {\n",
              "      border-color: transparent;\n",
              "      border-right-color: var(--fill-color);\n",
              "      border-bottom-color: var(--fill-color);\n",
              "    }\n",
              "    90% {\n",
              "      border-color: transparent;\n",
              "      border-bottom-color: var(--fill-color);\n",
              "    }\n",
              "  }\n",
              "</style>\n",
              "\n",
              "  <script>\n",
              "    async function quickchart(key) {\n",
              "      const quickchartButtonEl =\n",
              "        document.querySelector('#' + key + ' button');\n",
              "      quickchartButtonEl.disabled = true;  // To prevent multiple clicks.\n",
              "      quickchartButtonEl.classList.add('colab-df-spinner');\n",
              "      try {\n",
              "        const charts = await google.colab.kernel.invokeFunction(\n",
              "            'suggestCharts', [key], {});\n",
              "      } catch (error) {\n",
              "        console.error('Error during call to suggestCharts:', error);\n",
              "      }\n",
              "      quickchartButtonEl.classList.remove('colab-df-spinner');\n",
              "      quickchartButtonEl.classList.add('colab-df-quickchart-complete');\n",
              "    }\n",
              "    (() => {\n",
              "      let quickchartButtonEl =\n",
              "        document.querySelector('#df-39bbdf15-8286-4d4c-9863-97186ff9d5ce button');\n",
              "      quickchartButtonEl.style.display =\n",
              "        google.colab.kernel.accessAllowed ? 'block' : 'none';\n",
              "    })();\n",
              "  </script>\n",
              "</div>\n",
              "    </div>\n",
              "  </div>\n"
            ]
          },
          "metadata": {},
          "execution_count": 8
        }
      ],
      "source": [
        "# Group by 'user' and aggregate the features\n",
        "grouped_df = joint.groupby('user')['feature'].agg(list).reset_index()\n",
        "\n",
        "grouped_df.head()"
      ]
    },
    {
      "cell_type": "code",
      "execution_count": null,
      "metadata": {
        "id": "bEw5RzRMQP5M",
        "colab": {
          "base_uri": "https://localhost:8080/"
        },
        "outputId": "cf14382d-3aae-4bf2-fa36-a61b11f79fac"
      },
      "outputs": [
        {
          "output_type": "stream",
          "name": "stdout",
          "text": [
            "{'user': ['AAE0190', 'AAF0535', 'AAF0791', 'AAL0706', 'AAM0658', 'AAN0823', 'AAS0442', 'AAV0450', 'AAW0353', 'ABC0174', 'ABC0253', 'ABH0663', 'ABM0845', 'ABN0239', 'ACC0042', 'ACV0812', 'ADC0391', 'ADD0846', 'ADF0397', 'AES0827', 'AGB0186', 'AGB0643', 'AHC0142', 'AHD0848', 'AHG0634', 'AHM0410', 'AIB0948', 'AIH0675', 'AIM0627', 'AIP0394', 'AIP0982', 'AIS0405', 'AJC0840', 'AJD0074', 'AJF0370', 'AJH0175', 'AJL0462', 'AJN0607', 'AJP0723', 'AJR0319', 'AJR0932', 'AKC0924', 'AKF0709', 'AKH0758', 'AKK0329', 'AKR0057', 'AKW0167', 'ALB0892', 'ALC0788', 'ALD0529', 'ALD0544', 'ALH0402', 'AMD0077', 'AMH0464', 'AMH0794', 'AMJ0297', 'AMM0014', 'AMR0318', 'AMR0400', 'AMV0036', 'AMW0392', 'ANM0123', 'ANP0555', 'ANT0430', 'AOB0019', 'AOK0844', 'AOS0987', 'APG0307', 'AQD0820', 'ARA0252', 'ARB0834', 'ARB0881', 'ARD0509', 'ARL0034', 'ASB0796', 'ASD0577', 'ASG0048', 'ASG0692', 'ASL0378', 'ASM0575', 'ASS0206', 'ASS0517', 'ASV0946', 'ATE0869', 'ATF0274', 'ATP0662', 'AVM0947', 'AWM0764', 'BAH0875', 'BAJ0654', 'BAK0964', 'BAL0044', 'BAM0611', 'BAM0636', 'BBG0325', 'BBH0810', 'BBS0039', 'BBS0422', 'BCB0679', 'BCM0653', 'BCR0581', 'BDB0453', 'BDI0533', 'BDV0168', 'BEC0505', 'BEH0615', 'BER0314', 'BHC0665', 'BHW0458', 'BIH0745', 'BIS0247', 'BJH0354', 'BJH0811', 'BJM0111', 'BJP0134', 'BJW0619', 'BKW0374', 'BLB0114', 'BLL0929', 'BLS0678', 'BMC0547', 'BMG0917', 'BMM0112', 'BMS0877', 'BMT0528', 'BNG0237', 'BNR0965', 'BQS0525', 'BRB0355', 'BRM0995', 'BRS0734', 'BSA0431', 'BSB0990', 'BSH0445', 'BSS0369', 'BSS0463', 'BTL0226', 'BTL0722', 'BTN0061', 'BTR0403', 'BTS0011', 'BTW0005', 'BVC0790', 'BVN0514', 'BWH0813', 'BWP0202', 'BXJ0010', 'BYP0070', 'CAA0612', 'CAB0388', 'CAB0614', 'CAC0889', 'CAH0936', 'CAM0102', 'CAM0681', 'CAN0842', 'CAS0507', 'CBB0365', 'CBG0398', 'CBG0490', 'CCA0046', 'CCC0393', 'CCH0182', 'CCH0685', 'CCL0068', 'CCM0136', 'CCM0467', 'CCM0855', 'CCR0863', 'CCW0031', 'CCW0524', 'CEB0210', 'CEJ0109', 'CEL0561', 'CFG0959', 'CFM0767', 'CFW0264', 'CGA0629', 'CGB0637', 'CGF0337', 'CHG0146', 'CHM0821', 'CIG0052', 'CIM0271', 'CIM0926', 'CJC0494', 'CJF0802', 'CJG0470', 'CJH0702', 'CJK0200', 'CJM0138', 'CJM0521', 'CJP0952', 'CJV0286', 'CKB0427', 'CKB0482', 'CKD0680', 'CKH0144', 'CKP0721', 'CLB0774', 'CLD0894', 'CLF0852', 'CLH0703', 'CLS0296', 'CMB0912', 'CMM0487', 'CMS0454', 'CMW0783', 'CNB0900', 'CNE0352', 'CNM0800', 'COF0120', 'COM0321', 'CPG0322', 'CQH0701', 'CQH0730', 'CQW0652', 'CRD0624', 'CRK0916', 'CRO0027', 'CRP0456', 'CSB0080', 'CSC0217', 'CSH0626', 'CSJ0340', 'CSL0949', 'CSP0197', 'CTA0020', 'CTR0341', 'CTR0697', 'CTW0500', 'CUD0795', 'CWB0065', 'CWR0502', 'CXC0336', 'CYA0506', 'DAG0558', 'DAL0673', 'DAR0885', 'DBB0384', 'DBG0261', 'DBS0235', 'DBW0483', 'DCC0160', 'DCH0843', 'DDA0476', 'DDM0579', 'DEB0782', 'DFH0188', 'DFR0218', 'DGF0443', 'DGM0754', 'DGN0480', 'DGW0752', 'DHM0937', 'DIB0081', 'DIB0285', 'DIC0988', 'DID0650', 'DIW0118', 'DJB0159', 'DJS0682', 'DKB0631', 'DLF0377', 'DLH0029', 'DLM0051', 'DLS0383', 'DMG0358', 'DMK0257', 'DMM0623', 'DOL0332', 'DOP0562', 'DPM0423', 'DPS0262', 'DRR0162', 'DRR0242', 'DSB0731', 'DSM0591', 'DTP0379', 'DTT0076', 'DVM0265', 'DVW0103', 'DZC0228', 'EAH0466', 'EBC0390', 'ECF0828', 'ECL0930', 'ECR0822', 'EDA0684', 'EDB0714', 'EFS0882', 'EGD0132', 'EGD0409', 'EGK0893', 'EHB0420', 'EHB0824', 'EHD0584', 'EHR0096', 'EIM0156', 'EIP0997', 'EIS0041', 'EJW0884', 'ELB0847', 'ELH0960', 'ELT0769', 'EMB0531', 'EMS0317', 'EMW0105', 'EMW0772', 'ENC0234', 'ENL0100', 'EPW0434', 'ERH0449', 'ESA0642', 'ESH0135', 'ESH0283', 'ESJ0670', 'ESR0693', 'ETR0177', 'ETR0428', 'EWH0191', 'EZH0736', 'EZT0640', 'FAW0032', 'FBA0348', 'FBW0747', 'FDE0117', 'FEB0306', 'FFC0891', 'FGW0853', 'FHO0630', 'FHS0837', 'FIR0920', 'FKB0163', 'FKK0055', 'FLM0213', 'FMG0527', 'FOB0756', 'FPC0954', 'FQA0854', 'FRB0023', 'FRL0511', 'FRR0832', 'FSB0399', 'FSC0601', 'FTM0406', 'FUM0015', 'FWM0707', 'FXF0957', 'GAF0060', 'GAF0570', 'GBM0603', 'GCC0744', 'GCC0945', 'GCG0951', 'GCL0016', 'GCR0554', 'GCS0518', 'GCS0571', 'GDF0704', 'GHH0288', 'GHL0460', 'GJD0298', 'GJT0386', 'GKO0078', 'GLR0975', 'GMF0738', 'GNS0178', 'GNZ0953', 'GOK0238', 'GQF0659', 'GQP0743', 'GRC0145', 'GRM0868', 'GTD0116', 'GTD0219', 'GTD0898', 'GZB0469', 'GZC0735', 'HAC0282', 'HAD0246', 'HAH0248', 'HAH0760', 'HAM0985', 'HAV0121', 'HBB0056', 'HBO0413', 'HCC0344', 'HCL0113', 'HCL0651', 'HCM0267', 'HCS0003', 'HCV0478', 'HCW0419', 'HDD0789', 'HDD0806', 'HDH0928', 'HDJ0446', 'HDL0748', 'HDS0367', 'HFB0347', 'HGG0240', 'HGH0595', 'HGN0287', 'HIA0414', 'HIW0536', 'HJA0018', 'HJB0742', 'HJS0072', 'HKB0418', 'HKF0831', 'HKI0171', 'HKR0628', 'HLH0512', 'HLM0933', 'HMM0108', 'HMW0713', 'HOB0994', 'HPH0075', 'HPM0986', 'HPR0585', 'HRB0351', 'HRD0635', 'HRL0540', 'HRW0550', 'HSB0196', 'HSD0457', 'HSG0818', 'HSP0290', 'HTF0641', 'HTH0007', 'HVB0037', 'HVF0067', 'HWH0646', 'HWM0342', 'HWW0436', 'HWY0038', 'HXL0968', 'IAR0694', 'IAT0263', 'IBB0359', 'IBB0696', 'IBM0671', 'IBP0883', 'IBS0836', 'ICH0294', 'ICS0956', 'IDO0176', 'IEB0153', 'IHK0841', 'IIA0092', 'IIL0513', 'IIW0249', 'IJM0139', 'IJM0444', 'IJM0776', 'IJR0825', 'IJW0851', 'IKP0472', 'IKR0401', 'ILC0838', 'ILH0958', 'ILJ0526', 'ILR0304', 'IMB0481', 'IMG0320', 'IMP0530', 'IRM0931', 'IRT0491', 'IUB0565', 'IUY0279', 'IWM0816', 'IYB0918', 'JAD0609', 'JAJ0849', 'JAM0382', 'JAV0361', 'JBD0616', 'JBM0350', 'JCC0225', 'JCG0316', 'JCR0172', 'JCR0289', 'JCR0770', 'JCR0921', 'JCV0245', 'JCW0858', 'JDB0169', 'JDC0030', 'JDF0593', 'JER0404', 'JFC0557', 'JFC0757', 'JGM0934', 'JGT0221', 'JHP0583', 'JIG0128', 'JIM0095', 'JJB0127', 'JJB0700', 'JJH0292', 'JJH0613', 'JJM0203', 'JKB0126', 'JKF0465', 'JKJ0698', 'JKM0303', 'JLM0364', 'JLW0053', 'JMB0308', 'JMC0925', 'JMD0520', 'JMH0543', 'JMK0099', 'JML0909', 'JMW0638', 'JNA0559', 'JNJ0556', 'JOL0024', 'JOM0750', 'JPA0667', 'JPW0741', 'JRF0835', 'JRG0207', 'JRH0455', 'JRL0574', 'JRS0362', 'JSA0775', 'JSH0330', 'JTM0223', 'JTS0389', 'JXH0493', 'JZD0888', 'KAC0124', 'KAL0395', 'KAT0270', 'KAT0489', 'KBB0189', 'KBC0054', 'KBG0549', 'KBL0260', 'KBP0008', 'KBS0874', 'KCB0815', 'KCF0045', 'KCO0122', 'KCS0173', 'KDS0349', 'KDT0346', 'KES0729', 'KJA0152', 'KJG0910', 'KJJ0293', 'KJM0887', 'KJP0371', 'KJS0618', 'KJW0416', 'KKC0683', 'KKS0119', 'KKW0879', 'KLH0596', 'KLM0639', 'KMB0922', 'KMS0657', 'KMW0545', 'KNB0022', 'KNG0672', 'KNW0644', 'KPC0073', 'KPP0452', 'KPR0497', 'KQC0708', 'KQS0415', 'KRG0158', 'KRL0062', 'KRL0501', 'KRM0541', 'KRV0372', 'KSH0569', 'KSP0357', 'KSP0966', 'KTG0091', 'KVS0425', 'KVT0028', 'KWC0004', 'KWE0082', 'LAF0991', 'LAM0911', 'LAP0338', 'LBC0356', 'LBF0214', 'LBH0942', 'LCB0664', 'LCC0819', 'LCD0622', 'LDB0090', 'LDD0560', 'LDG0459', 'LDM0587', 'LEM0605', 'LFS0071', 'LHB0606', 'LHB0967', 'LHL0309', 'LHN0151', 'LIM0674', 'LJB0826', 'LJJ0905', 'LJR0523', 'LJT0817', 'LLV0602', 'LMF0980', 'LNR0656', 'LNS0989', 'LOF0311', 'LOM0086', 'LPC0492', 'LPH0572', 'LQC0479', 'LQP0508', 'LRR0148', 'LRW0970', 'LTS0860', 'LUR0896', 'MAD0496', 'MAD0753', 'MAE0331', 'MAH0149', 'MAH0864', 'MAR0955', 'MAS0025', 'MAW0166', 'MBG0438', 'MBJ0312', 'MBR0724', 'MBW0809', 'MCD0125', 'MCF0327', 'MCF0600', 'MCJ0324', 'MCS0035', 'MCT0720', 'MDH0580', 'MDH0686', 'MDM0625', 'MDM0976', 'MES0407', 'MFV0897', 'MGS0974', 'MHA0798', 'MHG0244', 'MHG0733', 'MHH0180', 'MIB0904', 'MIC0726', 'MIL0255', 'MIM0712', 'MJB0588', 'MJM0510', 'MJS0890', 'MKG0711', 'MKL0941', 'MKP0861', 'MKS0204', 'MKW0441', 'MLD0755', 'MLG0475', 'MLL0598', 'MLM0950', 'MLP0668', 'MMB0488', 'MMG0943', 'MNC0717', 'MNR0829', 'MNS0224', 'MOH0273', 'MOP0763', 'MOS0047', 'MPM0220', 'MPT0376', 'MSD0939', 'MSG0839', 'MSH0040', 'MSO0222', 'MSS0001', 'MSZ0310', 'MTB0620', 'MTT0901', 'MVB0515', 'MVF0594', 'MVH0373', 'MYD0978', 'NAB0801', 'NAB0903', 'NAF0033', 'NAF0326', 'NAH0503', 'NAR0981', 'NBC0412', 'NBH0256', 'NCE0097', 'NCH0179', 'NCK0295', 'NCK0421', 'NCO0666', 'NDM0417', 'NGC0058', 'NGF0157', 'NGO0690', 'NHE0919', 'NHH0185', 'NIH0969', 'NJB0243', 'NJC0705', 'NKH0807', 'NKH0979', 'NKP0236', 'NLO0131', 'NMB0972', 'NMC0486', 'NMF0780', 'NMG0766', 'NMS0280', 'NNA0610', 'NNS0059', 'NOB0181', 'NRD0548', 'NRF0137', 'NRO0768', 'NSC0597', 'NSS0876', 'NUL0471', 'NWK0215', 'NWT0098', 'OBH0499', 'OCB0805', 'OCS0865', 'OHC0973', 'OJK0233', 'OKB0439', 'OKC0107', 'OLB0749', 'OLF0504', 'OLW0689', 'OMM0944', 'OMS0101', 'ONL0276', 'ONW0083', 'OQH0183', 'ORB0473', 'ORG0339', 'ORM0669', 'OSH0655', 'OYM0026', 'PAD0773', 'PBP0002', 'PDH0716', 'PDW0259', 'PES0085', 'PEV0323', 'PGC0066', 'PGH0184', 'PGO0433', 'PID0426', 'PIS0522', 'PKB0281', 'PKB0429', 'PLH0715', 'PLH0862', 'PMC0328', 'PMJ0564', 'PMV0850', 'PNH0761', 'PNL0301', 'POB0343', 'PPF0435', 'PRM0740', 'PSF0133', 'PTH0552', 'PTH0830', 'QCH0110', 'QJR0688', 'QNF0205', 'QNP0216', 'QOS0878', 'QPM0727', 'QRM0739', 'QSV0778', 'RAB0589', 'RAG0275', 'RAH0440', 'RAM0447', 'RAR0725', 'RAS0432', 'RAW0915', 'RBB0485', 'RCC0617', 'RCP0785', 'RDM0115', 'RDM0150', 'RDT0424', 'RFP0380', 'RGG0064', 'RGH0728', 'RGN0408', 'RHC0335', 'RHL0992', 'RHO0732', 'RHP0484', 'RHY0079', 'RIH0777', 'RJB0088', 'RJM0381', 'RKD0604', 'RKF0164', 'RLB0719', 'RLG0856', 'RMS0266', 'RMW0542', 'RNF0765', 'RNL0695', 'RNP0211', 'ROB0272', 'RRA0938', 'RRC0553', 'RRP0568', 'RSC0089', 'RSM0277', 'RTO0313', 'RUM0880', 'RVC0232', 'RVF0201', 'RYB0718', 'RZC0746', 'SAA0999', 'SAB0781', 'SAC0592', 'SAC0687', 'SAH0599', 'SAK0375', 'SAP0867', 'SAT0194', 'SBD0913', 'SBH0537', 'SBK0161', 'SBN0495', 'SBN0866', 'SBN0971', 'SBQ0786', 'SCB0534', 'SCF0608', 'SCP0130', 'SDB0106', 'SDF0017', 'SDO0170', 'SED0886', 'SEJ0677', 'SER0165', 'SES0477', 'SGB0140', 'SGG0787', 'SGM0021', 'SGS0268', 'SHR0334', 'SHW0578', 'SIJ0661', 'SJC0333', 'SJF0094', 'SJO0209', 'SJW0451', 'SKG0759', 'SLB0049', 'SLP0762', 'SLT0907', 'SMB0804', 'SMH0291', 'SMW0084', 'SMY0792', 'SNC0187', 'SNS0129', 'SOB0360', 'SOB0586', 'SOF0808', 'SOG0411', 'SPA0141', 'SRH0155', 'SRS0231', 'SSG0250', 'SSH0799', 'SSJ0784', 'SSR0278', 'SSS0345', 'SVL0803', 'SVL0940', 'SVS0871', 'SXM0895', 'TAC0300', 'TAP0551', 'TBT0461', 'TCD0009', 'TDG0962', 'TDJ0998', 'TDS0984', 'TEB0251', 'TEM0093', 'TEM0977', 'TET0621', 'THD0448', 'THR0873', 'TIW0299', 'TJB0302', 'TJD0996', 'TJG0582', 'TLH0648', 'TLK0993', 'TLM0797', 'TMA0069', 'TNM0961', 'TOR0193', 'TPH0474', 'TQS0212', 'TRK0914', 'TSB0437', 'TSG0906', 'TSM0363', 'TSM0927', 'TSR0676', 'TTD1000', 'TUC0632', 'TVS0006', 'TVS0050', 'TYB0779', 'UAD0771', 'UBF0645', 'UCH0519', 'UCS0227', 'UFK0208', 'UIR0043', 'UJC0737', 'USH0199', 'VAA0087', 'VCC0396', 'VCY0751', 'VEB0935', 'VFM0814', 'VIA0063', 'VLB0647', 'VMJ0147', 'VMJ0546', 'VSA0230', 'VSS0154', 'VTT0385', 'WAB0143', 'WAS0254', 'WBC0192', 'WBC0315', 'WDD0366', 'WDO0870', 'WDV0573', 'WGR0833', 'WGS0516', 'WIF0691', 'WIQ0567', 'WJD0576', 'WKD0013', 'WKF0012', 'WLV0566', 'WNB0908', 'WPE0538', 'WPR0368', 'WRM0963', 'WSR0241', 'WTF0387', 'WTR0563', 'WVB0539', 'WXH0872', 'XAA0104', 'XBN0229', 'XHG0902', 'XHW0498', 'XLB0710', 'XRS0633', 'XWD0923', 'YCE0983', 'YDN0198', 'YEV0793', 'YIC0195', 'YJF0532', 'YJV0699', 'YWW0660', 'ZCF0590', 'ZDW0859', 'ZFM0468', 'ZJE0857', 'ZJS0269', 'ZKS0899', 'ZMC0284', 'ZSB0649', 'ZSK0258', 'ZSL0305'], 'feature_list': [{9: 2237, 3: 346, 0: 346, 8: 2474}, {9: 191, 8: 289, 0: 164, 3: 164, 14: 228, 4: 346, 7: 342, 15: 68, 11: 23, 13: 23, 12: 12, 10: 3}, {9: 1847, 8: 1165, 3: 346, 0: 346}, {8: 147, 3: 346, 1: 346, 9: 189}, {8: 328, 9: 331, 3: 229, 0: 224, 7: 6, 5: 6, 1: 4, 15: 6, 14: 17, 13: 6, 2: 1, 6: 1, 11: 1, 12: 1}, {3: 346, 0: 346, 8: 168, 9: 171}, {9: 67, 1: 22, 3: 50, 0: 64, 8: 78}, {8: 167, 3: 346, 1: 159, 9: 169, 0: 187}, {9: 504, 8: 496, 3: 346, 1: 165, 0: 181}, {9: 2307, 8: 1932, 15: 115, 14: 377, 2: 83, 3: 296, 6: 90, 7: 634, 12: 36, 0: 197, 1: 253, 4: 510, 5: 42, 11: 24, 10: 3, 13: 34}, {9: 1478, 8: 1537, 3: 346, 0: 271, 1: 346}, {8: 462, 3: 346, 1: 346, 9: 544}, {9: 197, 3: 369, 0: 631, 8: 143, 1: 2}, {9: 1418, 8: 1605, 3: 346, 1: 159, 0: 454}, {9: 1749, 8: 1927, 3: 1362, 1: 1249, 0: 113}, {9: 1065, 8: 1975, 3: 509, 1: 144, 0: 621, 2: 5}, {9: 1312, 8: 1745, 3: 346, 1: 162, 0: 460}, {9: 160, 3: 346, 0: 346, 8: 173}, {8: 1389, 9: 1649, 3: 346, 1: 165, 0: 181}, {8: 142, 3: 346, 0: 346, 9: 194}, {3: 346, 8: 586, 1: 346, 9: 417}, {8: 444, 9: 568, 3: 346, 0: 346}, {8: 1809, 9: 1573, 2: 66, 3: 442, 0: 332, 1: 357}, {8: 221, 3: 431, 0: 658, 9: 155, 14: 126, 11: 10, 12: 11, 15: 36, 4: 98, 7: 149, 2: 55, 6: 18, 1: 18, 5: 34, 13: 14, 10: 2}, {8: 175, 3: 171, 0: 290, 9: 288, 1: 4}, {9: 1098, 8: 1965, 3: 458, 14: 1416, 13: 104, 12: 123, 15: 441, 1: 204, 7: 388, 4: 356, 0: 515, 5: 34, 11: 107, 10: 7, 6: 4, 2: 6}, {0: 336, 3: 466, 9: 164, 1: 405, 7: 2973, 4: 2682, 5: 308, 14: 1065, 15: 346, 10: 8, 8: 164, 11: 82, 13: 81, 12: 87}, {8: 1544, 9: 1450, 1: 162, 3: 346, 0: 184}, {9: 2282, 8: 2727, 1: 150, 3: 346, 0: 196}, {9: 1424, 8: 1620, 3: 382, 1: 203, 0: 437, 2: 3}, {8: 1909, 9: 1419, 3: 364, 0: 288, 1: 348, 5: 29, 4: 337, 7: 363, 14: 3960, 11: 329, 15: 1223, 13: 327, 12: 301, 10: 42}, {9: 1610, 8: 1385, 3: 346, 1: 164, 0: 182}, {9: 188, 3: 346, 0: 346, 8: 176}, {0: 310, 3: 452, 8: 1824, 9: 1957, 1: 366, 15: 94, 14: 345, 11: 29, 13: 30, 4: 113, 7: 144, 2: 74, 5: 27, 6: 10, 12: 15, 10: 2}, {9: 2194, 8: 1733, 1: 941, 3: 1490, 14: 7087, 13: 543, 15: 2185, 11: 595, 0: 759, 7: 4241, 4: 3182, 5: 881, 12: 569, 10: 74, 2: 77, 6: 198}, {8: 2521, 9: 2455, 3: 405, 1: 405, 4: 156, 7: 158, 15: 45, 14: 148, 11: 8, 13: 21, 5: 3, 12: 11, 10: 3}, {8: 173, 3: 382, 1: 198, 0: 452, 9: 165, 2: 2}, {8: 2473, 9: 2549, 1: 171, 3: 456, 0: 550, 4: 1023, 7: 1028, 14: 521, 15: 164, 11: 41, 12: 44, 13: 38, 10: 12, 5: 10}, {8: 163, 3: 346, 1: 346, 9: 174}, {9: 2917, 8: 3517, 2: 181, 3: 446, 1: 348, 0: 283}, {8: 949, 9: 760, 3: 199, 1: 199, 14: 34, 11: 2, 15: 9, 12: 1, 5: 18, 7: 19, 13: 1, 6: 1}, {8: 1546, 9: 1501, 3: 346, 0: 346}, {3: 346, 9: 204, 1: 346, 8: 127}, {8: 623, 0: 346, 3: 346, 9: 385}, {9: 632, 8: 379, 3: 346, 1: 346}, {9: 1103, 8: 1356, 3: 243, 1: 128, 0: 291, 14: 357, 4: 394, 7: 480, 11: 27, 5: 92, 12: 36, 15: 95, 10: 4, 13: 21}, {8: 1916, 9: 1769, 3: 346, 1: 346}, {8: 421, 9: 259, 3: 235, 2: 58, 0: 177}, {8: 463, 9: 541, 3: 346, 0: 346}, {8: 487, 9: 506, 0: 622, 3: 346}, {8: 1606, 3: 346, 1: 168, 9: 1365, 0: 178}, {9: 1432, 8: 1607, 3: 346, 1: 154, 0: 192}, {9: 2814, 8: 3170, 3: 346, 1: 346}, {8: 185, 3: 346, 1: 169, 9: 152, 0: 177}, {9: 939, 8: 2018, 3: 346, 0: 346}, {8: 175, 3: 346, 0: 346, 9: 155}, {8: 2749, 9: 3280, 3: 346, 1: 346}, {8: 3190, 9: 1784, 0: 270, 3: 372, 1: 369, 7: 140, 5: 14, 4: 127, 15: 43, 11: 12, 14: 139, 13: 16, 12: 16, 10: 4, 2: 2}, {8: 1587, 9: 1400, 3: 346, 1: 157, 0: 189}, {9: 2496, 8: 2215, 3: 346, 1: 346}, {9: 1824, 8: 2132, 3: 450, 2: 177, 0: 454, 1: 173}, {9: 160, 8: 110, 3: 32, 0: 46, 4: 22, 7: 28, 5: 7, 15: 11, 14: 31, 1: 4, 11: 2, 12: 2, 13: 1}, {9: 1438, 8: 1571, 3: 346, 1: 153, 0: 193}, {8: 1810, 9: 1193, 1: 156, 3: 371, 0: 495}, {9: 1406, 8: 2232, 3: 346, 1: 162, 0: 184}, {14: 841, 15: 262, 11: 57, 13: 75, 3: 440, 9: 171, 2: 209, 6: 135, 7: 402, 0: 504, 4: 212, 8: 199, 1: 33, 5: 60, 12: 80, 10: 6}, {8: 1396, 9: 1621, 1: 29, 3: 440, 0: 680}, {9: 152, 3: 346, 0: 346, 8: 178}, {9: 1483, 8: 1535, 3: 346, 0: 346}, {9: 1486, 8: 1495, 1: 161, 3: 346, 0: 456}, {9: 135, 3: 211, 0: 211, 8: 72}, {9: 547, 8: 469, 3: 346, 0: 346}, {0: 362, 3: 362, 8: 633, 9: 361}, {9: 2232, 8: 2438, 3: 346, 1: 346}, {8: 1153, 9: 1145, 0: 265, 3: 265}, {9: 214, 3: 346, 0: 346, 8: 115}, {8: 1880, 9: 1751, 1: 163, 3: 346, 0: 183}, {9: 1494, 8: 1496, 3: 346, 0: 346}, {9: 1183, 8: 1809, 0: 462, 3: 346, 1: 158}, {8: 163, 3: 346, 0: 621, 9: 167}, {9: 2380, 8: 2280, 3: 346, 1: 346}, {8: 596, 0: 615, 3: 346, 9: 415}, {8: 172, 3: 346, 0: 264, 1: 346, 9: 159}, {9: 3911, 8: 3608, 2: 250, 3: 524, 7: 209, 11: 28, 15: 102, 14: 337, 13: 26, 6: 61, 1: 361, 4: 130, 0: 292, 12: 27, 5: 19, 10: 2}, {9: 1676, 8: 1343, 3: 346, 1: 346}, {9: 2675, 8: 2428, 3: 479, 13: 64, 14: 827, 15: 248, 0: 646, 4: 311, 7: 390, 12: 64, 1: 72, 2: 48, 6: 21, 11: 64, 5: 62, 10: 6}, {15: 1520, 14: 4901, 3: 375, 11: 432, 13: 388, 1: 367, 7: 2986, 4: 2694, 5: 304, 8: 201, 12: 403, 9: 136, 10: 57, 0: 8}, {9: 573, 0: 346, 3: 346, 8: 430}, {8: 3198, 9: 2188, 3: 465, 1: 440, 2: 5, 0: 20}, {8: 583, 3: 388, 10: 16, 14: 1874, 12: 147, 15: 584, 13: 146, 0: 350, 7: 139, 4: 106, 9: 403, 11: 152, 5: 34, 1: 38}, {9: 130, 3: 346, 1: 346, 8: 210}, {8: 1823, 9: 1873, 0: 402, 3: 1437, 15: 547, 1: 1305, 7: 1128, 5: 894, 14: 1870, 13: 173, 11: 132, 4: 236, 12: 158, 10: 20, 2: 2}, {9: 1997, 8: 3019, 1: 161, 3: 346, 0: 450}, {8: 588, 9: 413, 3: 346, 0: 346}, {9: 2500, 8: 2532, 3: 368, 1: 350, 4: 350, 7: 361, 14: 220, 15: 65, 0: 293, 12: 15, 11: 29, 13: 19, 5: 18, 10: 1}, {8: 1570, 9: 1465, 3: 346, 0: 346}, {9: 918, 8: 761, 1: 614, 3: 663, 0: 49, 7: 2, 4: 1, 5: 1, 10: 1}, {8: 2157, 9: 1330, 3: 498, 1: 218, 0: 211, 7: 151, 11: 33, 14: 321, 4: 133, 13: 28, 15: 92, 2: 69, 12: 21, 10: 4, 5: 7, 6: 14}, {8: 1065, 9: 1374, 1: 133, 3: 361, 0: 444}, {9: 602, 8: 419, 3: 346, 0: 346}, {3: 418, 0: 652, 8: 177, 9: 152, 1: 40}, {3: 400, 1: 216, 9: 174, 8: 164, 0: 184}, {8: 620, 9: 682, 3: 516, 2: 187, 14: 1605, 11: 117, 7: 918, 6: 197, 15: 483, 13: 115, 0: 675, 4: 724, 12: 124, 10: 14, 5: 1}, {8: 1277, 9: 1150, 3: 170, 1: 170, 14: 22, 15: 6, 11: 4, 12: 1, 5: 16, 7: 16, 13: 3}, {8: 2624, 9: 2395, 0: 346, 3: 346}, {8: 3189, 9: 1934, 1: 177, 3: 406, 15: 58, 0: 511, 7: 386, 4: 390, 10: 3, 14: 169, 11: 11, 12: 15, 13: 12, 5: 4, 2: 2}, {8: 2464, 9: 2499, 3: 346, 1: 346}, {9: 1163, 0: 463, 3: 463, 8: 1810}, {8: 178, 3: 346, 1: 169, 0: 177, 9: 155}, {8: 783, 9: 1304, 1: 69, 3: 148, 0: 79, 15: 7, 14: 25, 11: 6, 7: 11, 5: 11, 13: 1, 12: 2}, {9: 1395, 1: 203, 3: 392, 0: 455, 8: 1589, 4: 115, 15: 81, 14: 271, 7: 116, 13: 23, 2: 6, 12: 24, 11: 15, 10: 4, 5: 1}, {9: 1610, 8: 3117, 3: 346, 0: 346}, {9: 1658, 8: 1380, 3: 346, 0: 346}, {8: 657, 9: 425, 3: 442, 14: 5006, 11: 404, 15: 1586, 10: 55, 0: 353, 7: 2902, 4: 2444, 12: 401, 13: 389, 5: 352, 1: 55, 6: 123, 2: 34}, {8: 173, 15: 1628, 14: 5180, 3: 351, 11: 420, 0: 612, 4: 2661, 7: 2963, 5: 316, 13: 425, 12: 357, 9: 165, 10: 62, 1: 3}, {9: 2315, 8: 2658, 1: 148, 3: 346, 0: 198}, {8: 1968, 9: 1644, 1: 877, 3: 1358, 0: 481}, {9: 1469, 8: 1547, 3: 413, 0: 682, 1: 14}, {8: 1566, 9: 1415, 3: 346, 1: 346}, {8: 858, 9: 871, 0: 268, 1: 98, 3: 205, 7: 4, 5: 4, 14: 3, 15: 2}, {9: 1664, 8: 1370, 3: 346, 1: 156, 0: 190}, {9: 1183, 8: 1856, 3: 367, 12: 388, 14: 4913, 15: 1536, 11: 383, 13: 409, 0: 617, 7: 2974, 4: 2280, 5: 701, 10: 63, 1: 18, 2: 3}, {8: 513, 9: 500, 3: 346, 0: 346}, {8: 1028, 9: 758, 3: 126, 1: 126}, {9: 479, 8: 531, 14: 1235, 11: 93, 15: 335, 13: 119, 0: 372, 3: 372, 4: 713, 7: 707, 12: 102, 10: 19}, {8: 1879, 9: 1129, 3: 346, 1: 166, 0: 443}, {9: 179, 3: 346, 1: 346, 0: 270, 8: 154}, {8: 78, 9: 64, 2: 16, 3: 56, 6: 113, 7: 389, 11: 4, 14: 37, 15: 14, 0: 39, 4: 280, 13: 1, 12: 1, 1: 1}, {9: 1725, 8: 2664, 3: 603, 2: 214, 7: 894, 6: 202, 11: 39, 14: 453, 0: 732, 4: 696, 15: 143, 10: 5, 13: 31, 12: 41, 1: 3}, {9: 1472, 8: 1572, 3: 373, 15: 117, 0: 617, 14: 380, 12: 30, 7: 2959, 4: 1864, 5: 1109, 11: 29, 1: 25, 13: 31, 10: 3}, {8: 927, 9: 570, 14: 1187, 15: 351, 13: 98, 12: 88, 11: 108, 2: 17, 3: 110, 7: 128, 6: 24, 0: 44, 4: 103, 1: 49, 10: 13, 5: 1}, {8: 1263, 9: 1781, 1: 161, 3: 346, 0: 185}, {9: 1223, 8: 1792, 3: 346, 1: 346}, {8: 1589, 9: 1454, 1: 166, 3: 346, 0: 180}, {15: 439, 6: 511, 7: 2732, 14: 1491, 10: 27, 12: 106, 9: 1018, 8: 1282, 3: 962, 2: 180, 13: 115, 1: 513, 0: 269, 4: 1735, 5: 494, 11: 117}, {8: 180, 3: 364, 1: 165, 9: 155, 0: 199}, {8: 957, 9: 905, 3: 241, 1: 111, 0: 295, 7: 8, 5: 8, 15: 1, 14: 2, 11: 1}, {3: 346, 1: 346, 8: 135, 9: 199}, {8: 1780, 9: 1251, 3: 432, 1: 211, 0: 489}, {8: 1386, 9: 1617, 3: 426, 14: 337, 11: 27, 0: 463, 1: 225, 7: 376, 4: 310, 5: 70, 15: 94, 12: 41, 13: 20, 10: 1}, {9: 2577, 8: 3353, 3: 346, 1: 346}, {9: 4692, 8: 4258, 3: 466, 0: 112, 1: 354}, {7: 870, 6: 166, 14: 625, 15: 192, 9: 1951, 8: 1817, 3: 625, 2: 192, 0: 714, 5: 81, 1: 54, 4: 632, 11: 41, 12: 46, 10: 11, 13: 60}, {9: 114, 8: 213, 0: 118, 3: 118}, {8: 1673, 9: 1362, 3: 346, 0: 346}, {9: 1788, 8: 1875, 3: 532, 0: 374, 1: 422, 14: 384, 15: 116, 12: 37, 7: 128, 4: 108, 13: 48, 5: 21, 11: 38, 2: 7, 10: 4}, {8: 3120, 9: 2938, 3: 346, 1: 143, 0: 203}, {9: 923, 8: 1137, 3: 238, 1: 116, 0: 122}, {8: 2882, 9: 2490, 12: 32, 14: 406, 15: 126, 1: 155, 3: 346, 0: 458, 4: 127, 7: 126, 13: 41, 11: 33, 10: 3, 5: 1}, {9: 1478, 8: 1468, 0: 445, 3: 346, 1: 165}, {8: 2453, 9: 2882, 1: 165, 3: 424, 0: 523, 4: 367, 7: 365, 14: 601, 10: 9, 15: 181, 11: 52, 13: 47, 12: 41, 5: 1}, {9: 94, 8: 76, 3: 60, 0: 60}, {8: 754, 9: 758, 3: 213, 0: 158, 1: 196, 13: 2, 14: 26, 15: 8, 5: 13, 7: 12, 11: 3, 12: 2, 10: 1}, {9: 1308, 8: 1730, 3: 346, 1: 346}, {8: 1596, 9: 1437, 3: 346, 0: 613, 11: 45, 15: 159, 14: 481, 7: 357, 4: 293, 5: 67, 13: 32, 12: 40, 10: 2}, {9: 204, 3: 346, 0: 346, 8: 134}, {9: 633, 15: 1285, 14: 4010, 13: 302, 10: 40, 12: 334, 0: 724, 3: 466, 8: 370, 4: 380, 7: 378, 11: 319, 1: 11, 5: 1}, {8: 2369, 9: 1321, 1: 937, 3: 1498, 0: 821}, {9: 1618, 8: 1401, 3: 346, 1: 172, 0: 174}, {8: 2612, 9: 2417, 0: 346, 3: 346}, {8: 1366, 9: 791, 3: 804, 15: 306, 1: 729, 5: 505, 7: 753, 14: 1071, 4: 253, 12: 107, 11: 85, 0: 75, 13: 94, 10: 15}, {3: 346, 1: 166, 8: 1610, 9: 1446, 0: 180}, {8: 531, 3: 346, 1: 346, 9: 481}, {9: 1391, 8: 1658, 3: 369, 0: 635, 1: 3}, {8: 1344, 9: 1177, 3: 288, 14: 405, 11: 37, 1: 140, 7: 629, 4: 593, 0: 148, 10: 5, 15: 125, 12: 25, 13: 33, 5: 40}, {8: 191, 3: 364, 0: 632, 9: 143, 4: 110, 7: 119, 13: 8, 14: 80, 15: 33, 11: 7, 12: 7, 5: 10, 1: 1, 10: 2}, {8: 189, 3: 346, 1: 155, 0: 191, 9: 146}, {9: 2690, 8: 2424, 3: 346, 1: 346}, {9: 3023, 8: 2073, 3: 346, 1: 346}, {9: 2232, 8: 2485, 3: 346, 1: 346}, {9: 472, 8: 537, 0: 346, 3: 346}, {8: 2402, 9: 2208, 3: 346, 1: 346}, {9: 1249, 8: 1502, 3: 318, 12: 43, 14: 427, 0: 318, 4: 577, 7: 636, 15: 138, 11: 31, 5: 61, 13: 36, 10: 4}, {8: 1462, 9: 1539, 3: 346, 0: 615}, {8: 197, 3: 437, 1: 361, 9: 141, 0: 76}, {9: 459, 0: 639, 3: 414, 8: 546, 7: 370, 4: 375, 15: 150, 14: 491, 13: 31, 1: 43, 11: 57, 12: 46, 10: 3}, {9: 252, 8: 272, 3: 60, 1: 60}, {9: 1969, 8: 3077, 1: 163, 3: 346, 0: 183}, {9: 581, 3: 346, 13: 134, 14: 1505, 15: 448, 0: 610, 4: 675, 7: 1073, 12: 108, 11: 125, 5: 407, 8: 439, 10: 13}, {9: 496, 8: 516, 3: 346, 1: 346}, {8: 2004, 9: 2644, 0: 346, 3: 346}, {9: 174, 3: 472, 0: 649, 14: 797, 15: 238, 13: 62, 7: 365, 4: 294, 11: 57, 8: 164, 12: 68, 1: 100, 5: 74, 10: 6}, {8: 1979, 3: 346, 0: 346, 9: 1710}, {9: 1093, 8: 1898, 11: 79, 14: 991, 0: 284, 3: 363, 15: 321, 1: 350, 4: 629, 7: 717, 12: 83, 13: 71, 5: 96, 10: 7}, {9: 982, 8: 1022, 3: 230, 0: 229, 1: 1}, {9: 1930, 8: 3101, 0: 346, 3: 346}, {9: 1272, 8: 1758, 0: 624, 3: 421, 2: 4, 1: 51}, {8: 208, 3: 346, 1: 154, 9: 129, 0: 192}, {8: 184, 3: 346, 1: 346, 9: 153}, {9: 1664, 8: 2010, 3: 346, 1: 346}, {8: 192, 3: 346, 0: 346, 9: 134}, {9: 645, 2: 113, 3: 464, 8: 689, 0: 351}, {9: 174, 3: 381, 1: 366, 8: 161, 0: 286, 2: 1}, {9: 457, 8: 549, 3: 346, 0: 617}, {9: 1558, 8: 1471, 1: 155, 3: 346, 0: 191}, {8: 2215, 9: 2821, 0: 346, 3: 346}, {9: 1487, 8: 1558, 1: 159, 3: 346, 0: 187}, {9: 1373, 8: 1642, 3: 346, 1: 346}, {8: 153, 3: 346, 1: 346, 9: 184}, {8: 442, 9: 558, 12: 368, 14: 4649, 15: 1398, 10: 46, 11: 392, 0: 346, 3: 424, 4: 2927, 7: 2978, 1: 71, 13: 393, 2: 7, 5: 61}, {8: 518, 9: 493, 3: 346, 0: 346}, {8: 2213, 9: 2775, 1: 384, 3: 459, 0: 353}, {3: 346, 1: 346, 8: 151, 9: 181}, {8: 190, 3: 346, 0: 346, 9: 146}, {8: 2681, 9: 3042, 2: 140, 3: 518, 0: 335, 1: 385}, {9: 2915, 8: 2090, 0: 346, 3: 346}, {8: 209, 3: 346, 1: 170, 0: 176, 9: 127}, {9: 499, 8: 497, 0: 346, 3: 346}, {9: 490, 8: 517, 3: 346, 0: 346}, {8: 3390, 9: 2560, 1: 174, 3: 346, 0: 172}, {8: 1893, 9: 1101, 0: 346, 3: 346}, {8: 1520, 9: 1034, 3: 298, 0: 262, 1: 31, 2: 5}, {8: 2459, 9: 2557, 3: 346, 1: 346}, {9: 2427, 8: 2585, 3: 503, 0: 130, 1: 373, 15: 63, 7: 129, 4: 125, 13: 25, 14: 209, 11: 21, 12: 17, 5: 4, 10: 2}, {3: 346, 0: 271, 1: 346, 8: 131, 14: 144, 15: 54, 4: 130, 7: 134, 9: 203, 13: 15, 12: 14, 5: 7, 11: 15, 10: 1}, {8: 3270, 9: 1798, 1: 162, 3: 346, 0: 184}, {9: 463, 8: 511, 3: 327, 0: 327, 12: 32, 15: 127, 14: 449, 4: 453, 7: 662, 13: 46, 11: 37, 5: 215, 10: 5}, {9: 313, 8: 325, 1: 22, 3: 50, 0: 28}, {9: 1654, 8: 1709, 3: 370, 0: 603, 1: 20, 2: 4}, {9: 1452, 8: 1585, 3: 367, 0: 629, 1: 11, 2: 2}, {8: 186, 3: 346, 1: 156, 0: 190, 9: 149}, {9: 1995, 1: 160, 3: 346, 8: 1720, 0: 186}, {9: 595, 8: 563, 1: 425, 3: 467, 0: 42, 10: 1, 4: 1, 7: 2, 5: 1}, {8: 2900, 9: 2440, 0: 471, 3: 493, 1: 243, 2: 87}, {8: 446, 3: 346, 1: 346, 9: 571}, {3: 346, 8: 148, 1: 346, 9: 190}, {8: 1924, 9: 1752, 3: 465, 0: 729, 1: 14}, {9: 1859, 8: 1781, 3: 371, 15: 135, 1: 166, 7: 2965, 4: 2640, 5: 337, 0: 473, 14: 389, 13: 22, 11: 32, 12: 26, 10: 2}, {8: 874, 2: 277, 3: 608, 9: 593, 1: 432, 0: 287}, {9: 179, 3: 350, 0: 263, 1: 350, 8: 155}, {8: 2499, 0: 346, 3: 346, 9: 2475}, {8: 1682, 0: 346, 3: 346, 9: 1341}, {9: 1484, 8: 1501, 3: 457, 1: 364, 0: 367}, {8: 2294, 9: 2383, 0: 690, 3: 426, 13: 36, 14: 495, 15: 149, 4: 345, 7: 346, 12: 40, 11: 42, 10: 3, 1: 6, 5: 3}, {9: 397, 8: 603, 3: 346, 1: 346}, {0: 105, 3: 105, 8: 159, 9: 142}, {8: 1347, 9: 1636, 3: 346, 0: 346}, {9: 1470, 8: 1538, 15: 67, 14: 223, 12: 21, 1: 160, 0: 469, 3: 364, 7: 330, 4: 326, 13: 22, 11: 18, 5: 5, 10: 1}, {9: 66, 8: 43, 3: 58, 2: 17, 0: 33, 1: 8}, {9: 1372, 8: 1629, 13: 435, 14: 5499, 12: 414, 15: 1720, 1: 174, 3: 346, 4: 2960, 7: 2956, 11: 424, 0: 172, 5: 16, 10: 51}, {9: 1211, 8: 1800, 3: 346, 1: 346}, {8: 1221, 9: 1813, 3: 374, 1: 178, 0: 196}, {9: 1940, 0: 345, 3: 346, 8: 3128}, {9: 2243, 8: 3784, 3: 346, 1: 346}, {9: 151, 3: 294, 0: 289, 8: 130, 1: 4, 12: 2, 14: 28, 11: 1, 7: 23, 5: 18, 6: 5, 2: 1, 13: 1, 15: 6}, {8: 2810, 9: 2235, 3: 346, 0: 346}, {9: 168, 3: 346, 0: 346, 8: 169}, {9: 472, 8: 532, 0: 346, 3: 346}, {9: 413, 14: 4026, 12: 334, 15: 1262, 13: 311, 3: 431, 1: 395, 0: 307, 8: 599, 7: 401, 4: 331, 11: 310, 10: 38, 5: 75}, {9: 2174, 8: 1551, 1: 1246, 3: 1357, 0: 111}, {8: 1715, 9: 1292, 1: 163, 3: 346, 0: 183}, {9: 208, 8: 223, 1: 12, 3: 29, 0: 17}, {8: 2670, 9: 2128, 0: 329, 3: 329}, {9: 2956, 8: 2030, 1: 168, 3: 346, 0: 450}, {8: 1507, 9: 1518, 3: 346, 1: 346}, {8: 834, 9: 584, 15: 332, 14: 1020, 0: 259, 3: 211, 11: 67, 4: 492, 7: 493, 1: 81, 12: 78, 10: 11, 13: 72, 5: 4}, {8: 883, 9: 730, 3: 184, 14: 244, 0: 184, 4: 349, 7: 388, 15: 74, 13: 20, 5: 42, 11: 19, 12: 17, 10: 1}, {8: 1856, 3: 346, 9: 1151, 1: 346}, {9: 654, 8: 368, 3: 346, 0: 346}, {8: 2785, 9: 1873, 15: 265, 0: 372, 3: 470, 14: 844, 12: 70, 1: 367, 4: 614, 7: 676, 5: 69, 13: 63, 11: 60, 10: 12}, {9: 3370, 8: 2981, 3: 361, 0: 293, 1: 348}, {9: 1570, 8: 1433, 3: 346, 0: 346}, {8: 489, 9: 518, 3: 346, 0: 346}, {1: 165, 3: 346, 8: 1745, 9: 1280, 0: 181}, {9: 1439, 8: 1601, 3: 346, 1: 346}, {6: 757, 7: 3758, 14: 6792, 13: 554, 15: 2185, 12: 530, 8: 3382, 9: 4191, 2: 182, 3: 511, 0: 309, 1: 365, 4: 2534, 5: 484, 11: 545, 10: 67}, {0: 438, 3: 346, 8: 1419, 9: 1568, 1: 165}, {8: 1830, 9: 1861, 1: 933, 3: 1383, 0: 722}, {9: 1130, 8: 1878, 3: 445, 0: 294, 1: 415, 14: 964, 12: 73, 11: 63, 15: 311, 7: 682, 4: 651, 13: 77, 5: 38, 10: 11, 2: 6}, {8: 2737, 9: 2480, 1: 163, 3: 355, 0: 458, 2: 6}, {9: 448, 3: 346, 1: 346, 8: 560}, {8: 1627, 9: 1359, 3: 346, 0: 346}, {8: 1600, 9: 1417, 3: 457, 11: 74, 14: 906, 12: 70, 0: 271, 1: 186, 4: 992, 7: 1065, 15: 267, 13: 73, 10: 13, 5: 74}, {8: 586, 3: 127, 9: 360, 1: 125, 2: 2}, {8: 1471, 9: 1266, 14: 338, 12: 27, 3: 256, 1: 256, 7: 557, 5: 58, 4: 501, 11: 30, 15: 103, 13: 28, 10: 3}, {8: 2094, 9: 1742, 2: 94, 3: 442, 0: 181, 1: 167}, {8: 2687, 9: 2249, 1: 170, 3: 346, 0: 176}, {8: 178, 3: 346, 0: 346, 9: 160}, {9: 1619, 8: 1692, 0: 512, 1: 158, 3: 406}, {8: 3762, 9: 2257, 3: 346, 1: 346}, {9: 1235, 8: 1787, 0: 31, 3: 398, 1: 367}, {9: 1374, 8: 1675, 3: 346, 1: 346}, {9: 1540, 8: 1492, 3: 346, 1: 147, 0: 199}, {9: 19, 3: 39, 14: 230, 15: 66, 12: 21, 1: 16, 4: 14, 7: 15, 8: 15, 0: 49, 11: 24, 13: 14, 5: 1, 10: 3}, {8: 1786, 9: 1232, 1: 152, 3: 346, 0: 194}, {9: 97, 3: 211, 0: 211, 8: 110}, {8: 1810, 3: 346, 9: 1231, 1: 346, 0: 271}, {3: 346, 0: 346, 8: 171, 9: 168}, {9: 149, 8: 155, 3: 44, 0: 38, 1: 6}, {8: 117, 3: 242, 1: 242, 4: 520, 7: 535, 13: 32, 14: 333, 15: 105, 11: 28, 9: 138, 12: 25, 5: 15, 10: 3}, {8: 506, 9: 503, 3: 346, 0: 346}, {8: 120, 3: 189, 15: 72, 14: 263, 0: 189, 4: 390, 7: 413, 12: 20, 9: 75, 5: 30, 11: 26, 13: 16, 10: 2}, {8: 622, 9: 617, 3: 140, 1: 64, 0: 184}, {9: 514, 8: 483, 3: 346, 0: 346}, {8: 1692, 9: 2075, 2: 189, 3: 660, 1: 255, 0: 547}, {8: 89, 3: 164, 0: 159, 9: 64, 1: 5, 14: 9, 15: 2, 13: 2, 11: 1, 5: 13, 7: 13}, {3: 240, 0: 385, 9: 107, 8: 101, 1: 15, 14: 6, 15: 2, 13: 3, 7: 7, 5: 6, 6: 1, 2: 1}, {8: 1540, 9: 1479, 3: 346, 1: 346}, {8: 1648, 9: 1366, 3: 346, 1: 346}, {8: 1597, 9: 1420, 3: 346, 0: 346}, {8: 1120, 1: 1276, 3: 1391, 14: 2379, 15: 712, 12: 188, 11: 194, 13: 182, 9: 2167, 7: 1321, 5: 925, 4: 398, 10: 21, 0: 385}, {9: 521, 8: 505, 3: 346, 0: 345}, {8: 174, 3: 381, 0: 352, 9: 162, 1: 29}, {8: 205, 3: 346, 1: 346, 9: 128}, {9: 450, 8: 554, 0: 346, 3: 346}, {8: 441, 9: 549, 0: 619, 3: 346}, {9: 2840, 8: 2125, 3: 346, 1: 346}, {9: 2227, 8: 1419, 3: 346, 0: 346}, {8: 466, 0: 361, 3: 361, 9: 532, 14: 114, 15: 41, 7: 130, 4: 130, 11: 9, 13: 7, 12: 9, 10: 1}, {8: 1361, 9: 907, 3: 288, 1: 127, 0: 356}, {8: 1810, 3: 346, 9: 1219, 1: 346}, {8: 1248, 9: 1805, 1: 167, 3: 346, 0: 179}, {8: 170, 3: 346, 0: 180, 1: 166, 9: 162}, {8: 440, 9: 564, 3: 346, 0: 346}, {9: 208, 3: 346, 0: 346, 8: 119}, {8: 1613, 9: 1436, 3: 381, 0: 360, 1: 21, 14: 1695, 15: 525, 13: 131, 11: 138, 4: 123, 7: 138, 5: 16, 12: 144, 10: 13}, {9: 2422, 8: 2160, 2: 129, 3: 515, 14: 2128, 15: 641, 11: 175, 7: 181, 6: 40, 1: 155, 0: 231, 10: 19, 12: 163, 4: 143, 13: 177, 5: 2}, {8: 968, 9: 507, 3: 192, 11: 15, 14: 339, 12: 20, 0: 187, 4: 161, 7: 193, 15: 101, 13: 31, 5: 37, 1: 5, 10: 3}, {9: 1500, 8: 2211, 3: 346, 0: 346}, {9: 1920, 8: 1114, 3: 417, 1: 163, 0: 254}, {8: 2237, 9: 2412, 0: 267, 3: 346, 1: 346}, {8: 2943, 9: 2031, 1: 160, 3: 346, 0: 186}, {9: 565, 8: 450, 3: 464, 0: 664, 1: 69}, {9: 2063, 8: 2660, 3: 354, 1: 354}, {9: 2399, 8: 2305, 0: 346, 3: 348, 1: 2}, {8: 2817, 9: 2552, 1: 172, 3: 398, 0: 206, 2: 20}, {9: 2529, 8: 2195, 3: 346, 0: 346}, {8: 189, 3: 418, 13: 60, 14: 759, 15: 224, 0: 693, 7: 358, 4: 330, 9: 140, 11: 55, 1: 7, 12: 50, 5: 31, 10: 9}, {9: 331, 8: 235, 3: 292, 1: 31, 14: 612, 11: 48, 0: 420, 7: 415, 4: 355, 13: 49, 15: 191, 5: 63, 12: 54, 10: 7, 2: 2}, {9: 2377, 8: 2286, 3: 455, 1: 418, 0: 32, 2: 5}, {8: 2377, 9: 2616, 1: 173, 3: 346, 0: 173}, {8: 151, 3: 346, 0: 346, 9: 186}, {8: 1784, 9: 1222, 3: 439, 0: 408, 1: 31}, {9: 1739, 8: 1293, 3: 346, 1: 346}, {9: 2216, 8: 1823, 3: 489, 2: 213, 0: 642, 12: 36, 15: 132, 14: 377, 4: 131, 7: 172, 11: 27, 6: 38, 13: 26, 1: 1, 5: 3, 10: 3}, {8: 2862, 9: 1806, 3: 346, 1: 345}, {9: 331, 0: 270, 3: 274, 8: 459, 1: 4, 5: 12, 7: 12, 15: 4, 14: 15, 11: 3, 13: 1}, {9: 741, 2: 159, 3: 567, 0: 753, 8: 501, 14: 101, 15: 37, 7: 154, 4: 135, 6: 20, 12: 7, 11: 10, 13: 9, 10: 1}, {9: 137, 3: 346, 1: 346, 8: 203}, {8: 2442, 9: 2563, 3: 351, 1: 348, 0: 3}, {9: 2181, 8: 1487, 3: 346, 1: 346}, {9: 450, 0: 346, 3: 346, 8: 554}, {3: 346, 0: 346, 8: 162, 9: 174}, {8: 1411, 9: 1513, 3: 335, 1: 154, 0: 181}, {8: 2098, 9: 2082, 1: 136, 3: 324, 7: 629, 4: 630, 0: 188, 14: 413, 12: 43, 15: 121, 13: 41, 11: 32, 5: 4, 10: 3}, {9: 1131, 8: 1005, 3: 249, 1: 126, 0: 123, 7: 18, 5: 18, 15: 9, 14: 22, 12: 1, 11: 1}, {8: 3051, 9: 3063, 3: 346, 0: 346}, {8: 146, 3: 374, 1: 351, 9: 187, 0: 23}, {8: 170, 3: 346, 1: 346, 9: 165}, {9: 1494, 8: 1537, 3: 346, 1: 157, 0: 189}, {8: 1606, 9: 1397, 3: 366, 0: 622, 1: 11}, {9: 2407, 8: 2266, 1: 146, 3: 322, 0: 176}, {8: 2423, 9: 2640, 0: 178, 3: 346, 1: 168}, {3: 346, 8: 153, 1: 346, 9: 184}, {8: 189, 3: 379, 0: 305, 1: 351, 9: 186}, {8: 2133, 9: 1993, 3: 406, 0: 465, 1: 177, 4: 111, 7: 133, 2: 77, 15: 31, 14: 128, 6: 16, 11: 18, 12: 14, 5: 7, 13: 7, 10: 1}, {8: 1783, 3: 346, 1: 163, 9: 1225, 0: 183}, {9: 475, 8: 526, 0: 346, 3: 346}, {9: 138, 3: 359, 0: 626, 8: 194, 14: 364, 15: 108, 12: 29, 5: 20, 7: 137, 11: 32, 13: 23, 4: 118, 1: 3, 10: 8}, {9: 140, 3: 369, 0: 295, 1: 348, 8: 198}, {8: 195, 3: 404, 0: 380, 14: 1004, 15: 303, 7: 712, 4: 665, 13: 80, 11: 85, 12: 84, 9: 141, 5: 51, 1: 22, 10: 7, 2: 2}, {8: 107, 3: 232, 1: 111, 9: 110, 0: 121, 14: 27, 15: 7, 13: 4, 11: 1, 7: 11, 5: 11, 12: 2}, {9: 184, 3: 346, 0: 346, 8: 155}, {8: 1489, 1: 159, 3: 346, 9: 1509, 0: 187}, {9: 2819, 8: 3181, 3: 473, 0: 368, 1: 376, 15: 190, 14: 604, 4: 323, 7: 360, 11: 41, 12: 54, 13: 47, 5: 40, 10: 6}, {9: 1454, 8: 2233, 3: 346, 1: 158, 0: 453}, {9: 2366, 8: 2670, 1: 167, 3: 346, 0: 179}, {9: 1675, 8: 1272, 3: 402, 0: 289, 1: 385, 15: 594, 14: 2008, 12: 132, 10: 19, 7: 151, 4: 129, 13: 153, 11: 143, 5: 23, 2: 2}, {3: 346, 0: 270, 1: 346, 8: 150, 9: 184}, {3: 241, 1: 125, 8: 1056, 9: 1048, 0: 116}, {9: 456, 3: 346, 0: 346, 8: 546}, {8: 2003, 1: 164, 3: 346, 9: 2975, 0: 182}, {9: 1837, 8: 1787, 0: 346, 3: 346}, {9: 2401, 8: 2677, 3: 346, 1: 346}, {8: 3097, 9: 1602, 3: 346, 0: 346}, {9: 774, 8: 488, 14: 830, 1: 440, 3: 490, 15: 254, 11: 56, 12: 64, 13: 72, 7: 478, 4: 166, 5: 313, 0: 50, 10: 5}, {9: 549, 3: 346, 0: 346, 8: 454}, {8: 219, 3: 346, 1: 167, 0: 179, 9: 115}, {8: 3716, 15: 57, 1: 175, 3: 495, 0: 546, 7: 395, 4: 356, 9: 2131, 12: 29, 14: 183, 2: 90, 6: 40, 13: 13, 11: 18, 5: 1, 10: 4}, {9: 1096, 8: 1893, 3: 346, 0: 346}, {8: 2947, 9: 1873, 2: 311, 3: 656, 14: 204, 15: 57, 6: 61, 7: 210, 0: 522, 4: 152, 1: 214, 13: 21, 11: 14, 10: 3, 12: 16, 5: 1}, {8: 1872, 9: 1113, 1: 156, 3: 346, 0: 190}, {9: 404, 8: 594, 14: 1231, 11: 89, 15: 341, 0: 611, 3: 346, 7: 665, 4: 677, 13: 110, 12: 114, 10: 15}, {8: 1383, 9: 1667, 3: 346, 1: 346}, {9: 1513, 8: 1543, 3: 346, 0: 346}, {9: 1563, 8: 1426, 3: 346, 0: 346}, {9: 1693, 3: 323, 1: 160, 8: 1147, 4: 660, 7: 699, 15: 126, 0: 163, 12: 37, 14: 454, 5: 49, 11: 34, 13: 32, 10: 8}, {9: 474, 8: 526, 3: 346, 1: 346}, {8: 1535, 9: 1504, 3: 346, 0: 346}, {9: 623, 3: 372, 14: 451, 13: 36, 15: 142, 0: 637, 4: 421, 7: 658, 8: 394, 5: 241, 12: 40, 11: 49, 1: 7, 10: 5}, {9: 1588, 8: 1433, 14: 5249, 11: 398, 15: 1623, 13: 414, 12: 426, 3: 346, 1: 346, 4: 2784, 7: 2971, 5: 200, 10: 57}, {8: 3465, 9: 5632, 3: 346, 0: 346, 14: 1968, 12: 186, 15: 583, 10: 19, 4: 995, 7: 999, 11: 150, 13: 139, 5: 12}, {8: 2832, 9: 2204, 3: 346, 0: 611}, {9: 1187, 8: 1867, 3: 346, 1: 171, 0: 448}, {8: 2956, 9: 1771, 3: 346, 1: 346}, {8: 2026, 3: 525, 9: 2117, 2: 226, 0: 659, 1: 18}, {8: 1861, 9: 1182, 3: 346, 15: 332, 14: 1004, 0: 346, 7: 686, 4: 554, 13: 86, 11: 56, 5: 137, 12: 88, 10: 11}, {8: 210, 3: 346, 1: 165, 0: 181, 9: 127}, {9: 2489, 8: 2527, 1: 151, 3: 346, 0: 195}, {9: 1969, 8: 1657, 1: 945, 3: 1380, 0: 710, 5: 894, 7: 1358, 15: 684, 14: 2167, 13: 178, 11: 171, 4: 470, 12: 182, 10: 24}, {9: 384, 8: 383, 3: 264, 1: 257, 12: 92, 15: 326, 14: 1106, 13: 90, 11: 93, 5: 16, 7: 94, 4: 76, 10: 9, 2: 7, 6: 4}, {9: 1727, 3: 346, 1: 168, 8: 1294, 0: 178}, {8: 176, 3: 346, 0: 346, 9: 160}, {9: 1283, 8: 2088, 3: 346, 0: 346}, {8: 1531, 9: 1476, 3: 346, 1: 167, 0: 179}, {9: 2156, 3: 346, 1: 162, 8: 2557, 0: 184}, {9: 1536, 8: 2176, 3: 346, 1: 169, 0: 440}, {9: 1695, 8: 1799, 3: 263, 0: 319, 1: 127, 5: 6, 7: 6, 14: 4, 15: 1}, {8: 133, 9: 83, 3: 27, 14: 49, 11: 5, 12: 3, 15: 19, 1: 11, 0: 33, 4: 20, 7: 26, 13: 6, 5: 4, 2: 2, 6: 2}, {8: 1720, 9: 1202, 3: 332, 1: 148, 0: 184}, {9: 155, 3: 346, 0: 346, 8: 181}, {8: 2092, 9: 2879, 3: 346, 1: 345}, {9: 2401, 1: 172, 3: 448, 0: 537, 8: 2597}, {8: 799, 2: 138, 3: 501, 9: 626, 0: 363}, {8: 1930, 9: 1120, 3: 346, 1: 346}, {8: 372, 9: 168, 3: 80, 14: 224, 11: 16, 13: 21, 0: 113, 7: 98, 4: 83, 15: 70, 12: 12, 10: 2, 1: 7, 5: 17}, {8: 191, 3: 346, 1: 346, 9: 144}, {8: 1539, 9: 1440, 3: 346, 0: 346}, {9: 3671, 8: 3764, 14: 5949, 15: 1863, 13: 479, 2: 105, 3: 404, 7: 3165, 6: 450, 12: 481, 0: 449, 11: 494, 4: 2699, 1: 167, 10: 57, 5: 31}, {9: 2208, 8: 2489, 3: 346, 1: 346}, {8: 144, 3: 346, 0: 607, 9: 192}, {8: 3920, 9: 2830, 3: 420, 1: 162, 0: 498, 2: 63, 7: 131, 4: 115, 14: 1722, 15: 516, 13: 146, 12: 138, 11: 122, 10: 18, 6: 9, 5: 9}, {8: 164, 9: 105, 3: 140, 0: 198, 1: 14}, {8: 1394, 9: 1594, 3: 371, 14: 1165, 15: 339, 0: 624, 4: 1817, 7: 2956, 5: 1151, 13: 77, 1: 19, 11: 88, 10: 12, 12: 96}, {8: 1495, 9: 1524, 3: 346, 1: 168, 0: 178}, {8: 2706, 9: 2397, 14: 7446, 15: 2292, 13: 615, 11: 613, 12: 585, 10: 76, 3: 494, 2: 123, 7: 3790, 6: 962, 0: 354, 4: 2541, 5: 302, 1: 17}, {8: 175, 3: 346, 1: 164, 9: 161, 0: 182}, {8: 1739, 9: 1299, 3: 346, 0: 619}, {8: 161, 3: 346, 0: 346, 9: 177}, {9: 545, 8: 474, 3: 346, 0: 346}, {0: 266, 3: 348, 9: 4386, 8: 4730, 1: 347}, {9: 2843, 8: 2611, 2: 52, 3: 403, 1: 351}, {9: 1453, 8: 1605, 3: 362, 15: 374, 14: 1318, 0: 467, 1: 170, 4: 630, 7: 690, 11: 101, 12: 114, 5: 64, 13: 98, 10: 18}, {8: 498, 9: 516, 3: 346, 0: 629}, {9: 482, 3: 365, 1: 350, 8: 537, 0: 15}, {9: 1663, 8: 1668, 15: 259, 1: 185, 3: 470, 0: 559, 13: 62, 14: 806, 12: 52, 7: 653, 4: 649, 11: 56, 5: 15, 10: 10, 2: 1}, {9: 680, 8: 458, 1: 410, 3: 449, 0: 39}, {3: 211, 9: 135, 15: 89, 14: 306, 7: 464, 1: 211, 4: 419, 8: 76, 13: 26, 5: 49, 11: 28, 12: 25, 10: 3}, {9: 1539, 8: 1942, 3: 539, 2: 115, 0: 719, 1: 22}, {3: 186, 8: 1001, 1: 186, 9: 761}, {8: 1823, 9: 1808, 3: 1410, 1: 920, 14: 2056, 11: 164, 0: 755, 15: 625, 4: 3051, 7: 3917, 12: 168, 5: 884, 13: 156, 10: 30, 2: 1}, {15: 188, 3: 367, 0: 289, 1: 348, 8: 172, 7: 700, 4: 677, 9: 161, 14: 639, 13: 38, 12: 55, 5: 31, 11: 54, 10: 12}, {8: 1529, 9: 1813, 1: 170, 3: 360, 0: 449, 14: 507, 15: 169, 7: 142, 4: 143, 12: 41, 11: 41, 13: 40, 5: 2, 10: 4}, {8: 455, 3: 425, 0: 618, 9: 541, 1: 73, 2: 5}, {8: 147, 3: 419, 14: 403, 0: 634, 15: 115, 7: 386, 4: 284, 9: 212, 11: 38, 1: 25, 5: 74, 13: 34, 6: 30, 2: 63, 12: 29, 10: 5}, {11: 128, 14: 1648, 12: 123, 15: 462, 3: 429, 0: 411, 9: 191, 5: 39, 7: 660, 4: 627, 1: 18, 13: 127, 8: 144, 10: 21}, {8: 137, 3: 251, 1: 251, 9: 107}, {8: 3088, 9: 1938, 3: 346, 1: 346}, {9: 1072, 8: 734, 3: 383, 0: 360, 2: 21, 1: 2}, {9: 164, 3: 346, 0: 346, 8: 172}, {3: 346, 9: 1696, 8: 1296, 1: 346}, {9: 779, 3: 439, 2: 88, 0: 351, 8: 550}, {9: 1890, 8: 1512, 3: 435, 2: 47, 7: 3360, 6: 342, 1: 184, 4: 2992, 0: 204, 5: 41, 14: 304, 10: 4, 15: 84, 13: 29, 11: 25, 12: 27}, {8: 169, 3: 346, 0: 346, 9: 168}, {14: 1162, 12: 97, 15: 378, 0: 547, 3: 481, 1: 192, 7: 368, 4: 369, 8: 1711, 9: 1289, 13: 95, 11: 89, 10: 19, 5: 4, 2: 1}, {8: 263, 0: 171, 3: 171, 9: 252, 7: 344, 4: 350, 14: 229, 15: 61, 13: 12, 11: 19, 12: 20, 10: 3}, {9: 186, 3: 346, 0: 346, 8: 152}, {3: 346, 9: 2626, 8: 2415, 1: 329, 0: 17}, {9: 267, 15: 166, 11: 40, 14: 523, 2: 287, 3: 621, 7: 514, 6: 154, 12: 41, 0: 560, 4: 335, 8: 214, 1: 169, 13: 38, 5: 30, 10: 4}, {8: 1327, 9: 1168, 3: 287, 11: 27, 15: 116, 14: 339, 1: 139, 7: 565, 4: 494, 10: 5, 0: 148, 12: 37, 5: 75, 13: 30}, {3: 346, 0: 346, 8: 161, 9: 177}, {8: 157, 3: 466, 0: 352, 1: 385, 9: 180, 14: 1909, 15: 591, 12: 148, 11: 123, 13: 174, 7: 150, 4: 130, 10: 25, 5: 20}, {8: 530, 14: 810, 0: 756, 3: 524, 11: 56, 4: 341, 7: 376, 9: 559, 13: 61, 15: 237, 6: 37, 12: 63, 2: 57, 10: 9}, {3: 346, 0: 346, 8: 158, 9: 175}, {9: 3087, 8: 1919, 0: 346, 3: 346}, {8: 2646, 9: 2386, 3: 346, 1: 346}, {9: 456, 8: 552, 0: 346, 3: 346}, {9: 2155, 8: 2002, 2: 271, 3: 684, 11: 127, 14: 1483, 15: 424, 7: 499, 6: 129, 0: 384, 1: 408, 4: 339, 13: 124, 12: 109, 5: 37, 10: 11}, {8: 2834, 9: 2185, 0: 346, 3: 346}, {8: 1143, 9: 914, 3: 234, 0: 234, 7: 492, 4: 457, 15: 91, 14: 332, 5: 37, 11: 28, 12: 25, 13: 21, 10: 6}, {8: 1525, 9: 1505, 3: 364, 0: 614, 1: 9}, {8: 1922, 9: 1091, 3: 346, 0: 622}, {9: 1537, 3: 346, 0: 346, 8: 1487}, {8: 2896, 9: 2072, 1: 176, 3: 438, 0: 262}, {8: 208, 3: 560, 2: 184, 0: 670, 9: 219, 1: 51}, {8: 1499, 9: 1499, 1: 156, 3: 346, 0: 190}, {9: 1694, 8: 1965, 0: 451, 3: 1384, 1: 933}, {8: 2507, 9: 2523, 14: 223, 1: 167, 3: 362, 0: 473, 11: 19, 4: 2961, 7: 2977, 15: 56, 13: 24, 5: 30, 12: 15, 10: 2}, {8: 2610, 9: 2142, 3: 434, 1: 245, 0: 185, 2: 4}, {3: 1375, 0: 111, 8: 1828, 1: 1264, 9: 1880}, {8: 2391, 14: 1389, 12: 126, 11: 111, 3: 469, 0: 373, 9: 2595, 1: 361, 15: 415, 4: 670, 7: 690, 13: 109, 5: 27, 10: 11}, {9: 2764, 8: 3162, 2: 98, 3: 407, 7: 168, 6: 25, 1: 352, 0: 273, 11: 24, 14: 256, 15: 79, 4: 141, 13: 21, 12: 25, 10: 1, 5: 4}, {3: 346, 0: 346, 8: 156, 9: 182}, {8: 530, 9: 473, 0: 346, 3: 346}, {8: 1454, 9: 1586, 3: 346, 0: 346}, {9: 1501, 8: 1538, 1: 160, 3: 346, 0: 186}, {9: 2640, 8: 2341, 3: 346, 1: 346}, {8: 2423, 9: 2234, 15: 1579, 14: 4944, 12: 377, 0: 274, 3: 346, 1: 346, 4: 2607, 7: 2721, 13: 420, 11: 407, 10: 64, 5: 136}, {9: 3023, 8: 2048, 15: 150, 13: 36, 14: 460, 3: 512, 2: 233, 7: 190, 6: 51, 1: 10, 0: 651, 12: 38, 4: 116, 5: 23, 11: 34, 10: 6}, {8: 222, 3: 508, 0: 691, 7: 3143, 4: 2521, 14: 247, 11: 23, 5: 501, 1: 76, 9: 129, 2: 38, 6: 131, 12: 25, 13: 30, 10: 3, 15: 75}, {8: 1682, 9: 1340, 3: 346, 1: 151, 0: 195}, {8: 1702, 9: 1300, 14: 1820, 3: 346, 0: 615, 15: 556, 13: 133, 7: 1386, 4: 1259, 5: 140, 11: 136, 12: 170, 10: 24}, {8: 522, 9: 534, 0: 346, 3: 346}, {9: 1604, 8: 1413, 3: 346, 0: 278, 1: 346}, {9: 793, 8: 659, 3: 586, 1: 538, 0: 48, 5: 1, 7: 2, 4: 1, 10: 1}, {8: 213, 3: 538, 2: 111, 0: 684, 11: 83, 14: 1018, 15: 304, 4: 632, 7: 812, 13: 83, 5: 85, 12: 89, 9: 177, 6: 100, 1: 58, 10: 12}, {9: 1458, 3: 346, 0: 346, 8: 1572}, {9: 1746, 3: 346, 8: 1931, 1: 346}, {9: 1269, 8: 1704, 3: 346, 0: 346}, {8: 173, 3: 371, 1: 349, 9: 164, 0: 22}, {9: 167, 3: 384, 0: 649, 8: 172, 1: 5, 2: 4}, {8: 2782, 9: 2245, 14: 1057, 12: 88, 13: 91, 15: 320, 0: 539, 3: 436, 1: 172, 7: 1046, 4: 1037, 11: 75, 5: 12, 10: 10}, {9: 836, 8: 1040, 15: 80, 3: 262, 1: 225, 14: 271, 7: 426, 4: 371, 0: 199, 12: 26, 13: 29, 5: 57, 11: 19}, {8: 1433, 9: 1591, 3: 346, 0: 345}, {8: 217, 3: 420, 2: 64, 1: 166, 0: 190, 9: 186}, {9: 210, 2: 102, 3: 472, 8: 219, 1: 360, 0: 9}, {8: 167, 3: 346, 0: 346, 9: 163}, {0: 430, 3: 1314, 8: 2140, 9: 1397, 1: 884, 5: 1, 7: 2, 4: 1, 10: 1}, {9: 1775, 8: 2942, 3: 346, 1: 167, 0: 179}, {9: 1114, 8: 1089, 3: 157, 1: 157, 15: 2, 14: 5, 11: 2, 13: 1, 5: 8, 7: 8}, {9: 1312, 8: 2060, 3: 505, 0: 710, 1: 65, 2: 4}, {9: 415, 8: 594, 0: 663, 3: 428, 14: 1225, 13: 73, 7: 651, 4: 655, 11: 101, 15: 366, 12: 115, 1: 34, 10: 13, 2: 2, 5: 9}, {3: 228, 1: 116, 0: 288, 8: 1286, 9: 717}, {8: 1210, 9: 1779, 14: 356, 15: 103, 0: 365, 3: 465, 1: 370, 11: 30, 7: 138, 4: 130, 13: 32, 5: 11, 12: 28, 10: 6}, {8: 489, 3: 346, 0: 621, 9: 521}, {8: 541, 9: 466, 3: 346, 0: 346}, {8: 1407, 9: 1613, 3: 346, 0: 345}, {9: 1568, 8: 1441, 14: 5104, 11: 429, 3: 346, 15: 1609, 12: 395, 0: 345, 4: 2734, 7: 2992, 5: 269, 13: 386, 10: 54}, {8: 2219, 3: 346, 9: 1421, 1: 346}, {9: 2697, 8: 2348, 1: 147, 3: 346, 0: 199}, {8: 1577, 9: 1403, 1: 172, 3: 346, 0: 174}, {8: 2931, 9: 2053, 1: 163, 3: 346, 0: 183}, {8: 168, 3: 346, 0: 346, 9: 171}, {8: 2399, 9: 1443, 3: 287, 1: 287, 14: 18, 11: 2, 13: 1, 15: 4, 5: 23, 7: 23, 12: 2}, {9: 25, 3: 55, 1: 28, 0: 27, 8: 26}, {8: 158, 3: 346, 0: 346, 9: 173}, {8: 2226, 9: 1463, 1: 922, 3: 1388, 0: 466}, {9: 617, 8: 374, 0: 346, 3: 346}, {8: 523, 3: 346, 1: 346, 9: 526}, {9: 801, 0: 199, 3: 630, 8: 688, 1: 549, 10: 1, 7: 2, 5: 1, 4: 1}, {9: 1755, 8: 1580, 1: 172, 3: 423, 0: 251, 7: 134, 4: 135, 14: 238, 15: 72, 11: 20, 13: 22, 12: 22, 10: 2, 5: 1}, {9: 2641, 8: 2367, 0: 346, 3: 346}, {9: 392, 8: 604, 3: 346, 0: 346}, {8: 1575, 9: 1483, 3: 346, 0: 346}, {8: 1897, 9: 1124, 3: 346, 1: 165, 0: 181}, {9: 1786, 3: 346, 8: 1259, 1: 346}, {8: 2972, 9: 2051, 0: 346, 3: 346}, {9: 1792, 8: 1927, 3: 346, 1: 346}, {9: 1073, 8: 1907, 3: 346, 0: 346}, {9: 2033, 8: 1332, 3: 369, 1: 161, 0: 489, 15: 76, 7: 108, 4: 103, 14: 236, 13: 21, 5: 5, 11: 19, 12: 23, 10: 2}, {9: 1782, 8: 1232, 3: 346, 1: 346}, {8: 4002, 9: 5143, 0: 370, 3: 464, 1: 363}, {9: 2555, 8: 2507, 3: 346, 0: 270, 1: 346}, {8: 1681, 9: 1380, 3: 346, 0: 625}, {9: 1506, 8: 2148, 1: 1271, 3: 1390, 0: 119}, {9: 1760, 8: 1273, 3: 442, 14: 1031, 15: 327, 0: 632, 7: 701, 4: 435, 5: 268, 11: 72, 13: 83, 1: 82, 12: 72, 2: 5, 10: 8}, {8: 2853, 9: 1826, 0: 331, 3: 413, 1: 354, 4: 341, 7: 354, 14: 164, 15: 51, 11: 20, 13: 12, 12: 13, 5: 19}, {9: 2646, 8: 2099, 0: 180, 3: 346, 1: 166}, {9: 401, 3: 346, 0: 276, 1: 346, 8: 602}, {8: 2928, 1: 163, 3: 366, 0: 469, 9: 2086}, {9: 2003, 3: 346, 0: 346, 8: 1684}, {8: 399, 9: 592, 3: 346, 0: 346}, {8: 174, 3: 424, 1: 9, 0: 682, 15: 102, 14: 339, 5: 28, 7: 342, 4: 317, 9: 159, 13: 32, 12: 28, 11: 26, 10: 3}, {8: 524, 3: 346, 0: 346, 9: 481}, {8: 1693, 9: 2007, 1: 926, 3: 1394, 0: 468}, {9: 2289, 8: 2770, 3: 346, 1: 158, 0: 188}, {8: 1618, 9: 1419, 3: 346, 1: 161, 0: 185}, {8: 1971, 9: 1083, 3: 346, 0: 346}, {8: 2011, 9: 2673, 0: 269, 3: 346, 1: 346}, {9: 2446, 8: 2712, 15: 299, 3: 451, 14: 987, 11: 86, 1: 378, 12: 83, 4: 2746, 7: 3244, 5: 279, 2: 37, 6: 232, 13: 66, 0: 36, 10: 13}, {8: 156, 3: 294, 0: 291, 9: 123, 5: 18, 7: 19, 1: 2, 14: 35, 13: 4, 15: 11, 11: 3, 6: 1, 2: 1}, {8: 548, 9: 470, 3: 346, 0: 346}, {8: 1330, 3: 460, 14: 790, 0: 642, 15: 223, 11: 60, 7: 366, 4: 289, 5: 78, 9: 1697, 10: 11, 1: 81, 13: 64, 12: 61, 2: 5}, {8: 601, 9: 405, 3: 346, 0: 346}, {9: 1500, 8: 1525, 3: 346, 1: 161, 0: 460, 15: 86, 14: 325, 7: 128, 5: 9, 4: 120, 13: 29, 11: 22, 12: 30, 10: 1}, {9: 1738, 3: 346, 8: 1908, 1: 346}, {9: 1325, 8: 1286, 1: 144, 3: 301, 0: 157}, {3: 346, 0: 346, 8: 502, 9: 513}, {8: 836, 9: 475, 3: 154, 1: 78, 0: 76, 7: 8, 5: 8}, {8: 223, 3: 346, 1: 157, 0: 189, 9: 118}, {8: 2505, 9: 2523, 0: 734, 3: 461, 1: 5}, {3: 346, 8: 169, 1: 346, 9: 167}, {9: 1586, 8: 1446, 3: 346, 1: 163, 0: 183}, {8: 1939, 9: 1771, 3: 346, 1: 346}, {8: 1801, 9: 1890, 3: 346, 1: 346}, {8: 2014, 9: 1857, 0: 265, 3: 265, 4: 567, 7: 562, 14: 349, 15: 132, 11: 29, 12: 31, 13: 35, 5: 1, 10: 2}, {8: 1471, 9: 1551, 3: 364, 1: 165, 0: 199}, {8: 1675, 9: 2036, 1: 960, 3: 1410, 0: 450}, {9: 1363, 8: 1635, 3: 346, 0: 346}, {9: 886, 8: 1610, 1: 625, 3: 945, 0: 320}, {3: 346, 8: 146, 1: 346, 9: 187}, {8: 1345, 9: 1647, 3: 346, 1: 346}, {9: 1457, 8: 1557, 3: 346, 1: 157, 0: 189}, {8: 1608, 9: 1433, 3: 346, 1: 346}, {8: 3874, 9: 5123, 1: 161, 3: 346, 0: 185}, {8: 1374, 9: 1654, 15: 437, 14: 1435, 1: 165, 3: 346, 0: 456, 7: 707, 4: 709, 13: 116, 12: 124, 11: 108, 5: 8, 10: 14}, {8: 1536, 3: 346, 0: 613, 9: 1489}, {9: 2607, 8: 2121, 3: 346, 0: 606}, {9: 693, 2: 241, 3: 488, 8: 727, 1: 351, 0: 282}, {8: 1590, 9: 2106, 0: 739, 3: 1391, 1: 923}, {8: 3710, 14: 781, 15: 257, 9: 2425, 7: 470, 6: 107, 2: 232, 3: 658, 1: 423, 0: 360, 11: 56, 4: 338, 5: 26, 13: 59, 12: 71, 10: 12}, {7: 3882, 6: 893, 9: 1366, 14: 7008, 15: 2235, 12: 514, 11: 555, 13: 501, 8: 2552, 2: 199, 3: 453, 0: 271, 10: 76, 1: 349, 4: 2693, 5: 317}, {8: 2763, 9: 1934, 1: 169, 3: 417, 0: 513, 4: 2944, 7: 2961, 5: 33, 14: 270, 15: 78, 11: 14, 13: 17, 10: 2, 12: 33}, {9: 721, 8: 692, 3: 157, 14: 213, 0: 157, 12: 16, 15: 68, 4: 251, 7: 350, 5: 99, 13: 20, 11: 17, 10: 3}, {8: 3039, 9: 1938, 1: 155, 3: 346, 0: 191}, {8: 1442, 9: 2215, 3: 346, 1: 346}, {8: 276, 9: 124, 3: 50, 2: 10, 0: 35, 1: 5}, {8: 158, 3: 435, 15: 88, 14: 309, 1: 178, 7: 155, 4: 142, 9: 174, 0: 536, 12: 25, 5: 15, 11: 24, 13: 31, 10: 3}, {8: 127, 3: 346, 0: 346, 9: 208}, {9: 2735, 8: 2223, 1: 153, 3: 346, 0: 193}, {9: 1568, 8: 1493, 3: 346, 1: 153, 0: 193}, {9: 663, 8: 498, 1: 40, 3: 82, 0: 42}, {9: 133, 3: 346, 1: 346, 8: 197}, {8: 2721, 3: 346, 9: 2260, 1: 346}, {9: 793, 0: 346, 3: 346, 8: 887}, {1: 187, 0: 531, 3: 468, 9: 1634, 8: 1437, 15: 45, 14: 117, 4: 129, 7: 131, 10: 1, 13: 15, 2: 20, 12: 4, 11: 3, 5: 2, 6: 2}, {3: 346, 0: 346, 9: 132, 8: 204}, {8: 608, 9: 418, 3: 366, 0: 365, 1: 1}, {8: 200, 9: 280, 0: 165, 3: 171, 1: 3, 7: 6, 5: 4, 14: 3, 2: 2, 6: 2}, {9: 1337, 8: 1687, 3: 382, 15: 365, 0: 631, 14: 1251, 12: 93, 4: 449, 7: 648, 13: 99, 5: 206, 10: 15, 1: 8, 11: 104}, {9: 2064, 8: 2994, 1: 169, 3: 346, 0: 177}, {9: 1767, 8: 1923, 3: 346, 1: 346, 0: 270}, {8: 466, 3: 346, 0: 346, 9: 549}, {9: 1465, 8: 1572, 3: 431, 0: 325, 1: 377}, {9: 2269, 3: 346, 8: 2761, 1: 346}, {8: 640, 14: 283, 3: 147, 0: 117, 9: 597, 1: 138, 15: 79, 7: 284, 4: 278, 11: 29, 12: 20, 13: 25, 5: 8, 10: 2}, {8: 3195, 9: 1880, 0: 368, 3: 372, 1: 4}, {9: 20, 3: 37, 0: 37, 8: 16}, {8: 1121, 9: 1732, 3: 201, 0: 197, 1: 4, 7: 9, 5: 9, 15: 5, 14: 15, 12: 2}, {9: 518, 8: 473, 0: 711, 3: 438, 1: 2}, {8: 2674, 9: 2753, 3: 537, 2: 104, 15: 172, 6: 92, 7: 781, 14: 582, 0: 333, 11: 56, 1: 404, 5: 97, 4: 599, 12: 48, 13: 46, 10: 3}, {9: 142, 3: 346, 1: 346, 8: 195}, {8: 2433, 9: 2663, 3: 346, 1: 346}, {8: 514, 3: 403, 0: 329, 9: 353, 1: 71, 2: 3}, {9: 606, 8: 1121, 3: 118, 2: 23, 0: 95}, {8: 2486, 9: 2563, 0: 178, 3: 346, 1: 168}, {8: 550, 9: 472, 3: 346, 1: 346}, {9: 1704, 8: 2016, 0: 621, 3: 346}, {8: 3048, 9: 1998, 3: 346, 1: 346}, {8: 129, 3: 302, 1: 301, 9: 155, 6: 5, 7: 21, 15: 15, 14: 39, 12: 7, 13: 4, 2: 1, 5: 16, 11: 4}, {8: 1289, 9: 1417, 3: 206, 1: 206, 15: 10, 11: 3, 14: 37, 13: 3, 12: 2, 7: 15, 5: 16}, {8: 2930, 9: 1735, 3: 346, 1: 346}, {9: 909, 8: 1100, 1: 118, 3: 235, 0: 117}, {9: 2303, 8: 2750, 14: 661, 15: 187, 0: 294, 3: 360, 1: 348, 7: 1018, 4: 977, 13: 58, 12: 53, 5: 52, 11: 53, 10: 7}, {8: 183, 3: 346, 1: 346, 9: 155}, {8: 142, 9: 116, 3: 30, 0: 30}, {9: 788, 8: 754, 3: 221, 2: 72, 0: 276, 14: 284, 11: 25, 15: 80, 5: 8, 7: 66, 6: 7, 12: 20, 13: 23, 4: 51, 1: 16, 10: 2}, {9: 2284, 8: 2747, 3: 346, 1: 346}, {8: 152, 3: 308, 2: 54, 0: 243, 9: 87, 1: 11, 14: 62, 13: 7, 11: 4, 12: 6, 15: 22, 7: 36, 5: 36, 10: 1}, {8: 2752, 9: 2230, 3: 346, 1: 346}, {8: 2055, 9: 2595, 3: 346, 1: 346}, {3: 346, 9: 147, 1: 346, 8: 190}, {8: 155, 3: 296, 0: 296, 9: 140, 7: 626, 4: 560, 14: 388, 12: 36, 15: 128, 11: 36, 13: 32, 5: 71, 10: 2}, {9: 1985, 8: 2035, 3: 487, 2: 201, 0: 636, 1: 8}, {8: 3363, 14: 5353, 15: 1674, 11: 425, 13: 426, 12: 419, 1: 161, 3: 408, 0: 524, 4: 2707, 7: 2719, 10: 49, 9: 1978, 5: 26}, {8: 1827, 9: 1873, 3: 346, 1: 168, 0: 178}, {8: 1315, 9: 1683, 3: 346, 1: 154, 0: 192}, {9: 493, 3: 346, 0: 346, 8: 503}, {9: 1888, 8: 2185, 3: 421, 15: 31, 1: 158, 4: 121, 7: 141, 0: 224, 2: 39, 6: 16, 14: 104, 12: 10, 13: 7, 11: 8, 5: 5, 10: 2}, {9: 1513, 8: 1517, 0: 346, 3: 346}, {9: 1538, 8: 1439, 1: 170, 3: 346, 0: 176}, {8: 2367, 9: 2606, 1: 154, 3: 346, 0: 192}, {9: 431, 8: 374, 2: 65, 3: 274, 0: 183, 1: 237}, {8: 432, 9: 582, 3: 346, 0: 626}, {8: 2484, 9: 2555, 0: 179, 3: 346, 1: 167}, {9: 1647, 8: 1389, 3: 346, 1: 346}, {8: 215, 3: 346, 1: 346, 9: 124}, {8: 175, 3: 346, 0: 346, 9: 197}, {9: 465, 8: 540, 0: 725, 3: 462, 1: 3}, {8: 407, 9: 615, 3: 346, 0: 346}, {3: 346, 1: 346, 9: 186, 8: 151}, {8: 1854, 3: 346, 1: 346, 9: 1119}, {9: 2751, 8: 2232, 3: 346, 0: 274, 1: 346}, {8: 2287, 3: 346, 1: 346, 9: 1395}, {9: 492, 8: 519, 1: 169, 3: 377, 0: 479, 7: 693, 4: 694, 15: 78, 14: 272, 12: 26, 5: 6, 11: 24, 13: 19, 10: 2, 2: 1}, {9: 2775, 8: 2290, 1: 156, 3: 346, 0: 454}, {8: 174, 3: 346, 1: 155, 0: 191, 9: 163}, {8: 167, 3: 346, 0: 346, 7: 2766, 4: 2414, 14: 227, 13: 21, 15: 70, 9: 168, 5: 365, 12: 20, 11: 12, 10: 3}, {9: 246, 15: 503, 14: 1808, 13: 146, 11: 141, 12: 134, 7: 844, 6: 160, 2: 153, 3: 509, 8: 158, 0: 315, 1: 372, 4: 606, 5: 84, 10: 20}, {9: 1488, 1: 164, 3: 346, 8: 1546, 0: 182}, {8: 2764, 9: 1675, 0: 310, 3: 310}, {9: 1359, 8: 1640, 3: 465, 1: 407, 0: 58}, {9: 143, 1: 358, 3: 455, 0: 357, 8: 195}, {3: 346, 0: 346, 8: 164, 9: 167}, {8: 1770, 9: 1918, 1: 1288, 3: 1413, 0: 125}, {6: 426, 8: 1861, 9: 1602, 14: 5966, 13: 477, 2: 53, 15: 1878, 12: 470, 3: 401, 7: 3140, 1: 348, 4: 2446, 11: 468, 10: 47, 5: 283}, {8: 621, 9: 374, 0: 346, 3: 346}, {9: 738, 8: 1154, 1: 674, 3: 756, 14: 1023, 11: 91, 15: 326, 0: 221, 12: 71, 4: 397, 7: 886, 5: 491, 13: 68, 10: 14}, {8: 1201, 9: 1106, 1: 833, 3: 920, 14: 4276, 15: 1331, 12: 318, 11: 349, 0: 251, 5: 750, 7: 2484, 4: 1744, 10: 48, 13: 367, 2: 1}, {9: 1544, 8: 1651, 0: 532, 3: 449, 1: 165, 14: 672, 15: 199, 10: 8, 7: 405, 4: 384, 11: 58, 12: 57, 6: 26, 2: 37, 13: 60}, {9: 1049, 8: 1944, 3: 346, 1: 346}, {8: 154, 3: 346, 0: 346, 9: 181}, {9: 1442, 8: 1269, 1: 967, 3: 1050, 0: 83}, {9: 1003, 8: 1543, 1: 889, 3: 950, 0: 61, 10: 1, 7: 2, 4: 1, 5: 1}, {8: 5241, 9: 6793, 1: 157, 3: 346, 0: 457}, {8: 2271, 9: 2740, 3: 346, 1: 346}, {9: 2329, 8: 2713, 1: 158, 3: 346, 7: 999, 4: 997, 14: 1285, 15: 386, 0: 468, 12: 109, 11: 95, 13: 87, 10: 9, 5: 8}, {8: 47, 3: 29, 14: 115, 15: 37, 0: 49, 4: 76, 7: 90, 13: 12, 9: 35, 5: 14, 11: 13, 10: 2, 12: 8}, {9: 425, 8: 575, 15: 345, 13: 82, 11: 93, 14: 1159, 0: 711, 3: 436, 7: 364, 4: 367, 12: 81, 10: 17, 1: 1}, {9: 206, 3: 346, 0: 346, 8: 129}, {8: 363, 9: 338, 0: 86, 3: 247, 1: 161}, {8: 1144, 9: 1543, 3: 255, 1: 130, 0: 124, 11: 2, 15: 3, 13: 1, 14: 6, 12: 3, 5: 6, 7: 7, 6: 1, 2: 1}, {9: 1360, 8: 1668, 0: 346, 3: 346}, {9: 641, 3: 346, 0: 346, 8: 422}, {3: 344, 9: 2148, 8: 2530, 1: 344}, {15: 500, 9: 2610, 8: 4511, 7: 890, 6: 185, 2: 218, 3: 622, 0: 371, 1: 388, 14: 1547, 13: 109, 4: 684, 12: 132, 11: 140, 5: 31, 10: 18}, {9: 3103, 8: 2647, 3: 465, 2: 52, 0: 387, 1: 26}, {9: 1767, 8: 1255, 3: 346, 1: 346}, {9: 1682, 8: 1685, 3: 349, 1: 148, 0: 201}, {3: 346, 8: 1501, 9: 1521, 1: 346}, {9: 1693, 8: 1339, 3: 346, 1: 346}, {8: 1475, 9: 2232, 3: 346, 1: 346}, {8: 151, 3: 346, 0: 346, 9: 183}, {8: 1372, 3: 346, 1: 151, 9: 1623, 0: 195}, {8: 1591, 9: 1437, 1: 157, 3: 350, 0: 465}, {8: 1581, 9: 1463, 3: 441, 15: 219, 1: 180, 0: 540, 14: 847, 4: 640, 7: 687, 12: 68, 13: 68, 11: 74, 5: 52, 10: 8}, {8: 2236, 2: 101, 3: 492, 9: 1477, 1: 183, 0: 208, 4: 117, 7: 175, 14: 126, 13: 12, 6: 37, 5: 21, 12: 10, 15: 41, 11: 10, 10: 1}, {8: 1595, 2: 104, 9: 1945, 3: 466, 0: 299, 1: 392, 14: 192, 15: 63, 7: 141, 5: 22, 4: 102, 13: 16, 6: 19, 12: 20, 11: 14}, {9: 1707, 8: 1310, 3: 346, 0: 622}, {8: 1621, 9: 1416, 3: 346, 0: 612}, {9: 484, 8: 522, 3: 355, 1: 355}, {8: 151, 3: 347, 0: 280, 1: 347, 9: 179}, {8: 1537, 9: 1508, 1: 157, 3: 376, 0: 219}, {8: 137, 3: 346, 1: 346, 9: 200}, {8: 1941, 9: 1087, 3: 346, 0: 346}, {9: 1663, 8: 2072, 0: 340, 3: 441, 1: 382}, {9: 1212, 8: 1781, 3: 355, 1: 168, 0: 187, 7: 123, 4: 115, 13: 22, 14: 184, 15: 62, 11: 12, 12: 16, 5: 8, 10: 3}, {8: 145, 3: 346, 0: 346, 9: 190}, {3: 346, 8: 129, 1: 346, 9: 207}, {8: 3150, 9: 1894, 3: 346, 0: 346}, {9: 458, 8: 542, 0: 346, 3: 346}, {8: 468, 9: 534, 0: 346, 3: 346}, {7: 152, 6: 29, 14: 205, 15: 59, 11: 27, 8: 594, 3: 454, 2: 89, 9: 666, 0: 352, 12: 11, 4: 116, 13: 17, 5: 10, 1: 13, 10: 2}, {8: 2121, 9: 2924, 1: 168, 3: 346, 0: 178}, {9: 1582, 8: 1451, 3: 346, 1: 162, 0: 184}, {9: 695, 8: 673, 14: 1100, 13: 104, 2: 245, 3: 570, 6: 139, 7: 520, 1: 381, 11: 85, 15: 344, 0: 335, 4: 324, 12: 66, 5: 64, 10: 4}, {9: 1435, 3: 306, 1: 138, 8: 1200, 0: 168}, {9: 161, 3: 346, 0: 346, 8: 173}, {8: 459, 9: 482, 0: 322, 3: 322}, {9: 137, 3: 363, 0: 356, 8: 196, 1: 7}, {8: 2977, 9: 1985, 3: 346, 1: 346}, {8: 184, 3: 346, 1: 158, 0: 454, 9: 149}, {9: 2878, 8: 2669, 2: 184, 3: 503, 1: 397, 0: 272}, {8: 1350, 9: 1479, 14: 438, 15: 144, 3: 319, 11: 42, 1: 319, 7: 646, 4: 596, 5: 57, 12: 38, 13: 38, 10: 2}, {11: 32, 14: 368, 9: 3305, 8: 2924, 7: 3689, 6: 695, 2: 173, 3: 562, 0: 707, 4: 2950, 1: 27, 5: 61, 12: 33, 15: 125, 13: 30, 10: 6}, {8: 1547, 9: 1481, 0: 346, 3: 346}, {9: 3170, 8: 2177, 3: 369, 14: 541, 11: 40, 1: 351, 4: 608, 7: 651, 0: 285, 13: 50, 15: 185, 12: 52, 5: 51, 10: 5}, {9: 192, 3: 346, 1: 346, 8: 142}, {9: 1476, 8: 1565, 3: 346, 1: 162, 0: 184}, {8: 1776, 9: 1268, 1: 166, 3: 346, 0: 180}, {8: 1500, 9: 1507, 3: 346, 0: 346}, {9: 676, 8: 768, 1: 54, 3: 98, 0: 44}, {8: 2541, 9: 2491, 3: 346, 0: 346}, {9: 1053, 8: 1972, 3: 346, 0: 613, 15: 236, 14: 815, 12: 57, 4: 576, 7: 704, 5: 138, 13: 64, 11: 59, 10: 11}, {3: 346, 1: 346, 8: 144, 9: 192}, {9: 1609, 8: 1413, 3: 346, 1: 346}, {8: 1650, 9: 1368, 3: 346, 1: 346}, {9: 1460, 8: 1542, 1: 157, 3: 346, 0: 189}, {8: 631, 9: 373, 3: 346, 1: 346}, {8: 173, 3: 346, 1: 164, 9: 160, 0: 182}, {9: 433, 8: 590, 3: 346, 1: 346}, {8: 1568, 1: 175, 3: 435, 9: 1451, 0: 260}, {9: 456, 8: 558, 3: 346, 0: 346}, {9: 1533, 8: 1461, 3: 377, 0: 370, 1: 7}, {9: 498, 0: 698, 3: 421, 8: 514, 12: 135, 11: 125, 14: 1643, 15: 497, 13: 139, 10: 19, 4: 124, 7: 123}, {9: 1446, 1: 151, 3: 346, 8: 2183, 0: 195}, {14: 1110, 15: 311, 11: 113, 3: 373, 0: 301, 8: 155, 1: 350, 7: 670, 4: 658, 9: 182, 13: 77, 5: 19, 12: 96, 10: 16}, {8: 1164, 9: 1834, 3: 386, 0: 288, 1: 365}, {9: 1760, 8: 1934, 3: 346, 1: 346, 0: 268}, {8: 2771, 9: 2533, 0: 284, 3: 414, 1: 396, 2: 6}, {8: 2342, 3: 346, 1: 156, 9: 1334, 0: 190}, {8: 373, 9: 300, 3: 229, 0: 177, 1: 229}, {8: 1576, 9: 1417, 1: 164, 3: 346, 0: 182}, {9: 1300, 1: 242, 3: 451, 8: 1701, 0: 203, 2: 6}, {0: 692, 3: 431, 9: 508, 8: 486}, {8: 1723, 3: 346, 0: 346, 9: 1298}, {9: 1654, 1: 157, 3: 346, 8: 1368, 0: 189}, {9: 205, 3: 346, 1: 346, 8: 127}, {9: 2728, 8: 2316, 3: 346, 1: 346}, {9: 510, 3: 346, 14: 414, 15: 148, 0: 275, 8: 493, 1: 346, 4: 556, 7: 664, 13: 28, 11: 31, 5: 114, 12: 33, 10: 2}, {8: 1817, 3: 469, 0: 707, 9: 1197, 1: 34, 2: 1}, {8: 150, 3: 406, 14: 305, 15: 107, 1: 45, 0: 626, 7: 372, 5: 72, 4: 304, 9: 190, 13: 27, 12: 28, 11: 19, 10: 4}, {9: 560, 0: 384, 3: 435, 8: 432, 12: 121, 15: 415, 14: 1357, 11: 109, 4: 120, 7: 121, 13: 93, 1: 47, 10: 11, 2: 4, 5: 1}, {8: 91, 3: 156, 0: 156, 7: 323, 4: 315, 9: 73, 14: 183, 15: 63, 5: 15, 12: 19, 11: 16, 13: 11, 10: 4}, {9: 485, 3: 346, 1: 346, 8: 524}, {9: 1571, 1: 143, 3: 294, 8: 1188, 0: 151, 7: 27, 5: 27, 15: 1}, {8: 3350, 9: 1649, 1: 158, 3: 346, 0: 188}, {8: 94, 3: 190, 15: 79, 0: 190, 7: 405, 4: 372, 5: 36, 14: 289, 9: 106, 11: 25, 12: 26, 13: 29, 10: 1}, {9: 1545, 3: 346, 1: 156, 0: 455, 8: 1473}, {9: 216, 3: 425, 2: 74, 0: 351, 8: 195}, {9: 395, 3: 305, 0: 305, 8: 489}, {8: 1731, 9: 1801, 3: 483, 0: 429, 12: 57, 11: 57, 14: 679, 15: 227, 7: 397, 4: 317, 1: 34, 2: 20, 5: 68, 13: 43, 6: 16, 10: 6}, {9: 1796, 8: 1874, 3: 346, 1: 346}, {3: 1407, 1: 1278, 0: 129, 8: 1812, 9: 1898}, {7: 237, 6: 50, 9: 654, 8: 893, 2: 55, 3: 158, 1: 94, 0: 99, 4: 176, 5: 13, 15: 32, 14: 70, 11: 15, 12: 6, 10: 1, 13: 3}, {8: 2512, 9: 2479, 1: 154, 3: 346, 0: 192}, {8: 3209, 9: 2191, 13: 456, 14: 5385, 12: 405, 15: 1666, 1: 147, 3: 365, 4: 2963, 7: 2973, 11: 430, 0: 218, 10: 59, 5: 26}, {9: 520, 8: 491, 0: 346, 3: 346}, {8: 114, 3: 275, 0: 417, 9: 77, 1: 14, 14: 2, 7: 4, 6: 2, 2: 1, 5: 2}, {9: 1598, 8: 1395, 3: 346, 1: 346}, {9: 1582, 8: 1442, 1: 156, 3: 346, 0: 190}, {9: 210, 2: 178, 3: 449, 0: 471, 1: 157, 8: 222}, {15: 65, 3: 171, 14: 224, 1: 171, 9: 83, 5: 13, 7: 348, 4: 335, 8: 93, 11: 19, 13: 22, 12: 22, 10: 3}, {8: 1613, 9: 1371, 1: 163, 3: 346, 0: 440}, {9: 1895, 8: 1595, 3: 441, 2: 94, 7: 434, 6: 62, 0: 650, 5: 103, 4: 273, 1: 18, 14: 291, 11: 23, 13: 24, 12: 26, 15: 94, 10: 1}, {8: 2525, 9: 2494, 0: 346, 3: 346}, {9: 2387, 8: 2666, 1: 141, 3: 346, 0: 205}, {8: 448, 9: 556, 0: 346, 3: 346}, {9: 1653, 8: 2024, 3: 346, 1: 346}, {0: 346, 3: 346, 9: 765, 8: 914}, {8: 1597, 3: 418, 15: 100, 14: 288, 13: 27, 12: 18, 1: 192, 0: 498, 9: 1415, 7: 351, 4: 342, 5: 17, 10: 2, 11: 29}, {8: 1866, 9: 1130, 1: 156, 3: 346, 0: 190}, {0: 175, 3: 226, 8: 1053, 9: 847, 1: 226, 7: 6, 5: 6, 14: 7, 15: 4, 13: 1}, {8: 2135, 9: 1979, 1: 135, 3: 281, 0: 146}, {9: 1048, 3: 346, 1: 172, 8: 1978, 0: 173}, {9: 577, 3: 346, 1: 346, 8: 429}, {8: 863, 9: 712, 3: 183, 0: 318, 4: 244, 7: 365, 5: 126, 15: 67, 14: 239, 1: 3, 12: 17, 11: 21, 13: 24, 10: 2}, {8: 3062, 9: 1953, 14: 565, 0: 571, 3: 545, 4: 667, 7: 684, 13: 53, 15: 141, 11: 50, 1: 239, 12: 41, 5: 23, 10: 5, 2: 3}, {8: 2778, 9: 2524, 0: 652, 3: 377, 1: 1}, {8: 2903, 9: 3199, 3: 358, 0: 354, 1: 4}, {9: 480, 8: 516, 0: 346, 3: 346}, {8: 1675, 9: 1327, 3: 346, 1: 346}, {9: 1396, 8: 1628, 1: 155, 3: 364, 0: 209}, {8: 1244, 9: 935, 1: 85, 3: 154, 0: 69, 14: 30, 13: 1, 15: 11, 11: 3, 12: 4, 5: 20, 7: 20}, {9: 1690, 8: 1236, 3: 335, 1: 335}, {9: 159, 3: 364, 1: 363, 8: 172, 2: 1}, {9: 2431, 8: 2477, 3: 370, 15: 56, 0: 281, 1: 368, 7: 367, 4: 336, 14: 207, 13: 25, 5: 35, 11: 23, 10: 2, 12: 21, 2: 2}, {8: 1267, 9: 1735, 3: 346, 1: 346}, {9: 760, 8: 646, 3: 161, 1: 79, 4: 345, 7: 370, 14: 210, 15: 61, 0: 82, 10: 3, 13: 25, 5: 28, 11: 12, 12: 19}, {9: 346, 8: 647, 0: 346, 3: 346}, {8: 1560, 9: 1469, 3: 346, 0: 614}, {9: 2235, 8: 2429, 11: 140, 14: 1711, 3: 346, 15: 493, 1: 346, 4: 1030, 7: 1056, 0: 279, 5: 43, 10: 15, 12: 129, 13: 150}, {8: 1915, 9: 1087, 3: 346, 1: 345}, {8: 1975, 3: 346, 9: 1042, 1: 346, 0: 262}, {8: 366, 2: 23, 12: 77, 14: 859, 13: 76, 15: 253, 3: 77, 7: 80, 6: 14, 9: 309, 11: 67, 0: 78, 4: 64, 10: 10, 1: 34, 5: 3}, {8: 1270, 9: 1719, 3: 368, 0: 648, 14: 938, 13: 74, 4: 353, 7: 376, 15: 281, 11: 80, 12: 64, 5: 28, 10: 13, 1: 1}, {9: 1600, 8: 1608, 3: 535, 0: 361, 1: 417, 4: 2603, 7: 2880, 14: 568, 11: 43, 15: 155, 10: 8, 13: 37, 12: 54, 5: 169, 6: 124, 2: 37}, {9: 1493, 8: 1500, 3: 465, 1: 387, 0: 353, 7: 387, 4: 354, 15: 72, 14: 248, 12: 27, 13: 23, 11: 20, 5: 39, 10: 3}, {9: 2628, 8: 2387, 3: 445, 1: 414, 0: 303, 2: 5}, {9: 2530, 8: 2474, 3: 393, 15: 415, 1: 378, 4: 627, 7: 697, 14: 1400, 0: 278, 12: 120, 11: 132, 5: 74, 13: 114, 2: 4, 10: 18}, {8: 1602, 3: 346, 1: 157, 9: 1466, 0: 189}, {8: 2022, 9: 1670, 3: 366, 1: 349, 0: 286, 4: 313, 7: 342, 15: 46, 14: 155, 12: 19, 11: 12, 13: 17, 5: 32, 10: 3}, {8: 173, 3: 346, 1: 346, 9: 163}, {3: 528, 2: 241, 8: 3635, 9: 3258, 1: 165, 0: 519}, {8: 1370, 9: 1646, 3: 355, 10: 66, 14: 5375, 11: 427, 12: 453, 15: 1714, 13: 433, 0: 630, 4: 2341, 7: 2979, 5: 651}, {9: 386, 8: 617, 0: 622, 3: 346, 13: 72, 15: 275, 14: 944, 7: 364, 4: 369, 11: 71, 10: 18, 12: 61}, {8: 151, 3: 346, 0: 614, 9: 190}, {8: 1544, 9: 1490, 3: 346, 0: 346}, {8: 139, 3: 346, 0: 346, 9: 195}, {9: 1826, 8: 1823, 1: 941, 3: 1414, 0: 473}, {8: 1006, 9: 1132, 3: 146, 1: 146}, {9: 1853, 8: 1796, 3: 346, 0: 346}, {8: 449, 3: 346, 9: 559, 1: 346}, {9: 2442, 3: 386, 13: 23, 14: 270, 15: 87, 0: 641, 8: 2370, 7: 138, 4: 123, 5: 8, 11: 23, 2: 53, 12: 21, 6: 9, 10: 4}, {9: 3001, 8: 3000, 3: 443, 0: 647, 1: 60}, {9: 2775, 8: 2332, 0: 346, 3: 346}, {9: 2431, 8: 2616, 3: 372, 13: 287, 14: 3789, 15: 1164, 12: 293, 11: 298, 1: 371, 4: 349, 7: 374, 5: 28, 10: 33, 2: 1}, {8: 291, 2: 94, 3: 449, 1: 355, 14: 373, 15: 100, 7: 174, 4: 131, 9: 143, 6: 33, 13: 31, 12: 38, 5: 12, 11: 29, 10: 6}, {8: 2005, 0: 346, 3: 346, 9: 2654}, {9: 533, 0: 346, 3: 346, 8: 481}, {9: 2865, 8: 2512, 1: 165, 3: 346, 0: 181}, {9: 484, 8: 517, 3: 459, 0: 452, 15: 311, 14: 1057, 13: 90, 12: 77, 4: 672, 7: 710, 5: 45, 1: 7, 11: 71, 10: 9}, {9: 1395, 8: 1636, 3: 424, 0: 662, 1: 34}, {8: 2312, 9: 1378, 3: 346, 1: 167, 0: 179}, {9: 2681, 8: 2335, 0: 261, 3: 346, 1: 346}, {3: 454, 0: 676, 8: 486, 9: 528, 1: 40, 2: 2}, {8: 976, 9: 559, 1: 78, 3: 176, 0: 98}, {9: 1548, 8: 2151, 3: 346, 1: 346}, {9: 1905, 8: 3100, 3: 346, 0: 622}, {8: 158, 3: 461, 1: 49, 0: 679, 9: 178}, {8: 2335, 3: 346, 0: 602, 9: 2316}, {14: 1684, 15: 495, 0: 279, 3: 346, 9: 2253, 8: 1429, 1: 346, 7: 1030, 4: 946, 13: 155, 12: 127, 5: 93, 11: 117, 10: 18}, {9: 1384, 8: 1642, 3: 346, 1: 346}, {8: 490, 3: 346, 1: 346, 9: 521}, {3: 346, 0: 346, 9: 145, 8: 188}, {9: 2366, 8: 2315, 1: 154, 3: 346, 0: 192}, {9: 515, 3: 457, 0: 85, 1: 372, 8: 496}, {9: 1986, 8: 1374, 3: 346, 1: 346}, {8: 2702, 9: 2073, 3: 474, 0: 379, 1: 374, 15: 67, 14: 241, 4: 125, 7: 131, 11: 18, 5: 8, 12: 22, 13: 23, 10: 1}, {8: 184, 3: 346, 1: 174, 0: 172, 9: 155}, {8: 479, 0: 346, 3: 346, 9: 523}, {9: 2987, 3: 346, 0: 346, 8: 3074}, {8: 464, 9: 538, 0: 346, 3: 346}, {3: 173, 0: 173, 9: 260, 8: 239}, {8: 1723, 9: 1316, 0: 346, 3: 346}, {3: 584, 9: 240, 2: 251, 8: 227, 0: 693, 1: 13}, {8: 1974, 9: 1070, 1: 159, 3: 346, 0: 187}, {8: 1522, 9: 1499, 15: 237, 14: 778, 0: 679, 3: 416, 7: 378, 4: 378, 1: 7, 13: 74, 12: 59, 11: 53, 10: 8, 5: 2}, {9: 442, 8: 434, 3: 300, 1: 300, 11: 124, 13: 118, 15: 442, 14: 1496, 4: 109, 7: 125, 12: 125, 5: 17, 10: 16}, {8: 1967, 9: 1750, 3: 346, 1: 346}, {9: 1256, 8: 1180, 1: 585, 3: 890, 0: 305}, {9: 161, 3: 346, 0: 346, 8: 170}, {9: 1402, 8: 1625, 3: 346, 0: 346}, {9: 1328, 3: 346, 1: 154, 8: 1675, 0: 192}, {8: 2306, 3: 414, 0: 274, 9: 1329, 1: 409, 2: 5}, {8: 2154, 3: 470, 9: 1738, 1: 387, 0: 328, 2: 27}, {9: 1535, 3: 346, 1: 171, 8: 1489, 0: 175}, {9: 1152, 8: 1863, 1: 156, 3: 346, 0: 470}, {8: 1649, 9: 1352, 0: 733, 3: 472, 1: 4}, {8: 639, 9: 652, 2: 210, 3: 545, 0: 620, 1: 78}, {9: 915, 8: 773, 3: 196, 0: 196}, {8: 465, 3: 346, 1: 346, 9: 546}, {8: 1492, 9: 1541, 0: 346, 3: 346}, {8: 1416, 3: 346, 9: 1575, 1: 346}, {8: 2381, 9: 2657, 3: 470, 0: 360, 1: 378}, {8: 566, 3: 346, 0: 346, 9: 437}, {8: 204, 3: 346, 0: 346, 9: 140}, {8: 914, 9: 1046, 3: 247, 1: 113, 0: 303, 7: 5, 5: 4, 14: 11, 15: 8, 11: 1, 2: 1, 6: 1, 13: 1}, {8: 159, 3: 346, 1: 161, 0: 185, 9: 180}, {9: 1728, 8: 1946, 3: 346, 0: 346}, {8: 148, 3: 473, 0: 387, 1: 360, 9: 188}, {8: 1888, 3: 346, 0: 622, 9: 1125}, {14: 2185, 15: 644, 12: 161, 11: 176, 13: 197, 8: 1987, 9: 1748, 2: 161, 7: 172, 6: 31, 3: 487, 1: 371, 0: 304, 4: 135, 10: 15, 5: 8}, {9: 1436, 0: 488, 1: 148, 3: 368, 8: 1593}, {9: 1124, 8: 1034, 3: 247, 1: 247}, {8: 2100, 9: 1594, 3: 346, 1: 167, 0: 179}, {9: 2553, 8: 2479, 1: 168, 3: 469, 0: 301}, {9: 163, 3: 346, 1: 163, 0: 183, 8: 171}, {9: 2688, 8: 2344, 3: 370, 14: 5452, 15: 1716, 11: 426, 12: 430, 13: 443, 1: 362, 4: 2446, 7: 2724, 5: 296, 10: 58, 0: 7, 2: 1}, {8: 202, 3: 346, 0: 346, 9: 135}, {9: 123, 3: 346, 0: 346, 8: 211}, {8: 1754, 3: 346, 0: 346, 9: 1261}, {8: 174, 3: 346, 0: 346, 9: 162}, {9: 584, 8: 427, 3: 346, 0: 346}, {8: 1730, 3: 346, 0: 346, 9: 1284}, {8: 1413, 9: 1596, 0: 346, 3: 346}, {9: 1495, 8: 1562, 3: 346, 1: 164, 0: 182}, {8: 117, 3: 295, 1: 265, 9: 130, 0: 212, 7: 490, 4: 438, 5: 56, 15: 103, 11: 34, 14: 325, 12: 32, 13: 31, 10: 1}, {9: 1861, 8: 1779, 3: 368, 0: 632, 1: 7}, {8: 212, 3: 346, 1: 169, 9: 176, 0: 177}, {8: 2445, 9: 2216, 3: 352, 1: 349, 0: 3}, {9: 1185, 8: 1817, 3: 346, 0: 345}, {8: 483, 1: 163, 3: 346, 9: 537, 0: 183}, {8: 578, 9: 430, 3: 346, 0: 608}, {9: 1396, 8: 2233, 3: 1397, 1: 939, 0: 458}, {3: 346, 0: 346, 9: 1617, 8: 1479}, {8: 1582, 1: 159, 0: 460, 3: 346, 7: 708, 4: 710, 9: 1433, 14: 349, 15: 91, 12: 29, 10: 7, 11: 27, 13: 29, 5: 6}, {8: 1214, 9: 1786, 3: 346, 0: 346}, {8: 535, 9: 484, 3: 346, 0: 346}, {8: 4942, 9: 4052, 0: 630, 3: 366}, {0: 354, 3: 533, 9: 2185, 1: 445, 8: 4068, 2: 7}, {9: 417, 8: 572, 0: 616, 3: 346}, {8: 476, 15: 377, 14: 1186, 13: 97, 0: 647, 3: 367, 7: 688, 4: 696, 9: 520, 11: 108, 12: 91, 10: 14}, {9: 523, 8: 482, 3: 346, 0: 346}, {9: 291, 8: 521, 0: 279, 3: 279}, {8: 1346, 9: 1702, 3: 346, 1: 164, 0: 182}, {0: 350, 3: 436, 8: 2390, 9: 2319, 1: 354}, {9: 2149, 8: 1571, 3: 1430, 1: 1308, 0: 122}, {8: 2622, 9: 2365, 1: 156, 3: 346, 0: 190}, {9: 1613, 3: 349, 1: 349, 15: 33, 14: 88, 4: 103, 7: 110, 8: 1439, 5: 9, 11: 7, 13: 4, 12: 9, 10: 1}, {8: 1887, 9: 1124, 0: 334, 3: 417, 1: 357}, {8: 1325, 3: 440, 15: 314, 14: 1052, 1: 212, 0: 483, 9: 1696, 13: 81, 4: 580, 7: 714, 5: 139, 11: 81, 12: 79, 10: 9, 2: 3}, {8: 2994, 9: 2027, 1: 174, 3: 346, 0: 446}, {9: 1366, 8: 1645, 3: 346, 1: 346}, {9: 1039, 8: 1071, 3: 291, 0: 468, 14: 81, 4: 65, 7: 90, 5: 25, 12: 7, 15: 20, 13: 7, 11: 7, 1: 8}, {8: 2554, 9: 2147, 3: 346, 1: 171, 14: 5457, 13: 471, 15: 1703, 11: 431, 7: 2737, 4: 2518, 0: 175, 5: 233, 12: 422, 10: 40}, {9: 392, 8: 626, 3: 346, 0: 346}, {8: 2448, 9: 2263, 3: 346, 0: 346}, {8: 1494, 9: 1522, 13: 168, 11: 200, 14: 2158, 15: 648, 3: 346, 0: 457, 7: 701, 4: 649, 10: 22, 5: 60, 1: 159, 12: 177}, {8: 1080, 9: 1507, 3: 345, 15: 70, 14: 248, 1: 161, 13: 22, 7: 96, 4: 84, 11: 22, 0: 399, 5: 14, 12: 26, 10: 1}, {9: 871, 8: 1430, 3: 214, 0: 213, 14: 255, 15: 76, 11: 21, 4: 416, 7: 460, 5: 46, 10: 4, 12: 31, 13: 18}, {8: 1313, 9: 1651, 1: 170, 3: 379, 7: 2727, 4: 2715, 0: 209, 14: 257, 12: 19, 5: 28, 15: 85, 11: 25, 13: 20, 10: 3}, {9: 1038, 8: 1173, 3: 254, 1: 254}, {9: 1737, 8: 1315, 3: 346, 1: 346, 0: 271}, {9: 1813, 8: 2891, 3: 381, 0: 291, 7: 132, 1: 362, 4: 121, 15: 71, 5: 13, 14: 273, 11: 19, 12: 23, 13: 26, 10: 3}, {8: 2782, 9: 2237, 3: 346, 1: 346}, {8: 1561, 9: 1654, 1: 799, 3: 1219, 0: 651, 5: 6, 7: 6, 14: 6}, {8: 2189, 9: 2439, 3: 438, 1: 424, 0: 11, 2: 3}, {9: 129, 3: 491, 0: 377, 8: 224, 1: 108, 2: 6}, {8: 172, 3: 346, 0: 346, 9: 167}, {9: 483, 8: 523, 0: 346, 3: 346}, {8: 1317, 9: 1696, 3: 356, 15: 1676, 14: 5257, 13: 434, 12: 427, 0: 610, 4: 2154, 7: 2723, 5: 578, 11: 427, 10: 46, 1: 6}, {14: 1236, 12: 110, 15: 403, 8: 2310, 9: 1566, 3: 442, 2: 174, 7: 430, 6: 78, 11: 98, 0: 624, 4: 329, 5: 30, 13: 99, 10: 9}, {3: 346, 0: 346, 9: 179, 8: 155}, {8: 3100, 9: 2976, 3: 407, 0: 358, 1: 45, 2: 4}, {8: 3106, 9: 2950, 3: 346, 1: 346}, {8: 1762, 9: 1245, 3: 346, 0: 346}, {8: 491, 9: 508, 3: 346, 0: 608}, {8: 538, 9: 469, 3: 346, 0: 346}, {9: 2201, 8: 2333, 2: 325, 3: 1735, 1: 944, 0: 466}, {9: 89, 3: 185, 0: 145, 1: 179, 8: 79}, {8: 2003, 3: 421, 0: 234, 9: 1346, 1: 187}, {9: 1494, 8: 1540, 0: 192, 3: 346, 1: 154}, {8: 1733, 9: 1259, 3: 346, 0: 346}, {8: 2008, 9: 2621, 1: 155, 3: 346, 0: 191}, {9: 2658, 8: 2416, 3: 475, 14: 528, 1: 396, 7: 701, 4: 661, 12: 35, 15: 165, 0: 79, 11: 52, 13: 42, 5: 41, 10: 4}, {8: 1653, 9: 1386, 3: 346, 0: 275, 1: 346, 7: 136, 4: 121, 14: 283, 12: 24, 5: 17, 11: 17, 15: 84, 13: 27, 10: 2}, {1: 166, 8: 1580, 9: 1411, 3: 346, 0: 180}, {9: 513, 8: 500, 3: 346, 0: 346}, {8: 1263, 9: 1564, 3: 195, 0: 195, 4: 418, 7: 423, 15: 78, 14: 238, 13: 23, 11: 18, 10: 5, 12: 24, 5: 5}, {8: 216, 3: 346, 1: 346, 9: 122}, {9: 537, 8: 475, 3: 346, 0: 612}, {9: 1311, 8: 1132, 3: 250, 14: 3839, 13: 292, 11: 284, 15: 1147, 0: 438, 4: 401, 7: 522, 12: 321, 5: 124, 10: 32}, {9: 1555, 3: 346, 8: 1472, 1: 346}, {8: 2222, 9: 1471, 3: 354, 1: 347, 0: 275}, {9: 1477, 8: 1528, 0: 346, 3: 346}, {9: 2132, 8: 1584, 3: 448, 2: 142, 0: 558, 1: 26}, {8: 628, 0: 713, 3: 435, 9: 366, 1: 2}, {9: 221, 3: 346, 1: 346, 8: 119}, {9: 399, 8: 372, 3: 261, 0: 261}, {9: 176, 3: 346, 0: 346, 8: 153}, {9: 2354, 8: 2666, 3: 363, 1: 361, 0: 267}, {8: 149, 3: 346, 1: 156, 9: 187, 0: 190}, {8: 2643, 9: 2719, 3: 393, 1: 353, 2: 17, 0: 23}, {8: 1832, 9: 1178, 3: 346, 1: 346}, {9: 573, 12: 395, 14: 5508, 3: 385, 15: 1704, 0: 381, 11: 440, 4: 2651, 7: 2977, 5: 340, 13: 440, 10: 50, 8: 442, 1: 4}, {9: 1093, 8: 1904, 3: 346, 0: 346}, {9: 421, 3: 346, 0: 346, 8: 596}, {8: 1510, 9: 1490, 1: 346, 3: 346}, {9: 194, 3: 346, 0: 346, 8: 143}]}\n"
          ]
        }
      ],
      "source": [
        "import pandas as pd\n",
        "from collections import Counter\n",
        "\n",
        "\n",
        "\n",
        "result_dict = {'user': [], 'feature_list': []}\n",
        "\n",
        "for index, row in grouped_df.iterrows():\n",
        "    user_id = row['user']\n",
        "    user_features = row['feature']\n",
        "\n",
        "    feature_counts = dict(Counter(user_features))\n",
        "\n",
        "    result_dict['user'].append(user_id)\n",
        "    result_dict['feature_list'].append(feature_counts)\n",
        "\n",
        "# Display the result_dict\n",
        "print(result_dict)\n"
      ]
    },
    {
      "cell_type": "markdown",
      "source": [
        "Non malicious Features"
      ],
      "metadata": {
        "id": "_5zOx5dXe2zG"
      }
    },
    {
      "cell_type": "code",
      "execution_count": null,
      "metadata": {
        "id": "0vyFZYh_T1ZI"
      },
      "outputs": [],
      "source": [
        "non_malicious_list=[0,3,4,8,16]"
      ]
    },
    {
      "cell_type": "code",
      "execution_count": null,
      "metadata": {
        "id": "lQvuCmkD_HWB",
        "colab": {
          "base_uri": "https://localhost:8080/"
        },
        "outputId": "c54e43e7-eccb-4cee-9f6e-27743cb446bb"
      },
      "outputs": [
        {
          "output_type": "stream",
          "name": "stdout",
          "text": [
            "        user                                       feature_list  \\\n",
            "0    AAE0190                 {9: 2237, 3: 346, 0: 346, 8: 2474}   \n",
            "1    AAF0535  {9: 191, 8: 289, 0: 164, 3: 164, 14: 228, 4: 3...   \n",
            "2    AAF0791                 {9: 1847, 8: 1165, 3: 346, 0: 346}   \n",
            "3    AAL0706                   {8: 147, 3: 346, 1: 346, 9: 189}   \n",
            "4    AAM0658  {8: 328, 9: 331, 3: 229, 0: 224, 7: 6, 5: 6, 1...   \n",
            "..       ...                                                ...   \n",
            "995  ZKS0899  {9: 573, 12: 395, 14: 5508, 3: 385, 15: 1704, ...   \n",
            "996  ZMC0284                 {9: 1093, 8: 1904, 3: 346, 0: 346}   \n",
            "997  ZSB0649                   {9: 421, 3: 346, 0: 346, 8: 596}   \n",
            "998  ZSK0258                 {8: 1510, 9: 1490, 1: 346, 3: 346}   \n",
            "999  ZSL0305                   {9: 194, 3: 346, 0: 346, 8: 143}   \n",
            "\n",
            "     Non_Malicious  Malicious  target  \n",
            "0             3166       2237       0  \n",
            "1              963        890       0  \n",
            "2             1857       1847       0  \n",
            "3              493        535       1  \n",
            "4              781        380       0  \n",
            "..             ...        ...     ...  \n",
            "995           3859      12431       1  \n",
            "996           2596       1093       0  \n",
            "997           1288        421       0  \n",
            "998           1856       1836       0  \n",
            "999            835        194       0  \n",
            "\n",
            "[1000 rows x 5 columns]\n"
          ]
        }
      ],
      "source": [
        "# Create a DataFrame\n",
        "data_df = pd.DataFrame.from_dict(result_dict)\n",
        "\n",
        "# Calculate the sum of keys [0,3,4,8,16] and other keys for each feature\n",
        "data_df['Non_Malicious'] = data_df['feature_list'].apply(lambda x: sum(x.get(key, 0) for key in [0, 3, 4, 8, 16]))\n",
        "data_df['Malicious'] = data_df['feature_list'].apply(lambda x: sum(x.get(key, 0) for key in x.keys() if key not in [0, 3, 4, 8, 16]))\n",
        "\n",
        "data_df['target'] = data_df.apply(lambda row: 1 if row['Malicious'] > row['Non_Malicious'] else 0, axis=1)\n",
        "\n",
        "print(data_df)"
      ]
    },
    {
      "cell_type": "code",
      "execution_count": null,
      "metadata": {
        "id": "g1F0La-h_1Ey",
        "colab": {
          "base_uri": "https://localhost:8080/"
        },
        "outputId": "8e54633a-c00d-49c4-90ce-f234dc38dbe4"
      },
      "outputs": [
        {
          "output_type": "execute_result",
          "data": {
            "text/plain": [
              "0    719\n",
              "1    281\n",
              "Name: target, dtype: int64"
            ]
          },
          "metadata": {},
          "execution_count": 12
        }
      ],
      "source": [
        "data_df['target'].value_counts()"
      ]
    },
    {
      "cell_type": "code",
      "execution_count": null,
      "metadata": {
        "id": "hAo6h0SaTVh0"
      },
      "outputs": [],
      "source": [
        "threat_actors=list(data_df['user'][data_df['target']==1])"
      ]
    },
    {
      "cell_type": "markdown",
      "source": [
        "X, Y data set"
      ],
      "metadata": {
        "id": "e5UD11HxfNLN"
      }
    },
    {
      "cell_type": "code",
      "execution_count": null,
      "metadata": {
        "id": "IdRGNgcEd2hY"
      },
      "outputs": [],
      "source": [
        "start_date = joint[\"date\"].iloc[0]\n",
        "end_date = joint[\"date\"].iloc[-1]\n",
        "time_horizon = (end_date - start_date).days + 1\n",
        "\n",
        "def vectorize_dataset(df):\n",
        "    \"\"\"Takes the dataset and featurizes it.\"\"\"\n",
        "    users = set(df[\"user\"].values)\n",
        "    X = np.zeros((len(users), len(feature_map), time_horizon))\n",
        "    y = np.zeros((len(users)))\n",
        "    for index, user in enumerate(users):\n",
        "        x = vectorize_user_time_series(user, df)\n",
        "        if x.shape[1] > time_horizon:\n",
        "            x = x[:, :time_horizon]  # Trim x if it's longer than time_horizon\n",
        "        X[index, :, :x.shape[1]] = x\n",
        "        y[index] = int(user in threat_actors)\n",
        "\n",
        "    return X, y\n",
        "\n",
        "\n",
        "def date_to_index(date):\n",
        "    \"\"\"Indexes dates by counting the number of days since the starting date of the dataset.\"\"\"\n",
        "    return (date - start_date).days\n",
        "\n",
        "def extract_time_series_by_user(user_name, df):\n",
        "    \"\"\"Filters the dataframe down to a specific user.\"\"\"\n",
        "    return df[df[\"user\"] == user_name]\n",
        "\n",
        "\n",
        "def vectorize_user_time_series(user_name, df):\n",
        "    user_time_series = extract_time_series_by_user(user_name, df)\n",
        "    x = np.zeros((len(feature_map), time_horizon))\n",
        "    event_date_indices = user_time_series[\"date\"].apply(date_to_index).to_numpy()\n",
        "    event_features = user_time_series[\"feature\"].to_numpy()\n",
        "\n",
        "    for i in range(len(event_date_indices)):\n",
        "        if event_features[i] < len(feature_map):  # Check if the feature index is within bounds\n",
        "            x[event_features[i], event_date_indices[i]] += 1\n",
        "\n",
        "    return x\n",
        "\n",
        "X, y = vectorize_dataset(joint)"
      ]
    },
    {
      "cell_type": "markdown",
      "source": [
        "Splitting Train and Test data set"
      ],
      "metadata": {
        "id": "kPUl2c49fVVV"
      }
    },
    {
      "cell_type": "code",
      "execution_count": null,
      "metadata": {
        "id": "bwcq8-fca5hv"
      },
      "outputs": [],
      "source": [
        "from sklearn.model_selection import train_test_split\n",
        "\n",
        "X_train, X_test, y_train, y_test = train_test_split(X, y, stratify=y)"
      ]
    },
    {
      "cell_type": "code",
      "execution_count": null,
      "metadata": {
        "id": "3ueRnq-NIkoR"
      },
      "outputs": [],
      "source": [
        "X_train_reshaped = X_train.reshape(\n",
        "    [X_train.shape[0], X_train.shape[1] * X_train.shape[2]]\n",
        ")\n",
        "X_test_reshaped = X_test.reshape([X_test.shape[0], X_test.shape[1] * X_test.shape[2]])\n",
        "# X_train_normal = X_train_reshaped[y_train == 0, :]\n",
        "# print(X_train_normal.shape)\n",
        "# X_train_threat = X_train_reshaped[y_train == 1, :]\n",
        "# print(X_train_threat.shape)\n",
        "# X_test_normal = X_test_reshaped[y_test == 0, :]\n",
        "# print(X_test_normal.shape)\n",
        "# X_test_threat = X_test_reshaped[y_test == 1, :]\n",
        "# print(X_test_threat.shape)"
      ]
    },
    {
      "cell_type": "code",
      "execution_count": null,
      "metadata": {
        "id": "EUOz77GwsDGK",
        "colab": {
          "base_uri": "https://localhost:8080/"
        },
        "outputId": "ab788689-961a-4f5c-d638-44871e77dd66"
      },
      "outputs": [
        {
          "output_type": "execute_result",
          "data": {
            "text/plain": [
              "(750, 9018)"
            ]
          },
          "metadata": {},
          "execution_count": 17
        }
      ],
      "source": [
        "X_train_reshaped.shape"
      ]
    },
    {
      "cell_type": "markdown",
      "source": [
        "#  overSampling Techniques"
      ],
      "metadata": {
        "id": "1_WEHWuTfbDB"
      }
    },
    {
      "cell_type": "code",
      "source": [
        "from imblearn.over_sampling import SMOTE\n",
        "from imblearn.over_sampling import ADASYN\n",
        "from imblearn.under_sampling import TomekLinks\n",
        "from imblearn.pipeline import Pipeline\n",
        "from imblearn.under_sampling import EditedNearestNeighbours"
      ],
      "metadata": {
        "id": "v4exD93kfg1z"
      },
      "execution_count": null,
      "outputs": []
    },
    {
      "cell_type": "markdown",
      "source": [
        "### SMOTE"
      ],
      "metadata": {
        "id": "2Xy6O6LUfy_M"
      }
    },
    {
      "cell_type": "code",
      "source": [
        "# smote analysis\n",
        "# transform the dataset\n",
        "# oversample = SMOTE()\n",
        "# X_train_reshaped, y_train = oversample.fit_resample(X_train_reshaped, y_train)"
      ],
      "metadata": {
        "id": "ndgq5fE3f2z1"
      },
      "execution_count": null,
      "outputs": []
    },
    {
      "cell_type": "markdown",
      "source": [
        "ADASYN"
      ],
      "metadata": {
        "id": "P8GCHedRf4no"
      }
    },
    {
      "cell_type": "code",
      "execution_count": null,
      "metadata": {
        "id": "704fzcMU-46M"
      },
      "outputs": [],
      "source": [
        "# #ADASYN\n",
        "# adasyn = ADASYN(sampling_strategy=\"auto\", random_state=42)\n",
        "# X_train_reshaped, y_train = adasyn.fit_resample(X_train_reshaped, y_train)\n"
      ]
    },
    {
      "cell_type": "markdown",
      "source": [
        "###  SMOTE + TomekLinks"
      ],
      "metadata": {
        "id": "Cvss-_gPgDdU"
      }
    },
    {
      "cell_type": "code",
      "source": [
        "\n",
        "# Create a pipeline with SMOTE followed by TomekLinks\n",
        "# pipeline = Pipeline([\n",
        "#     ('smote', SMOTE(sampling_strategy='auto', random_state=42)),\n",
        "#     ('tomek', TomekLinks(sampling_strategy='auto')),\n",
        "# ])\n",
        "\n",
        "# # Apply SMOTE and TomekLinks\n",
        "# X_train_reshaped, y_train = pipeline.fit_resample(X_train_reshaped, y_train)"
      ],
      "metadata": {
        "id": "miSObYbegQqm"
      },
      "execution_count": null,
      "outputs": []
    },
    {
      "cell_type": "markdown",
      "source": [
        "### SMOTE + ENN"
      ],
      "metadata": {
        "id": "RHPWl78IgTj-"
      }
    },
    {
      "cell_type": "code",
      "execution_count": null,
      "metadata": {
        "id": "Jdf7pc_9AH5K"
      },
      "outputs": [],
      "source": [
        "\n",
        "\n",
        "# # Create a pipeline with SMOTE followed by ENN\n",
        "pipeline = Pipeline([\n",
        "    ('smote', SMOTE(sampling_strategy='auto', random_state=42)),\n",
        "    ('enn', EditedNearestNeighbours(sampling_strategy='auto')),\n",
        "])\n",
        "X_train_reshaped, y_train = pipeline.fit_resample(X_train_reshaped, y_train)"
      ]
    },
    {
      "cell_type": "code",
      "execution_count": null,
      "metadata": {
        "id": "l6ICkMvyrzBI",
        "colab": {
          "base_uri": "https://localhost:8080/"
        },
        "outputId": "fc37aa9c-e713-4fbd-a761-cec342690bea"
      },
      "outputs": [
        {
          "output_type": "execute_result",
          "data": {
            "text/plain": [
              "((1065, 9018), (1065,))"
            ]
          },
          "metadata": {},
          "execution_count": 23
        }
      ],
      "source": [
        "X_train_reshaped.shape ,y_train.shape"
      ]
    },
    {
      "cell_type": "markdown",
      "source": [
        "## MODELS"
      ],
      "metadata": {
        "id": "1qlJfpcpgZ4g"
      }
    },
    {
      "cell_type": "markdown",
      "source": [
        "Logistic Regression"
      ],
      "metadata": {
        "id": "pui999_Zgc-U"
      }
    },
    {
      "cell_type": "code",
      "execution_count": null,
      "metadata": {
        "id": "5Lh2HPMepUT5",
        "colab": {
          "base_uri": "https://localhost:8080/"
        },
        "outputId": "0b079dbb-cb77-4190-f0c8-a905305820e6"
      },
      "outputs": [
        {
          "output_type": "stream",
          "name": "stdout",
          "text": [
            "Accuracy: 0.928\n",
            "              precision    recall  f1-score   support\n",
            "\n",
            "         0.0       0.94      0.97      0.95       180\n",
            "         1.0       0.91      0.83      0.87        70\n",
            "\n",
            "    accuracy                           0.93       250\n",
            "   macro avg       0.92      0.90      0.91       250\n",
            "weighted avg       0.93      0.93      0.93       250\n",
            "\n"
          ]
        },
        {
          "output_type": "stream",
          "name": "stderr",
          "text": [
            "/usr/local/lib/python3.10/dist-packages/sklearn/linear_model/_logistic.py:458: ConvergenceWarning: lbfgs failed to converge (status=1):\n",
            "STOP: TOTAL NO. of ITERATIONS REACHED LIMIT.\n",
            "\n",
            "Increase the number of iterations (max_iter) or scale the data as shown in:\n",
            "    https://scikit-learn.org/stable/modules/preprocessing.html\n",
            "Please also refer to the documentation for alternative solver options:\n",
            "    https://scikit-learn.org/stable/modules/linear_model.html#logistic-regression\n",
            "  n_iter_i = _check_optimize_result(\n"
          ]
        }
      ],
      "source": [
        "#All methods\n",
        "# import the class\n",
        "from sklearn.metrics import classification_report\n",
        "from sklearn.linear_model import LogisticRegression\n",
        "from sklearn.metrics import accuracy_score\n",
        "\n",
        "\n",
        "# instantiate the model (using the default parameters)\n",
        "logreg = LogisticRegression(random_state=16)\n",
        "\n",
        "# fit the model with data\n",
        "logreg.fit(X_train_reshaped, y_train)\n",
        "\n",
        "y_pred = logreg.predict(X_test_reshaped)\n",
        "accuracy = accuracy_score(y_test, y_pred)\n",
        "print(\"Accuracy:\", accuracy)\n",
        "print(classification_report(y_test, y_pred))"
      ]
    },
    {
      "cell_type": "code",
      "execution_count": null,
      "metadata": {
        "id": "Hzu9AJRq0jev"
      },
      "outputs": [],
      "source": [
        "# coefficients = logreg.coef_[0]\n",
        "# feature_importance = abs(coefficients)\n",
        "# feature_importance\n",
        "\n",
        "\n",
        "# # [i for i in logreg.coef_[0] if i > 0]\n",
        "# ind=[]\n",
        "# for i in range(len(logreg.coef_[0])):\n",
        "#   if logreg.coef_[0][i] > 0:\n",
        "#     ind.append(i)\n",
        "\n"
      ]
    },
    {
      "cell_type": "markdown",
      "source": [
        "Random Forest Classifier"
      ],
      "metadata": {
        "id": "-1XHhGkBgkT4"
      }
    },
    {
      "cell_type": "code",
      "execution_count": null,
      "metadata": {
        "id": "hIZ1t3rQnqFL",
        "colab": {
          "base_uri": "https://localhost:8080/"
        },
        "outputId": "b9d42746-5f78-4833-f29e-c1e9b14a83d0"
      },
      "outputs": [
        {
          "output_type": "stream",
          "name": "stdout",
          "text": [
            "Accuracy: 0.872\n",
            "              precision    recall  f1-score   support\n",
            "\n",
            "         0.0       0.89      0.94      0.91       180\n",
            "         1.0       0.82      0.70      0.75        70\n",
            "\n",
            "    accuracy                           0.87       250\n",
            "   macro avg       0.85      0.82      0.83       250\n",
            "weighted avg       0.87      0.87      0.87       250\n",
            "\n"
          ]
        }
      ],
      "source": [
        "#SMOTE ENN\n",
        "from sklearn.ensemble import RandomForestClassifier\n",
        "from sklearn.model_selection import train_test_split\n",
        "from sklearn.metrics import accuracy_score\n",
        "from sklearn.metrics import classification_report\n",
        "\n",
        "rf = RandomForestClassifier(n_estimators=100)\n",
        "\n",
        "rf.fit(X_train_reshaped, y_train)\n",
        "\n",
        "y_pred = rf.predict(X_test_reshaped)\n",
        "\n",
        "accuracy = accuracy_score(y_test, y_pred)\n",
        "print(\"Accuracy:\", accuracy)\n",
        "print(classification_report(y_test, y_pred))"
      ]
    },
    {
      "cell_type": "markdown",
      "source": [
        "SVC"
      ],
      "metadata": {
        "id": "0NanL1PlgvFe"
      }
    },
    {
      "cell_type": "code",
      "execution_count": null,
      "metadata": {
        "id": "rnPC25lo7Ky4",
        "colab": {
          "base_uri": "https://localhost:8080/"
        },
        "outputId": "90e0a38a-8f00-4611-f42d-d12409a97e1d"
      },
      "outputs": [
        {
          "output_type": "stream",
          "name": "stdout",
          "text": [
            "SVM Accuracy: 0.932\n",
            "              precision    recall  f1-score   support\n",
            "\n",
            "         0.0       0.93      0.98      0.95       180\n",
            "         1.0       0.95      0.80      0.87        70\n",
            "\n",
            "    accuracy                           0.93       250\n",
            "   macro avg       0.94      0.89      0.91       250\n",
            "weighted avg       0.93      0.93      0.93       250\n",
            "\n"
          ]
        }
      ],
      "source": [
        "#SMOTE, ADASYN,TomekLinks\n",
        "\n",
        "from sklearn.svm import SVC\n",
        "from sklearn.metrics import classification_report\n",
        "\n",
        "# SVM model\n",
        "svm = SVC()\n",
        "svm.fit(X_train_reshaped, y_train)\n",
        "\n",
        "# Predictions on test data\n",
        "y_pred = svm.predict(X_test_reshaped)\n",
        "\n",
        "# Accuracy score\n",
        "accuracy = accuracy_score(y_test, y_pred)\n",
        "print(f\"SVM Accuracy: {accuracy}\")\n",
        "print(classification_report(y_test, y_pred))"
      ]
    },
    {
      "cell_type": "markdown",
      "source": [
        "### AdaBoostClassifier"
      ],
      "metadata": {
        "id": "RxkMS2ipg6kM"
      }
    },
    {
      "cell_type": "code",
      "execution_count": null,
      "metadata": {
        "id": "GQt2Vf9XkKmY",
        "colab": {
          "base_uri": "https://localhost:8080/"
        },
        "outputId": "c29701a1-1fbf-444b-fa37-a7eed209a80a"
      },
      "outputs": [
        {
          "output_type": "stream",
          "name": "stdout",
          "text": [
            "Accuracy: 0.852\n",
            "              precision    recall  f1-score   support\n",
            "\n",
            "         0.0       0.88      0.92      0.90       180\n",
            "         1.0       0.77      0.67      0.72        70\n",
            "\n",
            "    accuracy                           0.85       250\n",
            "   macro avg       0.82      0.80      0.81       250\n",
            "weighted avg       0.85      0.85      0.85       250\n",
            "\n"
          ]
        }
      ],
      "source": [
        "from sklearn.ensemble import AdaBoostClassifier\n",
        "from sklearn.tree import DecisionTreeClassifier\n",
        "from sklearn.metrics import classification_report\n",
        "\n",
        "# Create a weak learner (in this case, a decision tree)\n",
        "base_classifier = DecisionTreeClassifier(max_depth=1)\n",
        "\n",
        "# Create an AdaBoost classifier using the weak learner\n",
        "adaboost_classifier = AdaBoostClassifier(base_classifier, n_estimators=50, random_state=42)\n",
        "\n",
        "# Train the Adaboost classifier\n",
        "adaboost_classifier.fit(X_train_reshaped, y_train)\n",
        "\n",
        "# Make predictions on the test set\n",
        "predictions = adaboost_classifier.predict(X_test_reshaped)\n",
        "\n",
        "# Evaluate the model\n",
        "accuracy = accuracy_score(y_test, predictions)\n",
        "\n",
        "\n",
        "print(f\"Accuracy: {accuracy}\")\n",
        "print(classification_report(y_test, predictions))\n",
        "\n"
      ]
    },
    {
      "cell_type": "markdown",
      "source": [
        "### Decision Tree"
      ],
      "metadata": {
        "id": "NKfzk3nihJO0"
      }
    },
    {
      "cell_type": "code",
      "execution_count": null,
      "metadata": {
        "id": "Wt9f87a7Dt8f",
        "colab": {
          "base_uri": "https://localhost:8080/"
        },
        "outputId": "4a7504fa-c241-4dd4-ba90-6d90fe003789"
      },
      "outputs": [
        {
          "output_type": "stream",
          "name": "stdout",
          "text": [
            "Accuracy: 0.776\n",
            "              precision    recall  f1-score   support\n",
            "\n",
            "         0.0       0.86      0.83      0.84       180\n",
            "         1.0       0.59      0.64      0.62        70\n",
            "\n",
            "    accuracy                           0.78       250\n",
            "   macro avg       0.72      0.74      0.73       250\n",
            "weighted avg       0.78      0.78      0.78       250\n",
            "\n"
          ]
        }
      ],
      "source": [
        "\n",
        "\n",
        "from sklearn.tree import DecisionTreeClassifier\n",
        "from sklearn.metrics import classification_report\n",
        "# Create a Decision Tree classifier\n",
        "clf = DecisionTreeClassifier(random_state=47)\n",
        "\n",
        "# Train the classifier on the training data\n",
        "clf.fit(X_train_reshaped, y_train)\n",
        "\n",
        "# Make predictions on the test data\n",
        "y_pred = clf.predict(X_test_reshaped)\n",
        "\n",
        "# Evaluate the classifier\n",
        "accuracy = accuracy_score(y_test, y_pred)\n",
        "print(f\"Accuracy: {accuracy}\")\n",
        "print(classification_report(y_test, y_pred))"
      ]
    },
    {
      "cell_type": "markdown",
      "source": [
        "### IsolationForest"
      ],
      "metadata": {
        "id": "bx4fnZqyhS0F"
      }
    },
    {
      "cell_type": "code",
      "source": [
        "from sklearn.ensemble import IsolationForest\n",
        "from sklearn.datasets import make_classification\n",
        "from sklearn.model_selection import train_test_split\n",
        "from sklearn.metrics import classification_report\n",
        "\n",
        "# Create an Isolation Forest model\n",
        "isolation_forest = IsolationForest(n_estimators=100, contamination=0.2, random_state=40)\n",
        "\n",
        "# Fit the model on the training data\n",
        "isolation_forest.fit(X_train_reshaped)\n",
        "\n",
        "# Predict outliers/anomalies on the test set\n",
        "y_pred = isolation_forest.predict(X_test_reshaped)\n",
        "\n",
        "# Convert predictions (-1: anomaly, 1: normal) to binary labels (0: normal, 1: anomaly)\n",
        "y_pred_binary = [1 if pred == -1 else 0 for pred in y_pred]\n",
        "\n",
        "# Evaluate the Isolation Forest model\n",
        "print(\"Classification Report:\")\n",
        "print(classification_report(y_test, y_pred_binary))\n",
        "\n",
        "\n",
        "# Evaluate the Isolation Forest model\n",
        "print(\"Accuracy\")\n",
        "print(accuracy_score(y_test, y_pred_binary))\n",
        "\n",
        "\n"
      ],
      "metadata": {
        "colab": {
          "base_uri": "https://localhost:8080/"
        },
        "id": "wajB_Xeni_hy",
        "outputId": "5ca4179f-9bd6-4838-ef6a-d0804e3c25cf"
      },
      "execution_count": null,
      "outputs": [
        {
          "output_type": "stream",
          "name": "stdout",
          "text": [
            "Classification Report:\n",
            "              precision    recall  f1-score   support\n",
            "\n",
            "         0.0       0.82      0.95      0.88       180\n",
            "         1.0       0.78      0.46      0.58        70\n",
            "\n",
            "    accuracy                           0.81       250\n",
            "   macro avg       0.80      0.70      0.73       250\n",
            "weighted avg       0.81      0.81      0.79       250\n",
            "\n",
            "Accuracy\n",
            "0.812\n"
          ]
        }
      ]
    },
    {
      "cell_type": "markdown",
      "source": [
        "### CNN"
      ],
      "metadata": {
        "id": "8QSA_tPzg_ve"
      }
    },
    {
      "cell_type": "code",
      "source": [
        "from tensorflow.keras.models import Sequential\n",
        "from tensorflow.keras.layers import Conv1D, MaxPooling1D, Flatten, Dense\n",
        "from tensorflow.keras.optimizers import Adam\n",
        "\n",
        "# Define the input shape based on your data\n",
        "input_shape = (9018, 1)  # Assuming each row has 9018 features\n",
        "\n",
        "# Reshape your data to fit the CNN input shape\n",
        "X_train_reshaped_cnn = X_train_reshaped.reshape((-1, 9018, 1))  # Assuming X_train contains your training features\n",
        "\n",
        "# Create the CNN model\n",
        "model = Sequential()\n",
        "\n",
        "# Add convolutional layers\n",
        "model.add(Conv1D(32, kernel_size=3, activation='relu', input_shape=input_shape))\n",
        "model.add(MaxPooling1D(pool_size=2))\n",
        "model.add(Conv1D(64, kernel_size=3, activation='relu'))\n",
        "model.add(MaxPooling1D(pool_size=2))\n",
        "\n",
        "# Flatten the output for Dense layers\n",
        "model.add(Flatten())\n",
        "\n",
        "# Add Dense layers for classification\n",
        "model.add(Dense(128, activation='relu'))\n",
        "model.add(Dense(2, activation='softmax'))  # 2 output classes\n",
        "\n",
        "# Compile the model\n",
        "model.compile(loss='sparse_categorical_crossentropy',\n",
        "              optimizer=Adam(),\n",
        "              metrics=['accuracy'])\n",
        "\n",
        "# Train the model\n",
        "model.fit(X_train_reshaped_cnn, y_train, epochs=19, batch_size=32, validation_split=0.2)\n",
        "\n",
        "\n",
        "from sklearn.metrics import classification_report\n",
        "import numpy as np\n",
        "\n",
        "# Reshape the test data if required\n",
        "X_test_reshaped_cnn = X_test_reshaped.reshape((-1, 9018, 1))  # Adjust the shape based on your test data\n",
        "\n",
        "# Make predictions\n",
        "predictions = model.predict(X_test_reshaped_cnn)\n",
        "\n",
        "# Convert predictions from one-hot encoding to class labels\n",
        "predicted_classes = np.argmax(predictions, axis=1)\n",
        "\n",
        "# Calculate precision, recall, and F1 score\n",
        "report = classification_report(y_test, predicted_classes)\n",
        "accuracy = accuracy_score(y_test, predicted_classes)\n",
        "print(accuracy)\n",
        "print(\"Classification Report:\\n\", report)\n"
      ],
      "metadata": {
        "colab": {
          "base_uri": "https://localhost:8080/"
        },
        "id": "w4xAoB8fNP8d",
        "outputId": "d81d8c63-3905-4dd6-a49d-1abe4f1c271d"
      },
      "execution_count": null,
      "outputs": [
        {
          "output_type": "stream",
          "name": "stdout",
          "text": [
            "Epoch 1/19\n",
            "27/27 [==============================] - 12s 39ms/step - loss: 1.3072 - accuracy: 0.7723 - val_loss: 0.5415 - val_accuracy: 0.6291\n",
            "Epoch 2/19\n",
            "27/27 [==============================] - 1s 24ms/step - loss: 0.2116 - accuracy: 0.9096 - val_loss: 0.1056 - val_accuracy: 0.9906\n",
            "Epoch 3/19\n",
            "27/27 [==============================] - 1s 24ms/step - loss: 0.0873 - accuracy: 0.9789 - val_loss: 0.0636 - val_accuracy: 0.9906\n",
            "Epoch 4/19\n",
            "27/27 [==============================] - 1s 24ms/step - loss: 0.0392 - accuracy: 0.9906 - val_loss: 0.0167 - val_accuracy: 0.9953\n",
            "Epoch 5/19\n",
            "27/27 [==============================] - 1s 24ms/step - loss: 0.0248 - accuracy: 0.9965 - val_loss: 0.0333 - val_accuracy: 0.9906\n",
            "Epoch 6/19\n",
            "27/27 [==============================] - 1s 23ms/step - loss: 0.0131 - accuracy: 1.0000 - val_loss: 0.0882 - val_accuracy: 0.9765\n",
            "Epoch 7/19\n",
            "27/27 [==============================] - 1s 24ms/step - loss: 0.0266 - accuracy: 0.9906 - val_loss: 0.0302 - val_accuracy: 0.9906\n",
            "Epoch 8/19\n",
            "27/27 [==============================] - 1s 24ms/step - loss: 0.0081 - accuracy: 0.9988 - val_loss: 0.0120 - val_accuracy: 0.9953\n",
            "Epoch 9/19\n",
            "27/27 [==============================] - 1s 24ms/step - loss: 0.0028 - accuracy: 1.0000 - val_loss: 0.0121 - val_accuracy: 0.9953\n",
            "Epoch 10/19\n",
            "27/27 [==============================] - 1s 24ms/step - loss: 0.0016 - accuracy: 1.0000 - val_loss: 0.0076 - val_accuracy: 1.0000\n",
            "Epoch 11/19\n",
            "27/27 [==============================] - 1s 24ms/step - loss: 9.4958e-04 - accuracy: 1.0000 - val_loss: 0.0076 - val_accuracy: 1.0000\n",
            "Epoch 12/19\n",
            "27/27 [==============================] - 1s 23ms/step - loss: 6.5221e-04 - accuracy: 1.0000 - val_loss: 0.0088 - val_accuracy: 0.9953\n",
            "Epoch 13/19\n",
            "27/27 [==============================] - 1s 29ms/step - loss: 4.9117e-04 - accuracy: 1.0000 - val_loss: 0.0067 - val_accuracy: 1.0000\n",
            "Epoch 14/19\n",
            "27/27 [==============================] - 1s 26ms/step - loss: 3.9830e-04 - accuracy: 1.0000 - val_loss: 0.0069 - val_accuracy: 1.0000\n",
            "Epoch 15/19\n",
            "27/27 [==============================] - 1s 26ms/step - loss: 3.3669e-04 - accuracy: 1.0000 - val_loss: 0.0055 - val_accuracy: 1.0000\n",
            "Epoch 16/19\n",
            "27/27 [==============================] - 1s 26ms/step - loss: 2.8071e-04 - accuracy: 1.0000 - val_loss: 0.0058 - val_accuracy: 1.0000\n",
            "Epoch 17/19\n",
            "27/27 [==============================] - 1s 26ms/step - loss: 2.3610e-04 - accuracy: 1.0000 - val_loss: 0.0057 - val_accuracy: 1.0000\n",
            "Epoch 18/19\n",
            "27/27 [==============================] - 1s 26ms/step - loss: 2.0733e-04 - accuracy: 1.0000 - val_loss: 0.0055 - val_accuracy: 1.0000\n",
            "Epoch 19/19\n",
            "27/27 [==============================] - 1s 30ms/step - loss: 1.7172e-04 - accuracy: 1.0000 - val_loss: 0.0068 - val_accuracy: 0.9953\n",
            "8/8 [==============================] - 0s 15ms/step\n",
            "0.944\n",
            "Classification Report:\n",
            "               precision    recall  f1-score   support\n",
            "\n",
            "         0.0       0.95      0.98      0.96       180\n",
            "         1.0       0.94      0.86      0.90        70\n",
            "\n",
            "    accuracy                           0.94       250\n",
            "   macro avg       0.94      0.92      0.93       250\n",
            "weighted avg       0.94      0.94      0.94       250\n",
            "\n"
          ]
        }
      ]
    },
    {
      "cell_type": "code",
      "source": [
        "# from tensorflow.keras.models import Sequential\n",
        "# from tensorflow.keras.layers import LSTM, Dense, Dropout\n",
        "# from tensorflow.keras.optimizers import Adam\n",
        "# from tensorflow.keras.callbacks import EarlyStopping\n",
        "\n",
        "# Assuming X_train contains your training features and y_train contains corresponding labels\n",
        "\n",
        "# model = Sequential()\n",
        "\n",
        "# # Add LSTM layer\n",
        "# model.add(LSTM(units=128, input_shape=(9018, 1), return_sequences=True))\n",
        "# model.add(Dropout(0.3))  # Adjust dropout rate for regularization\n",
        "\n",
        "# model.add(LSTM(units=64))  # Add another LSTM layer\n",
        "# model.add(Dropout(0.3))  # Dropout for regularization\n",
        "\n",
        "# # Dense layers for classification\n",
        "# model.add(Dense(32, activation='relu'))\n",
        "# model.add(Dense(1, activation='sigmoid'))  # Sigmoid for binary classification\n",
        "\n",
        "# # Compile the model\n",
        "# model.compile(loss='binary_crossentropy', optimizer=Adam(learning_rate=0.0001), metrics=['accuracy'])\n",
        "\n",
        "# # Early stopping to prevent overfitting\n",
        "# early_stopping = EarlyStopping(monitor='val_loss', patience=5, restore_best_weights=True)\n",
        "\n",
        "# # Train the model\n",
        "# history = model.fit(X_train_reshaped, y_train, epochs=50, batch_size=64, validation_split=0.2, callbacks=[early_stopping])\n",
        "\n",
        "# X_test_reshaped = X_test_reshaped.reshape((X_test_reshaped.shape[0], 9018, 1))\n",
        "\n",
        "# y_pred = model.predict(X_test_reshaped)\n",
        "\n",
        "# y_pred_binary = (y_pred > 0.5).astype(int).flatten()\n",
        "\n",
        "\n",
        "# from sklearn.metrics import accuracy_score, precision_score, recall_score, f1_score, confusion_matrix\n",
        "\n",
        "\n",
        "# accuracy = accuracy_score(y_test, y_pred_binary)\n",
        "# print(f\"Accuracy: {accuracy:.4f}\")\n",
        "\n",
        "# precision = precision_score(y_test, y_pred_binary)\n",
        "# recall = recall_score(y_test, y_pred_binary)\n",
        "# f1 = f1_score(y_test, y_pred_binary)\n",
        "\n",
        "# print(f\"Precision: {precision:.4f}\")\n",
        "# print(f\"Recall: {recall:.4f}\")\n",
        "# print(f\"F1-Score: {f1:.4f}\")\n",
        "\n",
        "\n",
        "# conf_matrix = confusion_matrix(y_test, y_pred_binary)\n",
        "# print(\"Confusion Matrix:\")\n",
        "# print(conf_matrix)\n"
      ],
      "metadata": {
        "id": "o1P9I_P-OzTC"
      },
      "execution_count": null,
      "outputs": []
    },
    {
      "cell_type": "code",
      "source": [],
      "metadata": {
        "id": "zILV5Ofv55Is"
      },
      "execution_count": null,
      "outputs": []
    },
    {
      "cell_type": "code",
      "source": [
        "# from tensorflow.keras.models import Sequential\n",
        "# from tensorflow.keras.layers import Dropout, SimpleRNN, Dense\n",
        "# from tensorflow.keras.optimizers import Adam\n",
        "\n",
        "# model = Sequential()\n",
        "\n",
        "# model.add(SimpleRNN(units=128, activation='tanh', input_shape=(9018, 1), return_sequences=True))\n",
        "# model.add(Dropout(0.3))  # Adjust dropout rate\n",
        "\n",
        "# model.add(SimpleRNN(units=64, activation='tanh'))\n",
        "# model.add(Dense(32, activation='relu'))\n",
        "# model.add(Dense(2, activation='softmax'))\n",
        "\n",
        "# model.compile(loss='sparse_categorical_crossentropy',\n",
        "#               optimizer=Adam(learning_rate=0.0001),  # Change lr to learning_rate\n",
        "#               metrics=['accuracy'])\n",
        "\n",
        "# model.fit(X_train_reshaped, y_train, epochs=15, batch_size=64, validation_split=0.2)\n"
      ],
      "metadata": {
        "id": "AT_w6uAkQchE"
      },
      "execution_count": null,
      "outputs": []
    },
    {
      "cell_type": "code",
      "execution_count": null,
      "metadata": {
        "id": "lhJ0Lt2-bsrF"
      },
      "outputs": [],
      "source": [
        "# from sklearn.ensemble import IsolationForest\n",
        "\n",
        "# contamination_parameter = 0.035\n",
        "# IF = IsolationForest(n_estimators=100, max_samples=256, contamination=contamination_parameter)\n",
        "\n",
        "# IF.fit(X_train_reshaped)\n",
        "# normal_scores = IF.decision_function(X_train_normal)\n",
        "\n",
        "# import matplotlib.mlab as mlab\n",
        "# import matplotlib.pyplot as plt\n",
        "\n",
        "# fig = plt.figure(figsize=(8, 4), dpi=600, facecolor=\"w\", edgecolor=\"k\")\n",
        "\n",
        "# normal = plt.hist(normal_scores, 50, density=True)\n",
        "\n",
        "# #plt.xlim((-0.2, 0.2))\n",
        "# plt.xlabel(\"Anomaly score\")\n",
        "# plt.ylabel(\"Percentage\")\n",
        "# plt.title(\"Distribution of anomaly score for non threats\")\n",
        "\n",
        "# y_pred_normal=IF.predict(X_test_normal)\n",
        "# 100*list(y_pred_normal).count(1)/len(list(y_pred_normal))\n",
        "\n",
        "# anomaly_scores = IF.decision_function(X_train_threat)\n",
        "\n",
        "# fig = plt.figure(figsize=(8, 4), dpi=600, facecolor=\"w\", edgecolor=\"k\")\n",
        "\n",
        "# anomaly = plt.hist(anomaly_scores, 50, density=True)\n",
        "\n",
        "# plt.xlim((-0.2, 0.2))\n",
        "# plt.xlabel(\"Anomaly score\")\n",
        "# plt.ylabel(\"Percentage\")\n",
        "# plt.title(\"Distribution of anomaly score for threats\")\n",
        "\n",
        "# y_pred_threat=IF.predict(X_test_threat)\n",
        "# 100*list(y_pred_threat).count(-1)/len(list(X_test_threat))\n"
      ]
    },
    {
      "cell_type": "code",
      "source": [
        "import pandas as pd\n",
        "\n",
        "# Define the features and their descriptions\n",
        "features_data = {\n",
        "    \"Feature\": [\n",
        "        \"Weekday_Logon_Normal\", \"Weekday_Logon_After\", \"Weekend_Logon\", \"Logoff\",\n",
        "        \"Connect_Normal\", \"Connect_After\", \"Connect_Weekend\", \"Disconnect\",\n",
        "        \"Email_In\", \"Email_Out\",\n",
        "        \"File_exe\", \"File_jpg\", \"File_zip\", \"File_txt\", \"File_doc\", \"File_pdf\", \"File_other\"\n",
        "    ],\n",
        "    \"Description\": [\n",
        "        \"Indicates the user's logon during normal weekday hours (Monday to Friday, 8 AM to 5 PM).\",\n",
        "        \"Indicates the user's logon after normal weekday hours.\",\n",
        "        \"Indicates the user's logon during the weekend.\",\n",
        "        \"Represents the user's logoff activity.\",\n",
        "        \"Reflects the user's device connection during normal weekday hours.\",\n",
        "        \"Indicates the user's device connection after normal weekday hours.\",\n",
        "        \"Indicates the user's device connection during the weekend.\",\n",
        "        \"Represents the user's device disconnection activity.\",\n",
        "        \"Indicates internal emails sent within the organization.\",\n",
        "        \"Marks emails sent externally, outside the organization.\",\n",
        "        \"Records the use of executable files.\",\n",
        "        \"Indicates the use of JPG image files.\",\n",
        "        \"Represents the use of ZIP archive files.\",\n",
        "        \"Indicates the use of text files.\",\n",
        "        \"Represents the use of Word document files.\",\n",
        "        \"Indicates the use of PDF files.\",\n",
        "        \"Captures file types not falling into the specified categories (e.g., files with extensions other than .exe, .jpg, .zip, .txt, .doc, .pdf).\"\n",
        "    ]\n",
        "}\n",
        "\n",
        "# Create a DataFrame from the dictionary\n",
        "features_df = pd.DataFrame(features_data)\n",
        "\n",
        "# Display the DataFrame\n",
        "print(features_df)\n"
      ],
      "metadata": {
        "id": "NgJPnO543z06",
        "colab": {
          "base_uri": "https://localhost:8080/"
        },
        "outputId": "2108801a-9acf-4c6a-bc0a-5cf96bbdb919"
      },
      "execution_count": null,
      "outputs": [
        {
          "output_type": "stream",
          "name": "stdout",
          "text": [
            "                 Feature                                        Description\n",
            "0   Weekday_Logon_Normal  Indicates the user's logon during normal weekd...\n",
            "1    Weekday_Logon_After  Indicates the user's logon after normal weekda...\n",
            "2          Weekend_Logon     Indicates the user's logon during the weekend.\n",
            "3                 Logoff             Represents the user's logoff activity.\n",
            "4         Connect_Normal  Reflects the user's device connection during n...\n",
            "5          Connect_After  Indicates the user's device connection after n...\n",
            "6        Connect_Weekend  Indicates the user's device connection during ...\n",
            "7             Disconnect  Represents the user's device disconnection act...\n",
            "8               Email_In  Indicates internal emails sent within the orga...\n",
            "9              Email_Out  Marks emails sent externally, outside the orga...\n",
            "10              File_exe               Records the use of executable files.\n",
            "11              File_jpg              Indicates the use of JPG image files.\n",
            "12              File_zip           Represents the use of ZIP archive files.\n",
            "13              File_txt                   Indicates the use of text files.\n",
            "14              File_doc         Represents the use of Word document files.\n",
            "15              File_pdf                    Indicates the use of PDF files.\n",
            "16            File_other  Captures file types not falling into the speci...\n"
          ]
        }
      ]
    },
    {
      "cell_type": "code",
      "source": [
        "features_df"
      ],
      "metadata": {
        "colab": {
          "base_uri": "https://localhost:8080/",
          "height": 683
        },
        "id": "2D7itLpj2WSw",
        "outputId": "531b2350-333c-4801-e2e0-c2beaee6fa1b"
      },
      "execution_count": null,
      "outputs": [
        {
          "output_type": "execute_result",
          "data": {
            "text/plain": [
              "                 Feature                                        Description\n",
              "0   Weekday_Logon_Normal  Indicates the user's logon during normal weekd...\n",
              "1    Weekday_Logon_After  Indicates the user's logon after normal weekda...\n",
              "2          Weekend_Logon     Indicates the user's logon during the weekend.\n",
              "3                 Logoff             Represents the user's logoff activity.\n",
              "4         Connect_Normal  Reflects the user's device connection during n...\n",
              "5          Connect_After  Indicates the user's device connection after n...\n",
              "6        Connect_Weekend  Indicates the user's device connection during ...\n",
              "7             Disconnect  Represents the user's device disconnection act...\n",
              "8               Email_In  Indicates internal emails sent within the orga...\n",
              "9              Email_Out  Marks emails sent externally, outside the orga...\n",
              "10              File_exe               Records the use of executable files.\n",
              "11              File_jpg              Indicates the use of JPG image files.\n",
              "12              File_zip           Represents the use of ZIP archive files.\n",
              "13              File_txt                   Indicates the use of text files.\n",
              "14              File_doc         Represents the use of Word document files.\n",
              "15              File_pdf                    Indicates the use of PDF files.\n",
              "16            File_other  Captures file types not falling into the speci..."
            ],
            "text/html": [
              "\n",
              "  <div id=\"df-b99a2533-4d15-46ee-9d20-f0f9ea8e6f66\" class=\"colab-df-container\">\n",
              "    <div>\n",
              "<style scoped>\n",
              "    .dataframe tbody tr th:only-of-type {\n",
              "        vertical-align: middle;\n",
              "    }\n",
              "\n",
              "    .dataframe tbody tr th {\n",
              "        vertical-align: top;\n",
              "    }\n",
              "\n",
              "    .dataframe thead th {\n",
              "        text-align: right;\n",
              "    }\n",
              "</style>\n",
              "<table border=\"1\" class=\"dataframe\">\n",
              "  <thead>\n",
              "    <tr style=\"text-align: right;\">\n",
              "      <th></th>\n",
              "      <th>Feature</th>\n",
              "      <th>Description</th>\n",
              "    </tr>\n",
              "  </thead>\n",
              "  <tbody>\n",
              "    <tr>\n",
              "      <th>0</th>\n",
              "      <td>Weekday_Logon_Normal</td>\n",
              "      <td>Indicates the user's logon during normal weekd...</td>\n",
              "    </tr>\n",
              "    <tr>\n",
              "      <th>1</th>\n",
              "      <td>Weekday_Logon_After</td>\n",
              "      <td>Indicates the user's logon after normal weekda...</td>\n",
              "    </tr>\n",
              "    <tr>\n",
              "      <th>2</th>\n",
              "      <td>Weekend_Logon</td>\n",
              "      <td>Indicates the user's logon during the weekend.</td>\n",
              "    </tr>\n",
              "    <tr>\n",
              "      <th>3</th>\n",
              "      <td>Logoff</td>\n",
              "      <td>Represents the user's logoff activity.</td>\n",
              "    </tr>\n",
              "    <tr>\n",
              "      <th>4</th>\n",
              "      <td>Connect_Normal</td>\n",
              "      <td>Reflects the user's device connection during n...</td>\n",
              "    </tr>\n",
              "    <tr>\n",
              "      <th>5</th>\n",
              "      <td>Connect_After</td>\n",
              "      <td>Indicates the user's device connection after n...</td>\n",
              "    </tr>\n",
              "    <tr>\n",
              "      <th>6</th>\n",
              "      <td>Connect_Weekend</td>\n",
              "      <td>Indicates the user's device connection during ...</td>\n",
              "    </tr>\n",
              "    <tr>\n",
              "      <th>7</th>\n",
              "      <td>Disconnect</td>\n",
              "      <td>Represents the user's device disconnection act...</td>\n",
              "    </tr>\n",
              "    <tr>\n",
              "      <th>8</th>\n",
              "      <td>Email_In</td>\n",
              "      <td>Indicates internal emails sent within the orga...</td>\n",
              "    </tr>\n",
              "    <tr>\n",
              "      <th>9</th>\n",
              "      <td>Email_Out</td>\n",
              "      <td>Marks emails sent externally, outside the orga...</td>\n",
              "    </tr>\n",
              "    <tr>\n",
              "      <th>10</th>\n",
              "      <td>File_exe</td>\n",
              "      <td>Records the use of executable files.</td>\n",
              "    </tr>\n",
              "    <tr>\n",
              "      <th>11</th>\n",
              "      <td>File_jpg</td>\n",
              "      <td>Indicates the use of JPG image files.</td>\n",
              "    </tr>\n",
              "    <tr>\n",
              "      <th>12</th>\n",
              "      <td>File_zip</td>\n",
              "      <td>Represents the use of ZIP archive files.</td>\n",
              "    </tr>\n",
              "    <tr>\n",
              "      <th>13</th>\n",
              "      <td>File_txt</td>\n",
              "      <td>Indicates the use of text files.</td>\n",
              "    </tr>\n",
              "    <tr>\n",
              "      <th>14</th>\n",
              "      <td>File_doc</td>\n",
              "      <td>Represents the use of Word document files.</td>\n",
              "    </tr>\n",
              "    <tr>\n",
              "      <th>15</th>\n",
              "      <td>File_pdf</td>\n",
              "      <td>Indicates the use of PDF files.</td>\n",
              "    </tr>\n",
              "    <tr>\n",
              "      <th>16</th>\n",
              "      <td>File_other</td>\n",
              "      <td>Captures file types not falling into the speci...</td>\n",
              "    </tr>\n",
              "  </tbody>\n",
              "</table>\n",
              "</div>\n",
              "    <div class=\"colab-df-buttons\">\n",
              "\n",
              "  <div class=\"colab-df-container\">\n",
              "    <button class=\"colab-df-convert\" onclick=\"convertToInteractive('df-b99a2533-4d15-46ee-9d20-f0f9ea8e6f66')\"\n",
              "            title=\"Convert this dataframe to an interactive table.\"\n",
              "            style=\"display:none;\">\n",
              "\n",
              "  <svg xmlns=\"http://www.w3.org/2000/svg\" height=\"24px\" viewBox=\"0 -960 960 960\">\n",
              "    <path d=\"M120-120v-720h720v720H120Zm60-500h600v-160H180v160Zm220 220h160v-160H400v160Zm0 220h160v-160H400v160ZM180-400h160v-160H180v160Zm440 0h160v-160H620v160ZM180-180h160v-160H180v160Zm440 0h160v-160H620v160Z\"/>\n",
              "  </svg>\n",
              "    </button>\n",
              "\n",
              "  <style>\n",
              "    .colab-df-container {\n",
              "      display:flex;\n",
              "      gap: 12px;\n",
              "    }\n",
              "\n",
              "    .colab-df-convert {\n",
              "      background-color: #E8F0FE;\n",
              "      border: none;\n",
              "      border-radius: 50%;\n",
              "      cursor: pointer;\n",
              "      display: none;\n",
              "      fill: #1967D2;\n",
              "      height: 32px;\n",
              "      padding: 0 0 0 0;\n",
              "      width: 32px;\n",
              "    }\n",
              "\n",
              "    .colab-df-convert:hover {\n",
              "      background-color: #E2EBFA;\n",
              "      box-shadow: 0px 1px 2px rgba(60, 64, 67, 0.3), 0px 1px 3px 1px rgba(60, 64, 67, 0.15);\n",
              "      fill: #174EA6;\n",
              "    }\n",
              "\n",
              "    .colab-df-buttons div {\n",
              "      margin-bottom: 4px;\n",
              "    }\n",
              "\n",
              "    [theme=dark] .colab-df-convert {\n",
              "      background-color: #3B4455;\n",
              "      fill: #D2E3FC;\n",
              "    }\n",
              "\n",
              "    [theme=dark] .colab-df-convert:hover {\n",
              "      background-color: #434B5C;\n",
              "      box-shadow: 0px 1px 3px 1px rgba(0, 0, 0, 0.15);\n",
              "      filter: drop-shadow(0px 1px 2px rgba(0, 0, 0, 0.3));\n",
              "      fill: #FFFFFF;\n",
              "    }\n",
              "  </style>\n",
              "\n",
              "    <script>\n",
              "      const buttonEl =\n",
              "        document.querySelector('#df-b99a2533-4d15-46ee-9d20-f0f9ea8e6f66 button.colab-df-convert');\n",
              "      buttonEl.style.display =\n",
              "        google.colab.kernel.accessAllowed ? 'block' : 'none';\n",
              "\n",
              "      async function convertToInteractive(key) {\n",
              "        const element = document.querySelector('#df-b99a2533-4d15-46ee-9d20-f0f9ea8e6f66');\n",
              "        const dataTable =\n",
              "          await google.colab.kernel.invokeFunction('convertToInteractive',\n",
              "                                                    [key], {});\n",
              "        if (!dataTable) return;\n",
              "\n",
              "        const docLinkHtml = 'Like what you see? Visit the ' +\n",
              "          '<a target=\"_blank\" href=https://colab.research.google.com/notebooks/data_table.ipynb>data table notebook</a>'\n",
              "          + ' to learn more about interactive tables.';\n",
              "        element.innerHTML = '';\n",
              "        dataTable['output_type'] = 'display_data';\n",
              "        await google.colab.output.renderOutput(dataTable, element);\n",
              "        const docLink = document.createElement('div');\n",
              "        docLink.innerHTML = docLinkHtml;\n",
              "        element.appendChild(docLink);\n",
              "      }\n",
              "    </script>\n",
              "  </div>\n",
              "\n",
              "\n",
              "<div id=\"df-fb70460b-b261-4c7c-9b5f-f067dffc33a5\">\n",
              "  <button class=\"colab-df-quickchart\" onclick=\"quickchart('df-fb70460b-b261-4c7c-9b5f-f067dffc33a5')\"\n",
              "            title=\"Suggest charts\"\n",
              "            style=\"display:none;\">\n",
              "\n",
              "<svg xmlns=\"http://www.w3.org/2000/svg\" height=\"24px\"viewBox=\"0 0 24 24\"\n",
              "     width=\"24px\">\n",
              "    <g>\n",
              "        <path d=\"M19 3H5c-1.1 0-2 .9-2 2v14c0 1.1.9 2 2 2h14c1.1 0 2-.9 2-2V5c0-1.1-.9-2-2-2zM9 17H7v-7h2v7zm4 0h-2V7h2v10zm4 0h-2v-4h2v4z\"/>\n",
              "    </g>\n",
              "</svg>\n",
              "  </button>\n",
              "\n",
              "<style>\n",
              "  .colab-df-quickchart {\n",
              "      --bg-color: #E8F0FE;\n",
              "      --fill-color: #1967D2;\n",
              "      --hover-bg-color: #E2EBFA;\n",
              "      --hover-fill-color: #174EA6;\n",
              "      --disabled-fill-color: #AAA;\n",
              "      --disabled-bg-color: #DDD;\n",
              "  }\n",
              "\n",
              "  [theme=dark] .colab-df-quickchart {\n",
              "      --bg-color: #3B4455;\n",
              "      --fill-color: #D2E3FC;\n",
              "      --hover-bg-color: #434B5C;\n",
              "      --hover-fill-color: #FFFFFF;\n",
              "      --disabled-bg-color: #3B4455;\n",
              "      --disabled-fill-color: #666;\n",
              "  }\n",
              "\n",
              "  .colab-df-quickchart {\n",
              "    background-color: var(--bg-color);\n",
              "    border: none;\n",
              "    border-radius: 50%;\n",
              "    cursor: pointer;\n",
              "    display: none;\n",
              "    fill: var(--fill-color);\n",
              "    height: 32px;\n",
              "    padding: 0;\n",
              "    width: 32px;\n",
              "  }\n",
              "\n",
              "  .colab-df-quickchart:hover {\n",
              "    background-color: var(--hover-bg-color);\n",
              "    box-shadow: 0 1px 2px rgba(60, 64, 67, 0.3), 0 1px 3px 1px rgba(60, 64, 67, 0.15);\n",
              "    fill: var(--button-hover-fill-color);\n",
              "  }\n",
              "\n",
              "  .colab-df-quickchart-complete:disabled,\n",
              "  .colab-df-quickchart-complete:disabled:hover {\n",
              "    background-color: var(--disabled-bg-color);\n",
              "    fill: var(--disabled-fill-color);\n",
              "    box-shadow: none;\n",
              "  }\n",
              "\n",
              "  .colab-df-spinner {\n",
              "    border: 2px solid var(--fill-color);\n",
              "    border-color: transparent;\n",
              "    border-bottom-color: var(--fill-color);\n",
              "    animation:\n",
              "      spin 1s steps(1) infinite;\n",
              "  }\n",
              "\n",
              "  @keyframes spin {\n",
              "    0% {\n",
              "      border-color: transparent;\n",
              "      border-bottom-color: var(--fill-color);\n",
              "      border-left-color: var(--fill-color);\n",
              "    }\n",
              "    20% {\n",
              "      border-color: transparent;\n",
              "      border-left-color: var(--fill-color);\n",
              "      border-top-color: var(--fill-color);\n",
              "    }\n",
              "    30% {\n",
              "      border-color: transparent;\n",
              "      border-left-color: var(--fill-color);\n",
              "      border-top-color: var(--fill-color);\n",
              "      border-right-color: var(--fill-color);\n",
              "    }\n",
              "    40% {\n",
              "      border-color: transparent;\n",
              "      border-right-color: var(--fill-color);\n",
              "      border-top-color: var(--fill-color);\n",
              "    }\n",
              "    60% {\n",
              "      border-color: transparent;\n",
              "      border-right-color: var(--fill-color);\n",
              "    }\n",
              "    80% {\n",
              "      border-color: transparent;\n",
              "      border-right-color: var(--fill-color);\n",
              "      border-bottom-color: var(--fill-color);\n",
              "    }\n",
              "    90% {\n",
              "      border-color: transparent;\n",
              "      border-bottom-color: var(--fill-color);\n",
              "    }\n",
              "  }\n",
              "</style>\n",
              "\n",
              "  <script>\n",
              "    async function quickchart(key) {\n",
              "      const quickchartButtonEl =\n",
              "        document.querySelector('#' + key + ' button');\n",
              "      quickchartButtonEl.disabled = true;  // To prevent multiple clicks.\n",
              "      quickchartButtonEl.classList.add('colab-df-spinner');\n",
              "      try {\n",
              "        const charts = await google.colab.kernel.invokeFunction(\n",
              "            'suggestCharts', [key], {});\n",
              "      } catch (error) {\n",
              "        console.error('Error during call to suggestCharts:', error);\n",
              "      }\n",
              "      quickchartButtonEl.classList.remove('colab-df-spinner');\n",
              "      quickchartButtonEl.classList.add('colab-df-quickchart-complete');\n",
              "    }\n",
              "    (() => {\n",
              "      let quickchartButtonEl =\n",
              "        document.querySelector('#df-fb70460b-b261-4c7c-9b5f-f067dffc33a5 button');\n",
              "      quickchartButtonEl.style.display =\n",
              "        google.colab.kernel.accessAllowed ? 'block' : 'none';\n",
              "    })();\n",
              "  </script>\n",
              "</div>\n",
              "    </div>\n",
              "  </div>\n"
            ]
          },
          "metadata": {},
          "execution_count": 2
        }
      ]
    }
  ],
  "metadata": {
    "colab": {
      "provenance": [],
      "gpuType": "T4"
    },
    "kernelspec": {
      "display_name": "Python 3",
      "name": "python3"
    },
    "language_info": {
      "name": "python"
    },
    "accelerator": "GPU"
  },
  "nbformat": 4,
  "nbformat_minor": 0
}